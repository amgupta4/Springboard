{
 "cells": [
  {
   "cell_type": "markdown",
   "metadata": {},
   "source": [
    "# Abstract"
   ]
  },
  {
   "cell_type": "markdown",
   "metadata": {},
   "source": [
    "37,461 automobile accident fatalities occured in the United States in 2016 (\"Quick Facts 2016\", 2017). Improving the safety of roads has traditionally been approached by governmental agencies including the National Highway Traffic Safety Administration and State Departments of Transporation. In past literature, automobile crash data is analyzed using time-series prediction technicques to identify road segments and/or intersections likely to experience future crashes (Lord & Mannering, 2010). After dangerous zones have been identified road modifications can be implemented improving public safety.\n",
    "\n",
    "This project introduces a historical safety metric for evaluating the relative danger of roads in a road network. The historical safety metric can be used to update routing choices of individual drivers improving public safety by avoiding historically more dangerous routes. The metric is constructed using crash frequency, severity, location and traffic information. An analysis of publically-available crash and traffic data in Allgeheny County, Pennsylvania is used to generate the historical safety metric for a specific road network.\n",
    "\n",
    "Methods for evaluating routes based on the presented historical safety metric are included using the Mann Whitney U Test to evaluate the significance of routing decisions. The evaluation method presented requires routes have at least 20 crashes to be compared with significance testing. The safety of the road network is visualized using a heatmap to present distribution of the metric throughout Allgeheny County."
   ]
  },
  {
   "cell_type": "markdown",
   "metadata": {},
   "source": [
    "# Table of Contents"
   ]
  },
  {
   "cell_type": "markdown",
   "metadata": {},
   "source": [
    "1. Abstract\n",
    "2. Table of Contents\n",
    "    * 2.1 List of Figures\n",
    "    * 2.2 List of Tables\n",
    "3. Introduction\n",
    "    * 3.1 Motivation\n",
    "    * 3.2 Data Availability\n",
    "4. Literature Review\n",
    "5. Methodology\n",
    "    * 5.1 High-Level Methodology\n",
    "    * 5.2 Tools Used\n",
    "    * 5.3 Importing the Data\n",
    "    * 5.4 Obtaining relevant columns\n",
    "        * 5.4.1 Date-time attributes\n",
    "        * 5.4.2 Condition attributes\n",
    "        * 5.4.3 Severity attributes\n",
    "        * 5.4.4 Location attributes\n",
    "    * 5.5 Motivation for Normalization\n",
    "    * 5.6 Normalization\n",
    "    * 5.7 Constructing the Metric\n",
    "    * 5.8 Statistical Analysis\n",
    "    * 5.9 Applications to Routing\n",
    "6. Results\n",
    "7. Future Work\n",
    "8. References\n",
    "9. Appendices\n"
   ]
  },
  {
   "cell_type": "markdown",
   "metadata": {},
   "source": [
    "## List of Figures"
   ]
  },
  {
   "cell_type": "markdown",
   "metadata": {},
   "source": [
    "## List of Tables"
   ]
  },
  {
   "cell_type": "markdown",
   "metadata": {},
   "source": [
    "# Introduction"
   ]
  },
  {
   "cell_type": "markdown",
   "metadata": {},
   "source": [
    "## Motivation"
   ]
  },
  {
   "cell_type": "markdown",
   "metadata": {},
   "source": [
    "GPS based automobile routing applications such as Google Maps currently route drivers to their destinations as quickly as possible by minimizing the traffic, road-work/blockages, and user-reported obstacles/accidents. Open-source routing projects such as OpenRouteService have taken more varied approaches to the routing problem for example, maximizing time spent on well-maintained roads. Currently, there are no publicly available routing applications that use road safety data to maximize driver safety.\n",
    "\n",
    "Road safety data has historically been analyzed by state Departments of Transportation for the purpose of revising roads to improve public safety. The usage of road safety data for the immediate routing changes of individual drivers compliments the department of transportation efforts in improving public safety. Small-scale adoption of safety-based routing would improve safety for users of the novel routing application, while road revisions would continue to improve total driver safety. Network effects of a large-scale automobile routing change have not been studied for the scope of this project and would be required future research before large-scale deployment of such a routing update."
   ]
  },
  {
   "cell_type": "markdown",
   "metadata": {},
   "source": [
    "## Data Availability"
   ]
  },
  {
   "cell_type": "markdown",
   "metadata": {
    "hideCode": true
   },
   "source": [
    "Data used for this project comes for the Pennsylvania Department of Transportation and the Carnegie Mellon Traffic 21 Institute. There are two primary datasets being utilized to evaluate the safety of the road network in Allgeheny County PA. The first dataset includes information regarding the description of crashes in Allgeheny County PA between 2004 and 2016. The second dataset consists of average hourly traffic counts at 1,305 sensor locations between the years 2012 to 2014 in the Allgeheny County area collected through a collaboration between the Carnegie Mellon Traffic 21 Institute and the Pennsylvania Department of Transportation.\n",
    "\n",
    "The unique data sources utilized for this project provide advantages over commonly available Department of Transportation statistics for road safety. The descriptive automobile crash dataset includes recorded locations, given as latitude-longitude coordinates, for nearly all crashes in the dataset.  The high-degree of combined spatial-temporal specificity between the crash description and traffic dataset allows individual road segments to be closely analyzed without reductive assumptions required when utilizing aggregated data.\n",
    "\n",
    "Datasets with similar spatial-temporal specificity are needed to employ the methods discussed in this project. Justification for the key features that enable ranking of individual roads in a road network are discussed further in 5.6.\n",
    "\n",
    "Data was obtained from Data.gov which hosts several datasets from various parts of the U.S. Government. Both the traffic and crash description datasets were hosted at data.gov in comma-separated-value format. This type of data can easily be analyzed with built-in reading tools from the pandas python package additional tools are discussed in 5.2. Accompanying data dictionaries were hosted in pdf format."
   ]
  },
  {
   "cell_type": "markdown",
   "metadata": {},
   "source": [
    "## Project Scope"
   ]
  },
  {
   "cell_type": "markdown",
   "metadata": {},
   "source": [
    "This project carries out the process of introducing and evaluating a novel historical safety metric for the road network of Allgeheny County, PA. Statistical testing is used to evaluate the robustness of the safety metric for routing adjustment. Accompanying visualizations illustrate the variation of safety across the road network.\n",
    "\n",
    "Applications of the metric to routing problems is not completed in this project. Scalability of the metric to larger road networks (statewide, nation, global) is not analyzed in this project. Guidelines and suggestions for future work extending this project are outlined in section 7."
   ]
  },
  {
   "cell_type": "markdown",
   "metadata": {},
   "source": [
    "# Literature Review"
   ]
  },
  {
   "cell_type": "markdown",
   "metadata": {},
   "source": [
    "The purpose of analyzing crash data has historically been done for the purpose of performing some type of governmental intervention: \"The analysis of highway-crash data has long been used as a basis for influencing highway\n",
    "and vehicle designs, as well as directing and implementing a wide variety of regulatory\n",
    "policies aimed at improving safety.\" (Mannering & Bhat, 2014) Classic problems with methodologies in analyzing crash datasets include issues of \"unobserved heterogeneity, endogeneity,\n",
    "risk compensation, spatial and temporal correlations\" (Mannering & Bhat, 2014).\n",
    "\n",
    "These problems are particularly important when measuring success of an intervention because the observed effect may be unknowingly affected by unmeasured or omitted data. The approach used in this paper seeks to avoid the historical methodological issues with prediction-based crash data analysis approaches. Prediction based approaches are severely hindered by the unobserved heterogeneity and enogeneity of crash frequency data (Lord & Mannering, 2010). Measuring all variables surrounding a crash is an impossible task without access to detailed driver information, dash cameras, and a vehicle black box. These limitations necesitate methodlolgical approaches that omit, aggregate, or combine variables with clear influence on crash frequency. \n",
    "\n",
    "Recent approaches to the analysis of traffic accidents has used the advances in data recording. A traffic accident analysis performed by (Songpatanasilp, Yamada, Horanont & Shibasaki, 2015) utilized positional information of accidents in Japan that became available in 2012. The authors indicate \" ... the spatial analysis of traffic analysis finally became possible in a large\n",
    "scale. \" The spatial specificity of the traffic dataset analyzed for this project is also a recent development that has enabled this project.\n",
    "\n",
    "No literature was found on the usage of historical crash and traffic data to adjust individual commuter routing. There are several possible reasons for this, one explanation is the available data sources for this type of approach are limited. Additionally, routing is primarily accomplished by commercial companies which do not publish research in the academic sphere."
   ]
  },
  {
   "cell_type": "markdown",
   "metadata": {},
   "source": [
    "# Methodology"
   ]
  },
  {
   "cell_type": "markdown",
   "metadata": {},
   "source": [
    "## High-Level Methodology"
   ]
  },
  {
   "cell_type": "markdown",
   "metadata": {},
   "source": [
    "![Figure 1: Analysis Steps](flowchart.png)"
   ]
  },
  {
   "cell_type": "markdown",
   "metadata": {
    "hidePrompt": true
   },
   "source": [
    "Figure 1 demonstrates the broad steps from the crash and traffic datasets to a metric and analysis of road network danger. Initially, the datasets must be manipulated to deal with missing values, identify useful columns, and apply transformations to allow for analysis in later stages of the pipeline. After both the crash and traffic datasets have been cleaned the process of normalization combines the two datasets by pairing each crash with the most relevant traffic data.\n",
    "\n",
    "The normalization process is described extensively in 5.6, but the reason for normalization can be understood intuitively by considering the relative danger between a well-maintained, busy city-road and an ill-maintained rural road. A non-normalized approach to this analysis will likely rank the rural road as 'safer' because less accidents are likely to have occured on a rural road, but this is likely due to the fact that there are simply less cars on that road. The risk of getting in a crash can be expressed by the number of crashes over the number of total cars or traffic on a road. The fallacy of analyzing only crash data is equating number of crashes with road danger, when in reality danger is a function of both crashes and traffic.\n",
    "\n",
    "After the datasets have been combined, road danger must be defined by the quantities available in the combined dataset. The starting point for analyzing road danger is the normalized expression for risk described in the previous paragraph. However, risk alone does not capture the danger of a road. This can be explained by another hypothetical option between a congested 35 mph city-zone or a high-speed highway. The crash risk may very well be lower for the highway as a function of its high traffic which drives down risk. However, not all crashes are equivalent and it is almost a certainty that the severity of crashes on the high-speed highway are higher than the relatively low-speed city road. Therefore, it would be a mistake to conclude the highway is safer than the city-road based on crash risk alone because risk fails to capture severity. The metric presented in 5.7 uses severity and risk to construct a measurement for danger.\n",
    "\n",
    "With a road danger metric established it may appear tempting to immediately conclude all roads with worse scores are more dangerous, but this ignores the  role of random variation. Is a small high-traffic road with a single crash less dangerous than an equivalently sized road with two crashes? These questions can be answered with statistical significance testing. Routing alterations should only be made when the effect size, and the statisical significance of the supposedly 'safer' route have been considered. The concepts of signficance and effect size also extend to analyzing which conditions increase or decrease safety such as light levels, weather, and traffic signal types. Applications of the road danger metric to answering questions of routing and conditions can be found in sections 5.8 and 5.9."
   ]
  },
  {
   "cell_type": "markdown",
   "metadata": {},
   "source": [
    "## Tools Used"
   ]
  },
  {
   "cell_type": "markdown",
   "metadata": {},
   "source": [
    "All data analysis for this project was performed using Python 3.6 along with packages that extend the base functionality of Python. This thesis was written entirely in Jupyter Notebooks, an open-source web application that allows for coding, markdown text, and visualizations to all be embedded in a single document. Packages used in this thesis are listed in the imports below. Note that '%' indicates a magic word in Jupyter notebooks and '%matplotlib inline' configures the document to render images inside the notebook instead of another window.\n",
    "\n",
    "Pandas and datetime are used for data manipulation, cleaning, and transformation. Numpy extends the numerical computing options of Python and provides the missing value type NaN, as well as various array types and methods. Scipy.spatial is used to implement k-d trees. Matplotlib, and seaborn are used for plotting and visualizations. Scipy.stats and powerlaw are used for statistical testing. Folium is used to generate heatmaps."
   ]
  },
  {
   "cell_type": "code",
   "execution_count": 1,
   "metadata": {
    "hideCode": false,
    "hideOutput": false,
    "hidePrompt": true
   },
   "outputs": [],
   "source": [
    "%matplotlib inline\n",
    "import pandas as pd\n",
    "import numpy as np\n",
    "import matplotlib.pyplot as plt\n",
    "import datetime\n",
    "import seaborn as sns\n",
    "import scipy.stats as stats\n",
    "from scipy.spatial import KDTree\n",
    "import powerlaw as pl\n",
    "import folium\n",
    "from folium import plugins"
   ]
  },
  {
   "cell_type": "markdown",
   "metadata": {},
   "source": [
    "## Importing the Data"
   ]
  },
  {
   "cell_type": "code",
   "execution_count": 2,
   "metadata": {
    "hideCode": true,
    "hideOutput": true,
    "hidePrompt": true
   },
   "outputs": [
    {
     "name": "stderr",
     "output_type": "stream",
     "text": [
      "c:\\users\\ari\\anaconda3\\lib\\site-packages\\IPython\\core\\interactiveshell.py:2717: DtypeWarning: Columns (79,183) have mixed types. Specify dtype option on import or set low_memory=False.\n",
      "  interactivity=interactivity, compiler=compiler, result=result)\n"
     ]
    },
    {
     "data": {
      "text/html": [
       "<div>\n",
       "<style>\n",
       "    .dataframe thead tr:only-child th {\n",
       "        text-align: right;\n",
       "    }\n",
       "\n",
       "    .dataframe thead th {\n",
       "        text-align: left;\n",
       "    }\n",
       "\n",
       "    .dataframe tbody tr th {\n",
       "        vertical-align: top;\n",
       "    }\n",
       "</style>\n",
       "<table border=\"1\" class=\"dataframe\">\n",
       "  <thead>\n",
       "    <tr style=\"text-align: right;\">\n",
       "      <th></th>\n",
       "      <th>CRASH_CRN</th>\n",
       "      <th>DISTRICT</th>\n",
       "      <th>CRASH_COUNTY</th>\n",
       "      <th>MUNICIPALITY</th>\n",
       "      <th>POLICE_AGCY</th>\n",
       "      <th>CRASH_YEAR</th>\n",
       "      <th>CRASH_MONTH</th>\n",
       "      <th>DAY_OF_WEEK</th>\n",
       "      <th>TIME_OF_DAY</th>\n",
       "      <th>HOUR_OF_DAY</th>\n",
       "      <th>...</th>\n",
       "      <th>ACCESS_CTRL</th>\n",
       "      <th>ROADWAY_COUNTY</th>\n",
       "      <th>LANE_COUNT</th>\n",
       "      <th>RDWY_ORIENT</th>\n",
       "      <th>ROAD_OWNER</th>\n",
       "      <th>ROUTE</th>\n",
       "      <th>SPEED_LIMIT</th>\n",
       "      <th>SEGMENT</th>\n",
       "      <th>OFFSET</th>\n",
       "      <th>STREET_NAME</th>\n",
       "    </tr>\n",
       "  </thead>\n",
       "  <tbody>\n",
       "    <tr>\n",
       "      <th>0</th>\n",
       "      <td>2.004000e+09</td>\n",
       "      <td>11.0</td>\n",
       "      <td>2.0</td>\n",
       "      <td>2454.0</td>\n",
       "      <td>02454</td>\n",
       "      <td>2004.0</td>\n",
       "      <td>1.0</td>\n",
       "      <td>5.0</td>\n",
       "      <td>257.0</td>\n",
       "      <td>2.0</td>\n",
       "      <td>...</td>\n",
       "      <td>3.0</td>\n",
       "      <td>2.0</td>\n",
       "      <td>2.0</td>\n",
       "      <td>E</td>\n",
       "      <td>2.0</td>\n",
       "      <td>2032</td>\n",
       "      <td>35.0</td>\n",
       "      <td>10.0</td>\n",
       "      <td>1000.0</td>\n",
       "      <td>LEWIS RUN RD</td>\n",
       "    </tr>\n",
       "    <tr>\n",
       "      <th>1</th>\n",
       "      <td>2.004000e+09</td>\n",
       "      <td>11.0</td>\n",
       "      <td>2.0</td>\n",
       "      <td>2440.0</td>\n",
       "      <td>02440</td>\n",
       "      <td>2004.0</td>\n",
       "      <td>1.0</td>\n",
       "      <td>5.0</td>\n",
       "      <td>1027.0</td>\n",
       "      <td>10.0</td>\n",
       "      <td>...</td>\n",
       "      <td>NaN</td>\n",
       "      <td>2.0</td>\n",
       "      <td>2.0</td>\n",
       "      <td>W</td>\n",
       "      <td>3.0</td>\n",
       "      <td>NaN</td>\n",
       "      <td>35.0</td>\n",
       "      <td>NaN</td>\n",
       "      <td>NaN</td>\n",
       "      <td>COAL VALLEY RD</td>\n",
       "    </tr>\n",
       "    <tr>\n",
       "      <th>2</th>\n",
       "      <td>2.004000e+09</td>\n",
       "      <td>11.0</td>\n",
       "      <td>2.0</td>\n",
       "      <td>2203.0</td>\n",
       "      <td>02203</td>\n",
       "      <td>2004.0</td>\n",
       "      <td>1.0</td>\n",
       "      <td>5.0</td>\n",
       "      <td>1839.0</td>\n",
       "      <td>18.0</td>\n",
       "      <td>...</td>\n",
       "      <td>NaN</td>\n",
       "      <td>2.0</td>\n",
       "      <td>2.0</td>\n",
       "      <td>W</td>\n",
       "      <td>2.0</td>\n",
       "      <td>3082</td>\n",
       "      <td>35.0</td>\n",
       "      <td>NaN</td>\n",
       "      <td>NaN</td>\n",
       "      <td>CLINTON FRANKFORT RD</td>\n",
       "    </tr>\n",
       "    <tr>\n",
       "      <th>3</th>\n",
       "      <td>2.004000e+09</td>\n",
       "      <td>11.0</td>\n",
       "      <td>2.0</td>\n",
       "      <td>2404.0</td>\n",
       "      <td>02404</td>\n",
       "      <td>2004.0</td>\n",
       "      <td>1.0</td>\n",
       "      <td>6.0</td>\n",
       "      <td>914.0</td>\n",
       "      <td>9.0</td>\n",
       "      <td>...</td>\n",
       "      <td>NaN</td>\n",
       "      <td>2.0</td>\n",
       "      <td>2.0</td>\n",
       "      <td>N</td>\n",
       "      <td>4.0</td>\n",
       "      <td>NaN</td>\n",
       "      <td>25.0</td>\n",
       "      <td>NaN</td>\n",
       "      <td>NaN</td>\n",
       "      <td>NORTH BALPH AV</td>\n",
       "    </tr>\n",
       "    <tr>\n",
       "      <th>4</th>\n",
       "      <td>2.004000e+09</td>\n",
       "      <td>11.0</td>\n",
       "      <td>2.0</td>\n",
       "      <td>2419.0</td>\n",
       "      <td>02419</td>\n",
       "      <td>2004.0</td>\n",
       "      <td>1.0</td>\n",
       "      <td>5.0</td>\n",
       "      <td>2230.0</td>\n",
       "      <td>22.0</td>\n",
       "      <td>...</td>\n",
       "      <td>NaN</td>\n",
       "      <td>2.0</td>\n",
       "      <td>2.0</td>\n",
       "      <td>S</td>\n",
       "      <td>4.0</td>\n",
       "      <td>NaN</td>\n",
       "      <td>20.0</td>\n",
       "      <td>NaN</td>\n",
       "      <td>NaN</td>\n",
       "      <td>THORNBERRY DR</td>\n",
       "    </tr>\n",
       "  </tbody>\n",
       "</table>\n",
       "<p>5 rows × 188 columns</p>\n",
       "</div>"
      ],
      "text/plain": [
       "      CRASH_CRN  DISTRICT  CRASH_COUNTY  MUNICIPALITY POLICE_AGCY  CRASH_YEAR  \\\n",
       "0  2.004000e+09      11.0           2.0        2454.0       02454      2004.0   \n",
       "1  2.004000e+09      11.0           2.0        2440.0       02440      2004.0   \n",
       "2  2.004000e+09      11.0           2.0        2203.0       02203      2004.0   \n",
       "3  2.004000e+09      11.0           2.0        2404.0       02404      2004.0   \n",
       "4  2.004000e+09      11.0           2.0        2419.0       02419      2004.0   \n",
       "\n",
       "   CRASH_MONTH  DAY_OF_WEEK  TIME_OF_DAY  HOUR_OF_DAY          ...           \\\n",
       "0          1.0          5.0        257.0          2.0          ...            \n",
       "1          1.0          5.0       1027.0         10.0          ...            \n",
       "2          1.0          5.0       1839.0         18.0          ...            \n",
       "3          1.0          6.0        914.0          9.0          ...            \n",
       "4          1.0          5.0       2230.0         22.0          ...            \n",
       "\n",
       "   ACCESS_CTRL  ROADWAY_COUNTY  LANE_COUNT  RDWY_ORIENT  ROAD_OWNER  ROUTE  \\\n",
       "0          3.0             2.0         2.0            E         2.0   2032   \n",
       "1          NaN             2.0         2.0            W         3.0    NaN   \n",
       "2          NaN             2.0         2.0            W         2.0   3082   \n",
       "3          NaN             2.0         2.0            N         4.0    NaN   \n",
       "4          NaN             2.0         2.0            S         4.0    NaN   \n",
       "\n",
       "   SPEED_LIMIT  SEGMENT  OFFSET           STREET_NAME  \n",
       "0         35.0     10.0  1000.0          LEWIS RUN RD  \n",
       "1         35.0      NaN     NaN        COAL VALLEY RD  \n",
       "2         35.0      NaN     NaN  CLINTON FRANKFORT RD  \n",
       "3         25.0      NaN     NaN        NORTH BALPH AV  \n",
       "4         20.0      NaN     NaN         THORNBERRY DR  \n",
       "\n",
       "[5 rows x 188 columns]"
      ]
     },
     "execution_count": 2,
     "metadata": {},
     "output_type": "execute_result"
    }
   ],
   "source": [
    "crash = pd.read_csv('crashdata.csv')\n",
    "crash.head()"
   ]
  },
  {
   "cell_type": "code",
   "execution_count": 3,
   "metadata": {
    "hideCode": true,
    "hideOutput": true,
    "hidePrompt": true
   },
   "outputs": [
    {
     "data": {
      "text/html": [
       "<div>\n",
       "<style>\n",
       "    .dataframe thead tr:only-child th {\n",
       "        text-align: right;\n",
       "    }\n",
       "\n",
       "    .dataframe thead th {\n",
       "        text-align: left;\n",
       "    }\n",
       "\n",
       "    .dataframe tbody tr th {\n",
       "        vertical-align: top;\n",
       "    }\n",
       "</style>\n",
       "<table border=\"1\" class=\"dataframe\">\n",
       "  <thead>\n",
       "    <tr style=\"text-align: right;\">\n",
       "      <th></th>\n",
       "      <th>sensor_ID</th>\n",
       "      <th>Longitude</th>\n",
       "      <th>Latitude</th>\n",
       "      <th>1a</th>\n",
       "      <th>2a</th>\n",
       "      <th>3a</th>\n",
       "      <th>4a</th>\n",
       "      <th>5a</th>\n",
       "      <th>6a</th>\n",
       "      <th>7a</th>\n",
       "      <th>...</th>\n",
       "      <th>3p</th>\n",
       "      <th>4p</th>\n",
       "      <th>5p</th>\n",
       "      <th>6p</th>\n",
       "      <th>7p</th>\n",
       "      <th>8p</th>\n",
       "      <th>9p</th>\n",
       "      <th>10p</th>\n",
       "      <th>11p</th>\n",
       "      <th>12a</th>\n",
       "    </tr>\n",
       "  </thead>\n",
       "  <tbody>\n",
       "    <tr>\n",
       "      <th>0</th>\n",
       "      <td>5879@1</td>\n",
       "      <td>-79.861523</td>\n",
       "      <td>40.625398</td>\n",
       "      <td>44.0</td>\n",
       "      <td>19.0</td>\n",
       "      <td>14.0</td>\n",
       "      <td>18.0</td>\n",
       "      <td>36.0</td>\n",
       "      <td>151.0</td>\n",
       "      <td>362.0</td>\n",
       "      <td>...</td>\n",
       "      <td>481.0</td>\n",
       "      <td>604.0</td>\n",
       "      <td>678.0</td>\n",
       "      <td>790.0</td>\n",
       "      <td>575.0</td>\n",
       "      <td>431.0</td>\n",
       "      <td>416.0</td>\n",
       "      <td>227.0</td>\n",
       "      <td>188.0</td>\n",
       "      <td>119.0</td>\n",
       "    </tr>\n",
       "    <tr>\n",
       "      <th>1</th>\n",
       "      <td>5970@1</td>\n",
       "      <td>-79.796409</td>\n",
       "      <td>40.445047</td>\n",
       "      <td>18.0</td>\n",
       "      <td>19.0</td>\n",
       "      <td>24.0</td>\n",
       "      <td>31.0</td>\n",
       "      <td>100.0</td>\n",
       "      <td>223.0</td>\n",
       "      <td>356.0</td>\n",
       "      <td>...</td>\n",
       "      <td>463.0</td>\n",
       "      <td>561.0</td>\n",
       "      <td>535.0</td>\n",
       "      <td>402.0</td>\n",
       "      <td>315.0</td>\n",
       "      <td>258.0</td>\n",
       "      <td>200.0</td>\n",
       "      <td>119.0</td>\n",
       "      <td>78.0</td>\n",
       "      <td>36.0</td>\n",
       "    </tr>\n",
       "    <tr>\n",
       "      <th>2</th>\n",
       "      <td>5957@1</td>\n",
       "      <td>-79.820976</td>\n",
       "      <td>40.487624</td>\n",
       "      <td>60.0</td>\n",
       "      <td>36.0</td>\n",
       "      <td>39.0</td>\n",
       "      <td>27.0</td>\n",
       "      <td>45.0</td>\n",
       "      <td>165.0</td>\n",
       "      <td>395.0</td>\n",
       "      <td>...</td>\n",
       "      <td>532.0</td>\n",
       "      <td>637.0</td>\n",
       "      <td>662.0</td>\n",
       "      <td>715.0</td>\n",
       "      <td>611.0</td>\n",
       "      <td>511.0</td>\n",
       "      <td>429.0</td>\n",
       "      <td>247.0</td>\n",
       "      <td>170.0</td>\n",
       "      <td>106.0</td>\n",
       "    </tr>\n",
       "    <tr>\n",
       "      <th>3</th>\n",
       "      <td>120@1</td>\n",
       "      <td>-79.703859</td>\n",
       "      <td>40.443548</td>\n",
       "      <td>27.0</td>\n",
       "      <td>7.0</td>\n",
       "      <td>14.0</td>\n",
       "      <td>9.0</td>\n",
       "      <td>35.0</td>\n",
       "      <td>119.0</td>\n",
       "      <td>365.0</td>\n",
       "      <td>...</td>\n",
       "      <td>508.0</td>\n",
       "      <td>640.0</td>\n",
       "      <td>698.0</td>\n",
       "      <td>731.0</td>\n",
       "      <td>471.0</td>\n",
       "      <td>390.0</td>\n",
       "      <td>278.0</td>\n",
       "      <td>146.0</td>\n",
       "      <td>111.0</td>\n",
       "      <td>56.0</td>\n",
       "    </tr>\n",
       "    <tr>\n",
       "      <th>4</th>\n",
       "      <td>26732@1</td>\n",
       "      <td>-80.114273</td>\n",
       "      <td>40.389899</td>\n",
       "      <td>19.0</td>\n",
       "      <td>14.0</td>\n",
       "      <td>7.0</td>\n",
       "      <td>10.0</td>\n",
       "      <td>9.0</td>\n",
       "      <td>33.0</td>\n",
       "      <td>113.0</td>\n",
       "      <td>...</td>\n",
       "      <td>195.0</td>\n",
       "      <td>247.0</td>\n",
       "      <td>309.0</td>\n",
       "      <td>348.0</td>\n",
       "      <td>324.0</td>\n",
       "      <td>264.0</td>\n",
       "      <td>181.0</td>\n",
       "      <td>140.0</td>\n",
       "      <td>87.0</td>\n",
       "      <td>54.0</td>\n",
       "    </tr>\n",
       "  </tbody>\n",
       "</table>\n",
       "<p>5 rows × 27 columns</p>\n",
       "</div>"
      ],
      "text/plain": [
       "  sensor_ID  Longitude   Latitude    1a    2a    3a    4a     5a     6a  \\\n",
       "0    5879@1 -79.861523  40.625398  44.0  19.0  14.0  18.0   36.0  151.0   \n",
       "1    5970@1 -79.796409  40.445047  18.0  19.0  24.0  31.0  100.0  223.0   \n",
       "2    5957@1 -79.820976  40.487624  60.0  36.0  39.0  27.0   45.0  165.0   \n",
       "3     120@1 -79.703859  40.443548  27.0   7.0  14.0   9.0   35.0  119.0   \n",
       "4   26732@1 -80.114273  40.389899  19.0  14.0   7.0  10.0    9.0   33.0   \n",
       "\n",
       "      7a  ...       3p     4p     5p     6p     7p     8p     9p    10p  \\\n",
       "0  362.0  ...    481.0  604.0  678.0  790.0  575.0  431.0  416.0  227.0   \n",
       "1  356.0  ...    463.0  561.0  535.0  402.0  315.0  258.0  200.0  119.0   \n",
       "2  395.0  ...    532.0  637.0  662.0  715.0  611.0  511.0  429.0  247.0   \n",
       "3  365.0  ...    508.0  640.0  698.0  731.0  471.0  390.0  278.0  146.0   \n",
       "4  113.0  ...    195.0  247.0  309.0  348.0  324.0  264.0  181.0  140.0   \n",
       "\n",
       "     11p    12a  \n",
       "0  188.0  119.0  \n",
       "1   78.0   36.0  \n",
       "2  170.0  106.0  \n",
       "3  111.0   56.0  \n",
       "4   87.0   54.0  \n",
       "\n",
       "[5 rows x 27 columns]"
      ]
     },
     "execution_count": 3,
     "metadata": {},
     "output_type": "execute_result"
    }
   ],
   "source": [
    "traffic = pd.read_csv('data-trafficcounts.csv')\n",
    "traffic.head()"
   ]
  },
  {
   "cell_type": "markdown",
   "metadata": {},
   "source": [
    "Both traffic and crash description datasets are available in .csv format from the Data.gov portal. Importing .csv data into python is accomplished using the built-in .read_csv function from the pandas package.\n",
    "\n",
    "   The pandas packages converts .csv files to dataframe structures which can be conceptualized as augmented spreadsheets. Like spreadsheets, dataframes can be manipulated with common aggregation, groupby, merging, and indexing operations using built-in pandas methods."
   ]
  },
  {
   "cell_type": "markdown",
   "metadata": {
    "hideOutput": false,
    "hidePrompt": true
   },
   "source": [
    "Before insights can be obtained from the crash and traffic dataframes there are a series of data cleaning steps. The first step is to slice dataframes to relevant columns. After the dataframes have been reduced to only relevant fields, missing values must be addressed. The approach to missing values is dependent on usage and each approach will be appropriately justified.\n",
    "\n",
    "After both datasets have been cleaned, normalization occurs by combining the crash and traffic datasets. The effectiveness of normalization can be visualized by comparing pre-normalized crash frequency data by hour to normalized data. After a clean, combined, and normalized dataset is obtained in the form of a dataframe statistical analyses and more robust visualizations can be created."
   ]
  },
  {
   "cell_type": "markdown",
   "metadata": {},
   "source": [
    "## Obtaining relevant columns\n"
   ]
  },
  {
   "cell_type": "markdown",
   "metadata": {},
   "source": [
    "Descriptions of all columns are listed in the official crash data dictionary (Appendix 1). For the scope of this project relevant columns can be split into four general categories: date-time, conditions, severity, and location. Each of these categories requires specific considerations of missing values, and formatting for ease-of-use in analysis stage of the project."
   ]
  },
  {
   "cell_type": "markdown",
   "metadata": {},
   "source": [
    "### Date-time attributes\n"
   ]
  },
  {
   "cell_type": "code",
   "execution_count": 4,
   "metadata": {
    "hideCode": true,
    "hideOutput": true,
    "hidePrompt": true
   },
   "outputs": [],
   "source": [
    "# Creating dataframe of just time attributes\n",
    "crash_time = crash.loc[:,['CRASH_YEAR', 'CRASH_MONTH', 'HOUR_OF_DAY', 'TIME_OF_DAY', 'DAY_OF_WEEK']]\n",
    "# Limitation of data is day of week is recorded but not day\n",
    "crash_time.DAY_OF_WEEK.max()\n",
    "crash_time.columns = ['year', 'month', 'hour', 'time', 'day']\n",
    "crash_time.shape\n",
    "crash_time.replace(9999,np.NaN, inplace = True)\n",
    "\n",
    "# Converting to int for datetime\n",
    "crash_time.dropna(inplace = True)\n",
    "\n",
    "crash_time.astype(int).head()\n",
    "\n",
    "# Creating minute column from last 2 digits of time\n",
    "crash_time['minute'] = crash_time.time % 100\n",
    "crash_time.head()\n",
    "\n",
    "# Note that the day will only be between 1 and 7 because no exact day information is available\n",
    "crash_datetime = pd.to_datetime(crash_time[['year', 'month', 'day', 'hour', 'minute']])"
   ]
  },
  {
   "cell_type": "markdown",
   "metadata": {},
   "source": [
    "The time of each crash occurence becomes important in the normalization step where an appropriate traffic value is paired with each crash. Traffic is recorded hourly, and matching the hour the crash occured with the hour the traffic was recorded allows for more accurate normalization. While the traffic dataset only includes hour of sensor reading the crash dataset has more expansive date-time features and includes year, month, hour, time, and day-of-week. Datetime features can be combined in pandas into a single column which can then be accessed by .dt pandas methods.\n",
    "\n",
    "Converting the year, month, hour, time, and day-of-week to a single column expressing datetime requires some manipulation. The first issue is hour and time contain overlapping information because time is expressed as a string represting 24-hour time for example '2345.' The time column can be manipulated by converting to integer-type and taking the remainder after dividing by 100 which leaves only the first two digits. For example '2345' becomes the integer 2345 and then taking 2345 mod 100 yields 45, the minute at which the crash occured. This conversion is applied to all values in the time column to transform the column to represent minutes.\n",
    "\n",
    "The remaining issue before converting into a singular datetime column, is the lack of week information. Because day is only recorded in the dataset as day-of-week there is no way to determine the week of the month in which a crash occured. The day-of-week column is provided to the datetime conversion method as day, but the limitation of differentiating between weeks remains.\n",
    "\n",
    "Missing values in the datetime features are recorded as 9999 and are replaced by numpy NaN which is recognized as a missing value by pandas. The pandas .dropna() method is used to remove any rows with missing datetime information which reduces the useable rows from 157821 to 154343. Crashes without datetime information form a small part of the total dataset (~2%) and cannot be matched with a traffic sensor reading from the same hour. Additionally, crashes with missing datetime information cannot be converted into a single datetime column. An alternative approach to handling missing values in the datetime columns would be to only eliminate entries with missing hourly data and record NaN in the single datetime column but retain the hour column for matching with sensors. The decision to drop missing values was informed by the low ratio of missing data to complete data in the datetime features."
   ]
  },
  {
   "cell_type": "markdown",
   "metadata": {},
   "source": [
    "Figure 2 shows the capabilities of the .dt methods within pandas. The 'month' keyword isolates month for each crash, which is easily plotted using the value_counts method to sum all crashes for each month. The sort_index method orders the months in ascending order, and the .plot pandas method calls the matplotlib api to output a graph of the kind specified within the .plot argument."
   ]
  },
  {
   "cell_type": "code",
   "execution_count": 89,
   "metadata": {
    "hidePrompt": true
   },
   "outputs": [
    {
     "data": {
      "image/png": "[encoded data removed]",
      "text/plain": [
       "<matplotlib.figure.Figure at 0x1f512728ef0>"
      ]
     },
     "metadata": {},
     "output_type": "display_data"
    }
   ],
   "source": [
    "crash_datetime.dt.month.value_counts().sort_index().plot(kind = 'bar')\n",
    "plt.title('Figure 2: Total Crashes by Month')\n",
    "plt.show()"
   ]
  },
  {
   "cell_type": "markdown",
   "metadata": {},
   "source": [
    "The following Figures 3, 4, and 5 use a similar method described above to plot the number of crashes each year, day-of-the-week, and week."
   ]
  },
  {
   "cell_type": "code",
   "execution_count": 90,
   "metadata": {
    "hideCode": true,
    "hidePrompt": true
   },
   "outputs": [
    {
     "data": {
      "image/png": "[encoded data removed]",
      "text/plain": [
       "<matplotlib.figure.Figure at 0x1f51156fa90>"
      ]
     },
     "metadata": {},
     "output_type": "display_data"
    }
   ],
   "source": [
    "crash_datetime.dt.year.value_counts().sort_index().plot()\n",
    "plt.title('Figure 3: Total Crashes by Year')\n",
    "plt.show()"
   ]
  },
  {
   "cell_type": "code",
   "execution_count": 91,
   "metadata": {
    "hideCode": true,
    "hidePrompt": true
   },
   "outputs": [
    {
     "data": {
      "image/png": "[encoded data removed]",
      "text/plain": [
       "<matplotlib.figure.Figure at 0x1f50f467b00>"
      ]
     },
     "metadata": {},
     "output_type": "display_data"
    }
   ],
   "source": [
    "dayofweek = crash_datetime.dt.dayofweek.value_counts().sort_index()\n",
    "dayofweek.index = ['Sunday', 'Monday', 'Tuesday', 'Wednesday', 'Thursday', 'Friday', 'Saturday']\n",
    "dayofweek.plot(kind = 'bar')\n",
    "plt.title('Figure 4: Total Crashes by Day-of-Week')\n",
    "plt.show()"
   ]
  },
  {
   "cell_type": "code",
   "execution_count": 92,
   "metadata": {
    "hideCode": true,
    "hidePrompt": true
   },
   "outputs": [
    {
     "data": {
      "image/png": "[encoded data removed]",
      "text/plain": [
       "<matplotlib.figure.Figure at 0x1f527fecd30>"
      ]
     },
     "metadata": {},
     "output_type": "display_data"
    }
   ],
   "source": [
    "# Weekly graph looks odd because using day of week as day in datetime format eliminates all week 3/4 data for any month\n",
    "crash_datetime.dt.week.value_counts().sort_index().plot(kind = 'bar')\n",
    "plt.title('Figure 5: Total Crashes by Week')\n",
    "plt.show()"
   ]
  },
  {
   "cell_type": "markdown",
   "metadata": {},
   "source": [
    "The number of crashes by week plot in figure 5 appears inconsistent because day-of-week was used in place of day during the conversion to a single datetime column. Therefore, there are weeks which appear to not have crashes simply because all crashes during the month will appear during the first couple weeks due to approximating day as day-of-week."
   ]
  },
  {
   "cell_type": "markdown",
   "metadata": {},
   "source": [
    "### Condition attributes"
   ]
  },
  {
   "cell_type": "code",
   "execution_count": 15,
   "metadata": {
    "hideCode": true,
    "hideOutput": true,
    "hidePrompt": true,
    "scrolled": true
   },
   "outputs": [
    {
     "data": {
      "text/html": [
       "<div>\n",
       "<style>\n",
       "    .dataframe thead tr:only-child th {\n",
       "        text-align: right;\n",
       "    }\n",
       "\n",
       "    .dataframe thead th {\n",
       "        text-align: left;\n",
       "    }\n",
       "\n",
       "    .dataframe tbody tr th {\n",
       "        vertical-align: top;\n",
       "    }\n",
       "</style>\n",
       "<table border=\"1\" class=\"dataframe\">\n",
       "  <thead>\n",
       "    <tr style=\"text-align: right;\">\n",
       "      <th></th>\n",
       "      <th>WEATHER</th>\n",
       "      <th>ILLUMINATION</th>\n",
       "      <th>INTERSECT_TYPE</th>\n",
       "      <th>LOCATION_TYPE</th>\n",
       "      <th>RELATION_TO_ROAD</th>\n",
       "      <th>ROAD_CONDITION</th>\n",
       "      <th>SPEED_LIMIT</th>\n",
       "      <th>TCD_TYPE</th>\n",
       "    </tr>\n",
       "  </thead>\n",
       "  <tbody>\n",
       "    <tr>\n",
       "      <th>0</th>\n",
       "      <td>1.0</td>\n",
       "      <td>2.0</td>\n",
       "      <td>0.0</td>\n",
       "      <td>0.0</td>\n",
       "      <td>2.0</td>\n",
       "      <td>0.0</td>\n",
       "      <td>35.0</td>\n",
       "      <td>0.0</td>\n",
       "    </tr>\n",
       "    <tr>\n",
       "      <th>1</th>\n",
       "      <td>1.0</td>\n",
       "      <td>1.0</td>\n",
       "      <td>0.0</td>\n",
       "      <td>0.0</td>\n",
       "      <td>5.0</td>\n",
       "      <td>6.0</td>\n",
       "      <td>35.0</td>\n",
       "      <td>0.0</td>\n",
       "    </tr>\n",
       "    <tr>\n",
       "      <th>2</th>\n",
       "      <td>1.0</td>\n",
       "      <td>2.0</td>\n",
       "      <td>3.0</td>\n",
       "      <td>0.0</td>\n",
       "      <td>5.0</td>\n",
       "      <td>0.0</td>\n",
       "      <td>35.0</td>\n",
       "      <td>3.0</td>\n",
       "    </tr>\n",
       "    <tr>\n",
       "      <th>3</th>\n",
       "      <td>1.0</td>\n",
       "      <td>1.0</td>\n",
       "      <td>1.0</td>\n",
       "      <td>0.0</td>\n",
       "      <td>1.0</td>\n",
       "      <td>1.0</td>\n",
       "      <td>25.0</td>\n",
       "      <td>2.0</td>\n",
       "    </tr>\n",
       "    <tr>\n",
       "      <th>4</th>\n",
       "      <td>1.0</td>\n",
       "      <td>3.0</td>\n",
       "      <td>0.0</td>\n",
       "      <td>0.0</td>\n",
       "      <td>1.0</td>\n",
       "      <td>0.0</td>\n",
       "      <td>20.0</td>\n",
       "      <td>0.0</td>\n",
       "    </tr>\n",
       "  </tbody>\n",
       "</table>\n",
       "</div>"
      ],
      "text/plain": [
       "   WEATHER  ILLUMINATION  INTERSECT_TYPE  LOCATION_TYPE  RELATION_TO_ROAD  \\\n",
       "0      1.0           2.0             0.0            0.0               2.0   \n",
       "1      1.0           1.0             0.0            0.0               5.0   \n",
       "2      1.0           2.0             3.0            0.0               5.0   \n",
       "3      1.0           1.0             1.0            0.0               1.0   \n",
       "4      1.0           3.0             0.0            0.0               1.0   \n",
       "\n",
       "   ROAD_CONDITION  SPEED_LIMIT  TCD_TYPE  \n",
       "0             0.0         35.0       0.0  \n",
       "1             6.0         35.0       0.0  \n",
       "2             0.0         35.0       3.0  \n",
       "3             1.0         25.0       2.0  \n",
       "4             0.0         20.0       0.0  "
      ]
     },
     "execution_count": 15,
     "metadata": {},
     "output_type": "execute_result"
    }
   ],
   "source": [
    "crash_conditions = crash.loc[:, ('WEATHER', 'ILLUMINATION', 'INTERSECT_TYPE', 'LOCATION_TYPE', 'RELATION_TO_ROAD', 'ROAD_CONDITION', 'SPEED_LIMIT', 'TCD_TYPE')]\n",
    "crash_conditions.head()"
   ]
  },
  {
   "cell_type": "code",
   "execution_count": 16,
   "metadata": {
    "hideCode": true,
    "hidePrompt": true
   },
   "outputs": [],
   "source": [
    "weather_di = {1:'No adverse conditions',\n",
    "              2: 'Rain',\n",
    "              3: 'Sleet (hail)',\n",
    "              4: 'Snow',\n",
    "              5: 'Fog',\n",
    "              6: 'Rain and fog',\n",
    "              7: 'Sleet and fog',\n",
    "              8: 'Other',\n",
    "              9: np.NaN}\n",
    "illumination_di = {1: 'Daylight',\n",
    "                   2: 'Dark - no street lights',\n",
    "                   3: 'Dark - street lights',\n",
    "                   4: 'Dusk',\n",
    "                   5: 'Dawn',\n",
    "                   6: 'Dark - unknown roadway lighting',\n",
    "                   8: 'Other',\n",
    "                   9: np.NaN}\n",
    "intersect_di = {0: 'Mid-block',\n",
    "                1: 'Four way intersection',\n",
    "                2: 'T intersection',\n",
    "                3: 'Y intersection',\n",
    "                4: 'Traffic circle/Round about',\n",
    "                5: 'Multi-leg intersection',\n",
    "                6: 'On ramp',\n",
    "                7: 'Off ramp',\n",
    "                8: 'Crossover',\n",
    "                9: 'Railroad crossing',\n",
    "                10: 'Other',\n",
    "                99: np.NaN}\n",
    "location_di = {0: 'Not applicable',\n",
    "               1: 'Underpass',\n",
    "               2: 'Ramp',\n",
    "               3: 'Bridge',\n",
    "               4: 'Tunnel',\n",
    "               5: 'Toll Booth',\n",
    "               6: 'Cross over related',\n",
    "               7: 'Driveway or Parking Lot',\n",
    "               8: 'Ramp and bridge',\n",
    "               9: np.NaN}\n",
    "relation_di = {1: 'On roadway',\n",
    "               2: 'Shoulder',\n",
    "               3: 'Median',\n",
    "               4: 'Roadside',\n",
    "               5: 'Outside trafficway',\n",
    "               6: 'In parking lane',\n",
    "               7: 'Gore',\n",
    "               9: np.NaN}\n",
    "# Gore is intersection of ramp and highway\n",
    "road_cond = {0: 'Dry',\n",
    "             1: 'Wet',\n",
    "             2: 'Sand/mud/dirt/oil/gravel',\n",
    "             3: 'Snow covered',\n",
    "             4: 'Slush',\n",
    "             5: 'Ice', \n",
    "             6: 'Ice Patches',\n",
    "             7: 'Water - standing/moving',\n",
    "             8: 'Other',\n",
    "             9: np.NaN}\n",
    "tcdtype_di = {0: np.NaN,\n",
    "              1: 'Flashing traffic signal',\n",
    "              2: 'Traffic signal',\n",
    "              3: 'Stop sign',\n",
    "              4: 'Yield sign',\n",
    "              5: 'Active RR crossing controls',\n",
    "              6: 'Passive RR crossing controls',\n",
    "              7: 'Police officer or flagman',\n",
    "              8: 'Other type TCD'}"
   ]
  },
  {
   "cell_type": "markdown",
   "metadata": {},
   "source": [
    "The crash dataset contains several fields related to the conditions under which a crash took place. After a metric for measuring danger is established it becomes possible to approach questions such as: 'Is it more dangerous to drive in the rain or fog?' For this reason external conditions pertaining to the crash are extracted from the main crash dataframe. The following conditions are of interest for this project: weather, illumination, intersection type, location type (bridge/underpass/etc), relation to road (on road/median/etc), road condition (dry/wet/etc), speed limit, traffic control type (stop sign/traffic signal/etc).\n",
    "\n",
    "By default, the conditions described above are stored as numerical float values which requires looking up corresponding descriptions in the official crash data dictionary. In order to eliminate this step, dictionaries can be created for each condition and the .applymap pandas method can be used to create descriptive columns in addition to the default numerical columns for conditions.\n",
    "\n",
    "Handling of missing values and analysis of conditions is completed after establishment of the danger metric, which does not depend on any of the condition attributes in the dataset. After the danger metric is established the condition attributes can be merged onto the resulting dataframe and statistical analysis of conditions can be performed. This occurs in section 5.8."
   ]
  },
  {
   "cell_type": "markdown",
   "metadata": {},
   "source": [
    "### Severity attributes"
   ]
  },
  {
   "cell_type": "code",
   "execution_count": 17,
   "metadata": {
    "hideCode": true,
    "hidePrompt": true
   },
   "outputs": [],
   "source": [
    "crash_severity = crash.loc[:,('FATAL', 'FATAL_COUNT', 'FATAL_OR_MAJ_INJ', 'INJURY', 'INJURY_COUNT', 'MAJ_INJ_COUNT', 'MAJOR_INJURY', 'MAX_SEVERITY_LEVEL', 'VEHICLE_COUNT')]"
   ]
  },
  {
   "cell_type": "code",
   "execution_count": 94,
   "metadata": {
    "hideCode": true,
    "hidePrompt": true
   },
   "outputs": [],
   "source": [
    "# Definitions from Data Dictionary\n",
    "severity_di = {0:'Not injured',\n",
    "              1: 'Killed',\n",
    "            2: 'Major Injury',\n",
    "               3: 'Moderate Injury',\n",
    "               4: 'Minor Injury',\n",
    "               8: 'Injury/Unknown Severity',\n",
    "               9: np.NaN}\n",
    "crash_severity.MAX_SEVERITY_LEVEL = crash_severity.MAX_SEVERITY_LEVEL.map(severity_di)"
   ]
  },
  {
   "cell_type": "markdown",
   "metadata": {},
   "source": [
    "The severity attributes of the crash dataset are crucial for the creation of the danger metric because danger expresses risk and consequence, where the consequence in the case of a car crash is severity of the crash. The attributes related to severity in the crash dataset can be separated into discrete or continuous data. The discrete measures of severity within the dataset are fatal, fatal or major injury, injury, and major injury. For discrete variables if the condition is present the value is 1 and 0 if not present. The continuous measures of severity within the dataset are fatality count, injury count, major injury count, max severity level, and vehicle count.\n",
    "\n",
    "The severity attribute with the highest resolution is the max severity level, and the data dictionary provides the appropriate lookups for the numerical values listed in the column which encode degree of injury from minor to killed. Unfortunately, missing values and injuries of unknown severity account for 20% of the total values listed in the max severity level column limiting usability. For the purposes of this project the severity attributes chosen do no include max severity level due to the noted limiatations. Usage of severity attributes is discussed in section 5.7 when the severity attributes are incorporated into the danger metric."
   ]
  },
  {
   "cell_type": "code",
   "execution_count": 96,
   "metadata": {
    "hideCode": true,
    "hidePrompt": true
   },
   "outputs": [
    {
     "data": {
      "image/png": "[encoded data removed]",
      "text/plain": [
       "<matplotlib.figure.Figure at 0x1f537f714a8>"
      ]
     },
     "metadata": {},
     "output_type": "display_data"
    }
   ],
   "source": [
    "crash_severity.MAX_SEVERITY_LEVEL.value_counts().sort_index().plot(kind = 'bar')\n",
    "plt.title('Figure 6: Crashes classified by Max Severity Level')\n",
    "plt.show()"
   ]
  },
  {
   "cell_type": "code",
   "execution_count": 20,
   "metadata": {
    "hideCode": true,
    "hideOutput": true,
    "hidePrompt": true
   },
   "outputs": [
    {
     "data": {
      "text/plain": [
       "28546"
      ]
     },
     "execution_count": 20,
     "metadata": {},
     "output_type": "execute_result"
    }
   ],
   "source": [
    "crash_severity[(crash_severity.MAX_SEVERITY_LEVEL.isnull()) | (crash_severity.MAX_SEVERITY_LEVEL == 'Injury/Unknown Severity')].shape[0]"
   ]
  },
  {
   "cell_type": "code",
   "execution_count": 21,
   "metadata": {
    "hideCode": true,
    "hideOutput": true,
    "hidePrompt": true
   },
   "outputs": [
    {
     "data": {
      "text/plain": [
       "157821"
      ]
     },
     "execution_count": 21,
     "metadata": {},
     "output_type": "execute_result"
    }
   ],
   "source": [
    "crash_severity.shape[0]"
   ]
  },
  {
   "cell_type": "markdown",
   "metadata": {
    "hideCode": false
   },
   "source": [
    "### Location attributes"
   ]
  },
  {
   "cell_type": "markdown",
   "metadata": {
    "hideCode": true
   },
   "source": [
    "The relevant location attributes included in the crash dataset include latitude, longitude, and street name. Latitude and longitude act as merge keys throughout the project. Grouping the dataset by street name allows roads to be compared for crash frequency, risk, and danger using groupby methods without requiring additional GIS data sources that map latitude and longitude to a street.\n",
    "\n",
    "Missing values in the location attributes columns are dropped. Both latitude and longitude are necessary for normalization, street name is required to answer the central question 'which route and thus which roads are more dangerous?' With additional GIS data it would be possible to fill missing values by looking up coordinates or street names and assigning the appropriate value to the missing column. Possibilities for using additional GIS data are further discussed in section 7 future work. "
   ]
  },
  {
   "cell_type": "code",
   "execution_count": 22,
   "metadata": {
    "hideCode": true,
    "hideOutput": true,
    "hidePrompt": true
   },
   "outputs": [
    {
     "data": {
      "text/html": [
       "<div>\n",
       "<style>\n",
       "    .dataframe thead tr:only-child th {\n",
       "        text-align: right;\n",
       "    }\n",
       "\n",
       "    .dataframe thead th {\n",
       "        text-align: left;\n",
       "    }\n",
       "\n",
       "    .dataframe tbody tr th {\n",
       "        vertical-align: top;\n",
       "    }\n",
       "</style>\n",
       "<table border=\"1\" class=\"dataframe\">\n",
       "  <thead>\n",
       "    <tr style=\"text-align: right;\">\n",
       "      <th></th>\n",
       "      <th>DEC_LAT</th>\n",
       "      <th>DEC_LONG</th>\n",
       "      <th>STREET_NAME</th>\n",
       "    </tr>\n",
       "  </thead>\n",
       "  <tbody>\n",
       "    <tr>\n",
       "      <th>0</th>\n",
       "      <td>40.3234</td>\n",
       "      <td>-79.9404</td>\n",
       "      <td>LEWIS RUN RD</td>\n",
       "    </tr>\n",
       "    <tr>\n",
       "      <th>1</th>\n",
       "      <td>40.3182</td>\n",
       "      <td>-79.9076</td>\n",
       "      <td>COAL VALLEY RD</td>\n",
       "    </tr>\n",
       "    <tr>\n",
       "      <th>2</th>\n",
       "      <td>40.4886</td>\n",
       "      <td>-80.3371</td>\n",
       "      <td>CLINTON FRANKFORT RD</td>\n",
       "    </tr>\n",
       "    <tr>\n",
       "      <th>3</th>\n",
       "      <td>NaN</td>\n",
       "      <td>NaN</td>\n",
       "      <td>NORTH BALPH AV</td>\n",
       "    </tr>\n",
       "    <tr>\n",
       "      <th>4</th>\n",
       "      <td>NaN</td>\n",
       "      <td>NaN</td>\n",
       "      <td>THORNBERRY DR</td>\n",
       "    </tr>\n",
       "  </tbody>\n",
       "</table>\n",
       "</div>"
      ],
      "text/plain": [
       "   DEC_LAT  DEC_LONG           STREET_NAME\n",
       "0  40.3234  -79.9404          LEWIS RUN RD\n",
       "1  40.3182  -79.9076        COAL VALLEY RD\n",
       "2  40.4886  -80.3371  CLINTON FRANKFORT RD\n",
       "3      NaN       NaN        NORTH BALPH AV\n",
       "4      NaN       NaN         THORNBERRY DR"
      ]
     },
     "execution_count": 22,
     "metadata": {},
     "output_type": "execute_result"
    }
   ],
   "source": [
    "# Dataframe of crash locations and street names\n",
    "crash_location = crash.loc[:,['DEC_LAT', 'DEC_LONG', 'STREET_NAME']]\n",
    "crash_location.head()"
   ]
  },
  {
   "cell_type": "code",
   "execution_count": 98,
   "metadata": {
    "hideCode": true,
    "hidePrompt": true
   },
   "outputs": [
    {
     "data": {
      "image/png": "[encoded data removed]",
      "text/plain": [
       "<matplotlib.figure.Figure at 0x1f5288f4908>"
      ]
     },
     "metadata": {},
     "output_type": "display_data"
    }
   ],
   "source": [
    "# 10 most dangerous roads (Most are highways)\n",
    "crash_location.STREET_NAME.value_counts().head(10).plot(kind = 'bar')\n",
    "plt.title('Figure 7: Top 10 Roads ranked by crash frequency')\n",
    "plt.show()"
   ]
  },
  {
   "cell_type": "markdown",
   "metadata": {},
   "source": [
    "## Motivation for Normalization"
   ]
  },
  {
   "cell_type": "markdown",
   "metadata": {},
   "source": [
    "The need for normalization is based off the intuition that traffic and crashes are positively correlated. This can be demonstrated using the crash and traffic datasets to confirm this correlation exists.\n",
    "\n",
    "Unlike the crash dataset, the traffic dataset does not contain superfluous columns. Location of each sensor is recorded in latitude, longitude form and average traffic counts are recorded for each hour at each sensor. The average is taken over the period of traffic data collection (2012-2014). Missing values are recorded as an entry of -1, and are replaced by the NaN datatype using pandas and numpy. Handling of missing values is discussed further in section 5.6.\n",
    "\n",
    "Plotting average hourly traffic at a sensor indicates traffic spikes during rush hours as expected and drops during night hours. "
   ]
  },
  {
   "cell_type": "code",
   "execution_count": 99,
   "metadata": {
    "hideCode": true,
    "hidePrompt": true
   },
   "outputs": [],
   "source": [
    "# Traffic by hour\n",
    "t_hour = traffic.iloc[:,3:]"
   ]
  },
  {
   "cell_type": "code",
   "execution_count": 101,
   "metadata": {
    "hideCode": true,
    "hideOutput": false,
    "hidePrompt": true
   },
   "outputs": [
    {
     "data": {
      "image/png": "[encoded data removed]",
      "text/plain": [
       "<matplotlib.figure.Figure at 0x1f50f3f3a58>"
      ]
     },
     "metadata": {},
     "output_type": "display_data"
    }
   ],
   "source": [
    "# Dropping NaN and visualizng total average traffic at all sensors each hour\n",
    "t_hour.replace(-1,np.nan, inplace=True)\n",
    "t_hour.dropna().mean().plot(kind = 'bar')\n",
    "plt.title('Figure 8: Average Traffic Count by Hour')\n",
    "plt.show()"
   ]
  },
  {
   "cell_type": "markdown",
   "metadata": {},
   "source": [
    "Similarily, plotting total crashes per hour reveals peaks at the rush hours. Interestingly, the crashes peak more acutely in the afternoon rush hour. The general observation is the pattern in traffic counts and crash counts appear similar. This similarity can be numerically quantified using correlation."
   ]
  },
  {
   "cell_type": "code",
   "execution_count": 103,
   "metadata": {
    "hideCode": true,
    "hidePrompt": true
   },
   "outputs": [
    {
     "data": {
      "image/png": "[encoded data removed]",
      "text/plain": [
       "<matplotlib.figure.Figure at 0x1f57384ed30>"
      ]
     },
     "metadata": {},
     "output_type": "display_data"
    }
   ],
   "source": [
    "# Visualizing total crashes each hour\n",
    "crash['HOUR_OF_DAY'].replace(99, np.nan, inplace = True)\n",
    "c_hour = crash['HOUR_OF_DAY'].value_counts().sort_index()\n",
    "c_hour.plot(kind = 'bar')\n",
    "plt.title('Figure 9: Total Crashes by Hour')\n",
    "plt.show()"
   ]
  },
  {
   "cell_type": "code",
   "execution_count": 109,
   "metadata": {
    "hideCode": false,
    "hideOutput": true,
    "hidePrompt": true
   },
   "outputs": [
    {
     "data": {
      "text/html": [
       "<div>\n",
       "<style>\n",
       "    .dataframe thead tr:only-child th {\n",
       "        text-align: right;\n",
       "    }\n",
       "\n",
       "    .dataframe thead th {\n",
       "        text-align: left;\n",
       "    }\n",
       "\n",
       "    .dataframe tbody tr th {\n",
       "        vertical-align: top;\n",
       "    }\n",
       "</style>\n",
       "<table border=\"1\" class=\"dataframe\">\n",
       "  <thead>\n",
       "    <tr style=\"text-align: right;\">\n",
       "      <th></th>\n",
       "      <th>Total Crashes</th>\n",
       "      <th>Average traffic</th>\n",
       "    </tr>\n",
       "  </thead>\n",
       "  <tbody>\n",
       "    <tr>\n",
       "      <th>0.0</th>\n",
       "      <td>4179.0</td>\n",
       "      <td>NaN</td>\n",
       "    </tr>\n",
       "    <tr>\n",
       "      <th>1.0</th>\n",
       "      <td>4082.0</td>\n",
       "      <td>31.218393</td>\n",
       "    </tr>\n",
       "    <tr>\n",
       "      <th>2.0</th>\n",
       "      <td>5157.0</td>\n",
       "      <td>27.397583</td>\n",
       "    </tr>\n",
       "    <tr>\n",
       "      <th>3.0</th>\n",
       "      <td>2961.0</td>\n",
       "      <td>34.771707</td>\n",
       "    </tr>\n",
       "    <tr>\n",
       "      <th>4.0</th>\n",
       "      <td>1968.0</td>\n",
       "      <td>70.977441</td>\n",
       "    </tr>\n",
       "  </tbody>\n",
       "</table>\n",
       "</div>"
      ],
      "text/plain": [
       "     Total Crashes  Average traffic\n",
       "0.0         4179.0              NaN\n",
       "1.0         4082.0        31.218393\n",
       "2.0         5157.0        27.397583\n",
       "3.0         2961.0        34.771707\n",
       "4.0         1968.0        70.977441"
      ]
     },
     "execution_count": 109,
     "metadata": {},
     "output_type": "execute_result"
    }
   ],
   "source": [
    "# Building series of average traffic with 0-23 hour labels\n",
    "avg_t = t_hour.mean()\n",
    "c_hour = c_hour.astype(float)\n",
    "avg_t.reset_index(drop = True, inplace = True)\n",
    "avg_t.index = (avg_t.index + 1) % 24\n",
    "\n",
    "# Building dataframe of total crashes, and average traffic each hour\n",
    "c_sum_t_avg = pd.concat([c_hour, avg_t], axis = 1)\n",
    "c_sum_t_avg.columns = ['Total Crashes', 'Average traffic']\n",
    "c_sum_t_avg.head()"
   ]
  },
  {
   "cell_type": "markdown",
   "metadata": {},
   "source": [
    "The correlation between total crashes each hour and average traffic at a sensor each hour can be visualized in the following scatter plots. Figure 10 shows the data without any regression line while Figure 11 shows the data with a regression line, the correlation coefficient is equal to .85. The scatter plots confirm there is a strong positive correlation between the two variables and provides evidence that normalization is necessary to avoid mistaking a measurement of road traffic as a measurement of road danger."
   ]
  },
  {
   "cell_type": "code",
   "execution_count": 110,
   "metadata": {
    "hideCode": true,
    "hidePrompt": true
   },
   "outputs": [
    {
     "data": {
      "image/png": "[encoded data removed]",
      "text/plain": [
       "<matplotlib.figure.Figure at 0x1f51044e668>"
      ]
     },
     "metadata": {},
     "output_type": "display_data"
    }
   ],
   "source": [
    "c_sum_t_avg.plot.scatter(x = 'Total Crashes', y = 'Average traffic')\n",
    "plt.title('Figure 10: Total Crashes vs. Average Traffic by Hour')\n",
    "plt.show()"
   ]
  },
  {
   "cell_type": "code",
   "execution_count": 111,
   "metadata": {
    "hideCode": true,
    "hidePrompt": true
   },
   "outputs": [
    {
     "data": {
      "image/png": "[encoded data removed]",
      "text/plain": [
       "<matplotlib.figure.Figure at 0x1f51157a3c8>"
      ]
     },
     "metadata": {},
     "output_type": "display_data"
    }
   ],
   "source": [
    "sns.lmplot('Total Crashes', 'Average traffic', data = c_sum_t_avg)\n",
    "plt.title('Figure 11: Correlation between Total Crashes and Average Traffic by Hour')\n",
    "plt.show()"
   ]
  },
  {
   "cell_type": "markdown",
   "metadata": {},
   "source": [
    "## Normalization"
   ]
  },
  {
   "cell_type": "markdown",
   "metadata": {},
   "source": [
    "Preparation of the crash dataset for normalization begins with isolating the fields required for merging with traffic data. Only datetime, and location data attributes are required from the crash dataset to match each crash with the appropriate traffic value. Condition and severity attributes will be merged onto the dataset for analysis using latitude and longitude as merge keys further in the project.\n",
    "\n",
    "Combination of the datetime features into a single column is performed as described in section 5.4.1 above effectively reducing the size of the dataframe. Any row with a missing value is dropped as datetime and location are necessary to determine a matching traffic value."
   ]
  },
  {
   "cell_type": "code",
   "execution_count": 31,
   "metadata": {
    "hideCode": true,
    "hideOutput": true,
    "hidePrompt": true
   },
   "outputs": [
    {
     "data": {
      "text/html": [
       "<div>\n",
       "<style>\n",
       "    .dataframe thead tr:only-child th {\n",
       "        text-align: right;\n",
       "    }\n",
       "\n",
       "    .dataframe thead th {\n",
       "        text-align: left;\n",
       "    }\n",
       "\n",
       "    .dataframe tbody tr th {\n",
       "        vertical-align: top;\n",
       "    }\n",
       "</style>\n",
       "<table border=\"1\" class=\"dataframe\">\n",
       "  <thead>\n",
       "    <tr style=\"text-align: right;\">\n",
       "      <th></th>\n",
       "      <th>DEC_LAT</th>\n",
       "      <th>DEC_LONG</th>\n",
       "      <th>STREET_NAME</th>\n",
       "      <th>datetime</th>\n",
       "    </tr>\n",
       "  </thead>\n",
       "  <tbody>\n",
       "    <tr>\n",
       "      <th>0</th>\n",
       "      <td>40.3234</td>\n",
       "      <td>-79.9404</td>\n",
       "      <td>LEWIS RUN RD</td>\n",
       "      <td>2004-01-05 02:57:00</td>\n",
       "    </tr>\n",
       "    <tr>\n",
       "      <th>1</th>\n",
       "      <td>40.3182</td>\n",
       "      <td>-79.9076</td>\n",
       "      <td>COAL VALLEY RD</td>\n",
       "      <td>2004-01-05 10:27:00</td>\n",
       "    </tr>\n",
       "    <tr>\n",
       "      <th>2</th>\n",
       "      <td>40.4886</td>\n",
       "      <td>-80.3371</td>\n",
       "      <td>CLINTON FRANKFORT RD</td>\n",
       "      <td>2004-01-05 18:39:00</td>\n",
       "    </tr>\n",
       "    <tr>\n",
       "      <th>3</th>\n",
       "      <td>40.4188</td>\n",
       "      <td>-80.0494</td>\n",
       "      <td>POPLAR ST</td>\n",
       "      <td>2004-01-06 14:30:00</td>\n",
       "    </tr>\n",
       "    <tr>\n",
       "      <th>4</th>\n",
       "      <td>40.4612</td>\n",
       "      <td>-80.0087</td>\n",
       "      <td>PERRYSVILLE AV</td>\n",
       "      <td>2004-01-01 19:20:00</td>\n",
       "    </tr>\n",
       "  </tbody>\n",
       "</table>\n",
       "</div>"
      ],
      "text/plain": [
       "   DEC_LAT  DEC_LONG           STREET_NAME            datetime\n",
       "0  40.3234  -79.9404          LEWIS RUN RD 2004-01-05 02:57:00\n",
       "1  40.3182  -79.9076        COAL VALLEY RD 2004-01-05 10:27:00\n",
       "2  40.4886  -80.3371  CLINTON FRANKFORT RD 2004-01-05 18:39:00\n",
       "3  40.4188  -80.0494             POPLAR ST 2004-01-06 14:30:00\n",
       "4  40.4612  -80.0087        PERRYSVILLE AV 2004-01-01 19:20:00"
      ]
     },
     "execution_count": 31,
     "metadata": {},
     "output_type": "execute_result"
    }
   ],
   "source": [
    "crash_location = crash.loc[:,('CRASH_YEAR', 'CRASH_MONTH', 'HOUR_OF_DAY', 'TIME_OF_DAY',\n",
    "                              'DAY_OF_WEEK','DEC_LAT', 'DEC_LONG', 'STREET_NAME')]\n",
    "# Limitation of data is day of week is recorded but not day\n",
    "crash_location.dropna(inplace = True)\n",
    "\n",
    "crash_location.rename(columns={'CRASH_YEAR':'year',\n",
    "                               'CRASH_MONTH':'month',\n",
    "                               'HOUR_OF_DAY':'hour',\n",
    "                               'TIME_OF_DAY':'time',\n",
    "                               'DAY_OF_WEEK':'day'}, inplace = True)\n",
    "crash_location['minute'] = crash_location.time % 100\n",
    "crash_location['datetime'] = pd.to_datetime(crash_location[['year', 'month', 'day', 'hour', 'minute']])\n",
    "crash_location.drop(['year', 'month', 'hour', 'time','day','minute'],axis = 1,inplace = True)\n",
    "crash_location.reset_index(drop = True, inplace = True)\n",
    "\n",
    "crash_location.head()"
   ]
  },
  {
   "cell_type": "markdown",
   "metadata": {},
   "source": [
    "The traffic dataset is manipulated through renaming and rearrangement of columns. The raw traffic dataset gives column names as strings in 12-hour time format. The columns are renamed to integers on a 24-hour time scale. The datetime format of the crash dataset uses a 0-23 hour format. The 24-hour case is handled during matching of traffic values rather than in pre-processing of the data."
   ]
  },
  {
   "cell_type": "code",
   "execution_count": 32,
   "metadata": {
    "hideCode": true,
    "hidePrompt": true
   },
   "outputs": [],
   "source": [
    "# Replacing null values\n",
    "traffic.replace(-1,np.NaN,inplace = True)"
   ]
  },
  {
   "cell_type": "code",
   "execution_count": 33,
   "metadata": {
    "hideCode": true,
    "hideOutput": true,
    "hidePrompt": true,
    "scrolled": true
   },
   "outputs": [
    {
     "data": {
      "text/html": [
       "<div>\n",
       "<style>\n",
       "    .dataframe thead tr:only-child th {\n",
       "        text-align: right;\n",
       "    }\n",
       "\n",
       "    .dataframe thead th {\n",
       "        text-align: left;\n",
       "    }\n",
       "\n",
       "    .dataframe tbody tr th {\n",
       "        vertical-align: top;\n",
       "    }\n",
       "</style>\n",
       "<table border=\"1\" class=\"dataframe\">\n",
       "  <thead>\n",
       "    <tr style=\"text-align: right;\">\n",
       "      <th></th>\n",
       "      <th>Latitude</th>\n",
       "      <th>Longitude</th>\n",
       "      <th>1a</th>\n",
       "      <th>2a</th>\n",
       "      <th>3a</th>\n",
       "      <th>4a</th>\n",
       "      <th>5a</th>\n",
       "      <th>6a</th>\n",
       "      <th>7a</th>\n",
       "      <th>8a</th>\n",
       "      <th>...</th>\n",
       "      <th>4p</th>\n",
       "      <th>5p</th>\n",
       "      <th>6p</th>\n",
       "      <th>7p</th>\n",
       "      <th>8p</th>\n",
       "      <th>9p</th>\n",
       "      <th>10p</th>\n",
       "      <th>11p</th>\n",
       "      <th>12a</th>\n",
       "      <th>sensor_ID</th>\n",
       "    </tr>\n",
       "  </thead>\n",
       "  <tbody>\n",
       "    <tr>\n",
       "      <th>0</th>\n",
       "      <td>40.625398</td>\n",
       "      <td>-79.861523</td>\n",
       "      <td>44.0</td>\n",
       "      <td>19.0</td>\n",
       "      <td>14.0</td>\n",
       "      <td>18.0</td>\n",
       "      <td>36.0</td>\n",
       "      <td>151.0</td>\n",
       "      <td>362.0</td>\n",
       "      <td>606.0</td>\n",
       "      <td>...</td>\n",
       "      <td>604.0</td>\n",
       "      <td>678.0</td>\n",
       "      <td>790.0</td>\n",
       "      <td>575.0</td>\n",
       "      <td>431.0</td>\n",
       "      <td>416.0</td>\n",
       "      <td>227.0</td>\n",
       "      <td>188.0</td>\n",
       "      <td>119.0</td>\n",
       "      <td>5879@1</td>\n",
       "    </tr>\n",
       "    <tr>\n",
       "      <th>1</th>\n",
       "      <td>40.445047</td>\n",
       "      <td>-79.796409</td>\n",
       "      <td>18.0</td>\n",
       "      <td>19.0</td>\n",
       "      <td>24.0</td>\n",
       "      <td>31.0</td>\n",
       "      <td>100.0</td>\n",
       "      <td>223.0</td>\n",
       "      <td>356.0</td>\n",
       "      <td>385.0</td>\n",
       "      <td>...</td>\n",
       "      <td>561.0</td>\n",
       "      <td>535.0</td>\n",
       "      <td>402.0</td>\n",
       "      <td>315.0</td>\n",
       "      <td>258.0</td>\n",
       "      <td>200.0</td>\n",
       "      <td>119.0</td>\n",
       "      <td>78.0</td>\n",
       "      <td>36.0</td>\n",
       "      <td>5970@1</td>\n",
       "    </tr>\n",
       "    <tr>\n",
       "      <th>2</th>\n",
       "      <td>40.487624</td>\n",
       "      <td>-79.820976</td>\n",
       "      <td>60.0</td>\n",
       "      <td>36.0</td>\n",
       "      <td>39.0</td>\n",
       "      <td>27.0</td>\n",
       "      <td>45.0</td>\n",
       "      <td>165.0</td>\n",
       "      <td>395.0</td>\n",
       "      <td>584.0</td>\n",
       "      <td>...</td>\n",
       "      <td>637.0</td>\n",
       "      <td>662.0</td>\n",
       "      <td>715.0</td>\n",
       "      <td>611.0</td>\n",
       "      <td>511.0</td>\n",
       "      <td>429.0</td>\n",
       "      <td>247.0</td>\n",
       "      <td>170.0</td>\n",
       "      <td>106.0</td>\n",
       "      <td>5957@1</td>\n",
       "    </tr>\n",
       "    <tr>\n",
       "      <th>3</th>\n",
       "      <td>40.443548</td>\n",
       "      <td>-79.703859</td>\n",
       "      <td>27.0</td>\n",
       "      <td>7.0</td>\n",
       "      <td>14.0</td>\n",
       "      <td>9.0</td>\n",
       "      <td>35.0</td>\n",
       "      <td>119.0</td>\n",
       "      <td>365.0</td>\n",
       "      <td>550.0</td>\n",
       "      <td>...</td>\n",
       "      <td>640.0</td>\n",
       "      <td>698.0</td>\n",
       "      <td>731.0</td>\n",
       "      <td>471.0</td>\n",
       "      <td>390.0</td>\n",
       "      <td>278.0</td>\n",
       "      <td>146.0</td>\n",
       "      <td>111.0</td>\n",
       "      <td>56.0</td>\n",
       "      <td>120@1</td>\n",
       "    </tr>\n",
       "    <tr>\n",
       "      <th>4</th>\n",
       "      <td>40.389899</td>\n",
       "      <td>-80.114273</td>\n",
       "      <td>19.0</td>\n",
       "      <td>14.0</td>\n",
       "      <td>7.0</td>\n",
       "      <td>10.0</td>\n",
       "      <td>9.0</td>\n",
       "      <td>33.0</td>\n",
       "      <td>113.0</td>\n",
       "      <td>232.0</td>\n",
       "      <td>...</td>\n",
       "      <td>247.0</td>\n",
       "      <td>309.0</td>\n",
       "      <td>348.0</td>\n",
       "      <td>324.0</td>\n",
       "      <td>264.0</td>\n",
       "      <td>181.0</td>\n",
       "      <td>140.0</td>\n",
       "      <td>87.0</td>\n",
       "      <td>54.0</td>\n",
       "      <td>26732@1</td>\n",
       "    </tr>\n",
       "  </tbody>\n",
       "</table>\n",
       "<p>5 rows × 27 columns</p>\n",
       "</div>"
      ],
      "text/plain": [
       "    Latitude  Longitude    1a    2a    3a    4a     5a     6a     7a     8a  \\\n",
       "0  40.625398 -79.861523  44.0  19.0  14.0  18.0   36.0  151.0  362.0  606.0   \n",
       "1  40.445047 -79.796409  18.0  19.0  24.0  31.0  100.0  223.0  356.0  385.0   \n",
       "2  40.487624 -79.820976  60.0  36.0  39.0  27.0   45.0  165.0  395.0  584.0   \n",
       "3  40.443548 -79.703859  27.0   7.0  14.0   9.0   35.0  119.0  365.0  550.0   \n",
       "4  40.389899 -80.114273  19.0  14.0   7.0  10.0    9.0   33.0  113.0  232.0   \n",
       "\n",
       "     ...         4p     5p     6p     7p     8p     9p    10p    11p    12a  \\\n",
       "0    ...      604.0  678.0  790.0  575.0  431.0  416.0  227.0  188.0  119.0   \n",
       "1    ...      561.0  535.0  402.0  315.0  258.0  200.0  119.0   78.0   36.0   \n",
       "2    ...      637.0  662.0  715.0  611.0  511.0  429.0  247.0  170.0  106.0   \n",
       "3    ...      640.0  698.0  731.0  471.0  390.0  278.0  146.0  111.0   56.0   \n",
       "4    ...      247.0  309.0  348.0  324.0  264.0  181.0  140.0   87.0   54.0   \n",
       "\n",
       "   sensor_ID  \n",
       "0     5879@1  \n",
       "1     5970@1  \n",
       "2     5957@1  \n",
       "3      120@1  \n",
       "4    26732@1  \n",
       "\n",
       "[5 rows x 27 columns]"
      ]
     },
     "execution_count": 33,
     "metadata": {},
     "output_type": "execute_result"
    }
   ],
   "source": [
    "# Reordering the traffic dataframe to match the latitude longitude form of the crash dataframe\n",
    "traffic_cols = traffic.columns.tolist()\n",
    "traffic_cols = traffic_cols[1:] + [traffic_cols[0]]\n",
    "traffic_cols[0] = 'Latitude'\n",
    "traffic_cols[1] = 'Longitude'\n",
    "traffic = traffic[traffic_cols]\n",
    "traffic.head()"
   ]
  },
  {
   "cell_type": "code",
   "execution_count": 34,
   "metadata": {
    "hideCode": true,
    "hideOutput": true,
    "hidePrompt": true
   },
   "outputs": [
    {
     "name": "stdout",
     "output_type": "stream",
     "text": [
      "27\n"
     ]
    },
    {
     "data": {
      "text/plain": [
       "(    Latitude  Longitude     1     2     3     4      5      6      7      8  \\\n",
       " 0  40.625398 -79.861523  44.0  19.0  14.0  18.0   36.0  151.0  362.0  606.0   \n",
       " 1  40.445047 -79.796409  18.0  19.0  24.0  31.0  100.0  223.0  356.0  385.0   \n",
       " 2  40.487624 -79.820976  60.0  36.0  39.0  27.0   45.0  165.0  395.0  584.0   \n",
       " 3  40.443548 -79.703859  27.0   7.0  14.0   9.0   35.0  119.0  365.0  550.0   \n",
       " 4  40.389899 -80.114273  19.0  14.0   7.0  10.0    9.0   33.0  113.0  232.0   \n",
       " \n",
       "      ...         16     17     18     19     20     21     22     23     24  \\\n",
       " 0    ...      604.0  678.0  790.0  575.0  431.0  416.0  227.0  188.0  119.0   \n",
       " 1    ...      561.0  535.0  402.0  315.0  258.0  200.0  119.0   78.0   36.0   \n",
       " 2    ...      637.0  662.0  715.0  611.0  511.0  429.0  247.0  170.0  106.0   \n",
       " 3    ...      640.0  698.0  731.0  471.0  390.0  278.0  146.0  111.0   56.0   \n",
       " 4    ...      247.0  309.0  348.0  324.0  264.0  181.0  140.0   87.0   54.0   \n",
       " \n",
       "    sensor_ID  \n",
       " 0     5879@1  \n",
       " 1     5970@1  \n",
       " 2     5957@1  \n",
       " 3      120@1  \n",
       " 4    26732@1  \n",
       " \n",
       " [5 rows x 27 columns], 0     36.0\n",
       " 1    100.0\n",
       " 2     45.0\n",
       " 3     35.0\n",
       " 4      9.0\n",
       " Name: 5, dtype: float64)"
      ]
     },
     "execution_count": 34,
     "metadata": {},
     "output_type": "execute_result"
    }
   ],
   "source": [
    "# Rename columns in traffic\n",
    "# Must rename columns of traffic to match 0-23 hour system\n",
    "traffic_cols = traffic.columns.tolist()\n",
    "traffic_cols[2:-1] = list(range(1,25))\n",
    "print(len(traffic_cols))\n",
    "# Not easy way to perform modulus here afaik so handle the 0/24 case in function\n",
    "traffic.columns = traffic_cols\n",
    "traffic.head(),traffic.loc[:,5].head()"
   ]
  },
  {
   "cell_type": "markdown",
   "metadata": {},
   "source": [
    "There are several approaches to finding the closest sensor to each crash. The crash dataset containing locations and datetime information is over 100K rows which makes naive methods that iterate through the entire traffic array for each crash non-desirable. Additionaly, a naive method is not scalable to larger implementations of normalization between crash and traffic datasets. Fortunately, the scipy.spatial.KDTree class provides a binary tree based approach to nearest-neighbor lookup widely appropriate for low-dimensional problems. A k-d tree is constructed of all sensor locations and then queried for each crash occurence to find the closest sensor.\n",
    "\n",
    "Traditionally, the approach to finding distance between latitude longitude coordinates is accomplished using the Haversine formula which approximates the Earth as a sphere. This method is incompatible with KDTree methods of nearest neighbor lookup because the Haversine formula calculates Orthodromic distances, distance measure between points in a sphere, and is incompatible with the construction of the k-d tree.\n",
    "\n",
    "The approach used in this project is to convert latitude longitude coordinates in both the crash and traffic datasets into the earth-centered, earth-fixed cartesian format system and then use the euclidean distance metric to find closest neighbors in the k-d tree. The WGS84 ellipsoid model is used for conversion to earth-centered, earth-fixed coordinates which has an estimated error of less than 2 centimeters and is the standard ellipsoid earth model for GPS systems  (\"World Geodetic System (WGS84) - GIS Geography\", 2017)."
   ]
  },
  {
   "cell_type": "markdown",
   "metadata": {},
   "source": [
    "![Figure 12: Earth-Centered, Earth-Fixed Coordinate Illustration](ECEF.png)"
   ]
  },
  {
   "cell_type": "code",
   "execution_count": 35,
   "metadata": {
    "hideCode": true,
    "hidePrompt": true
   },
   "outputs": [],
   "source": [
    "def LLHtoECEF(df):\n",
    "    #df here is actually type series, named df becaue function applied to df\n",
    "    # see http://www.mathworks.de/help/toolbox/aeroblks/llatoecefposition.html\n",
    "    \n",
    "    df.iloc[0] = np.deg2rad(df.iloc[0])         # Convert to radians\n",
    "    df.iloc[1] = np.deg2rad(df.iloc[1])\n",
    "    \n",
    "    rad = np.float64(6378137.0)        # Radius of the Earth (in meters)\n",
    "    f = np.float64(1.0/298.257223563)  # Flattening factor WGS84 Model\n",
    "    \n",
    "    cosLat = np.cos(df.iloc[0]) # Latitude is stored in first column\n",
    "    sinLat = np.sin(df.iloc[0])\n",
    "    FF     = (1.0-f)**2\n",
    "    C      = 1/np.sqrt(cosLat**2 + FF * sinLat**2)\n",
    "    S      = C * FF\n",
    "\n",
    "    x = (rad * C)*cosLat * np.cos(df.iloc[1]) # Longitude stored in second column\n",
    "    y = (rad * C)*cosLat * np.sin(df.iloc[1]) \n",
    "    z = (rad * S)*sinLat\n",
    "    \n",
    "\n",
    "    return (x ,y , z) # Returns tuple of ECEF in meters"
   ]
  },
  {
   "cell_type": "code",
   "execution_count": 36,
   "metadata": {
    "hideCode": true,
    "hidePrompt": true
   },
   "outputs": [],
   "source": [
    "traffic['ecef'] = traffic.apply(LLHtoECEF, axis = 1)"
   ]
  },
  {
   "cell_type": "code",
   "execution_count": 37,
   "metadata": {
    "hideCode": true,
    "hidePrompt": true
   },
   "outputs": [],
   "source": [
    "# For an unknown reason I need to use iloc to isolate the crash location columns before applying, likely due to datetime\n",
    "crash_location['ecef'] = crash_location.iloc[:,:2].apply(LLHtoECEF, axis=1)"
   ]
  },
  {
   "cell_type": "code",
   "execution_count": 38,
   "metadata": {
    "hideCode": true,
    "hideOutput": true,
    "hidePrompt": true
   },
   "outputs": [
    {
     "data": {
      "text/plain": [
       "(               0             1             2\n",
       " 0  853344.192815 -4.772083e+06  4.130939e+06\n",
       " 1  861072.600669 -4.783920e+06  4.115718e+06\n",
       " 2  858479.025047 -4.781269e+06  4.119315e+06\n",
       " 3  868818.276230 -4.782629e+06  4.115591e+06\n",
       " 4  835201.086995 -4.792535e+06  4.111056e+06,\n",
       "                0             1             2\n",
       " 0  850576.077991 -4.794686e+06  4.105429e+06\n",
       " 1  853386.215354 -4.794566e+06  4.104988e+06\n",
       " 2  815363.016972 -4.788738e+06  4.119397e+06\n",
       " 3  840267.393275 -4.789537e+06  4.113499e+06\n",
       " 4  843139.559476 -4.785931e+06  4.117083e+06)"
      ]
     },
     "execution_count": 38,
     "metadata": {},
     "output_type": "execute_result"
    }
   ],
   "source": [
    "# Tuples must be split before constructing and querying tree\n",
    "traffic_split = traffic.ecef.apply(pd.Series)\n",
    "crash_split = crash_location.ecef.apply(pd.Series)\n",
    "traffic_split.head(), crash_split.head()"
   ]
  },
  {
   "cell_type": "code",
   "execution_count": 39,
   "metadata": {
    "hideCode": true,
    "hidePrompt": true
   },
   "outputs": [],
   "source": [
    "# Create KDTree for quick-queries to find nearest sensors\n",
    "tree = KDTree(traffic_split, leafsize = 2)"
   ]
  },
  {
   "cell_type": "code",
   "execution_count": 40,
   "metadata": {
    "hideCode": true,
    "hideOutput": true,
    "hidePrompt": true
   },
   "outputs": [
    {
     "data": {
      "text/plain": [
       "(409.13786848945063, 1090)"
      ]
     },
     "execution_count": 40,
     "metadata": {},
     "output_type": "execute_result"
    }
   ],
   "source": [
    "# A query returns distance (in meters) and index of sensor which can be used to lookup sensor information in traffic dataframe\n",
    "tree.query(crash_split.iloc[1,:])"
   ]
  },
  {
   "cell_type": "markdown",
   "metadata": {},
   "source": [
    "Querying the k-d tree returns distance in meters between the crash location and the closest sensor and the index of the closest sensor. The distance in meters between the closest sensor found and each crash provides a metric for comparing different normalization technicques but was not explored further in this project. In the more common case of sparse traffic data it is worth exploring alternative normalization approaches incorporating distance (weighted average, fixed radius average, etc.).\n",
    "\n",
    "The sensor index and the hour of the crash are used to find the traffic value at the closest sensor during the hour in which the crash occured. When there is a missing value for the traffic at the hour the crash occured the mean of the sensors readings is used."
   ]
  },
  {
   "cell_type": "code",
   "execution_count": 41,
   "metadata": {
    "hideCode": true,
    "hidePrompt": true
   },
   "outputs": [],
   "source": [
    "# Series of tuples with 0 index corresponding with distance (m) and 1 index sensor index\n",
    "distance_index = crash_split.apply(tree.query, axis = 1)\n",
    "\n",
    "lookup_df = distance_index.apply(pd.Series)\n",
    "lookup_df.columns = ['distance_m','sensor_index']"
   ]
  },
  {
   "cell_type": "code",
   "execution_count": 42,
   "metadata": {
    "hideCode": true,
    "hidePrompt": true
   },
   "outputs": [],
   "source": [
    "closest_sensor_indices = lookup_df.sensor_index.astype(int)"
   ]
  },
  {
   "cell_type": "code",
   "execution_count": 43,
   "metadata": {
    "hideCode": true,
    "hidePrompt": true
   },
   "outputs": [],
   "source": [
    "# Find the correct traffic for the time of day at which the crash occured\n",
    "def traffic_hour(row):\n",
    "    # print(row)\n",
    "    column = row.datetime.hour\n",
    "    # 0 corresponds with 24 in traffic dataframe\n",
    "    if column == 0:\n",
    "        column = 24\n",
    "    df = traffic.iloc[closest_sensor_indices[row.name],:]\n",
    "    # print(df), print(type(df))\n",
    "    if np.isnan(df.loc[column]):\n",
    "        return df.iloc[2:-2].mean()\n",
    "    else:\n",
    "        return df.loc[column]"
   ]
  },
  {
   "cell_type": "code",
   "execution_count": 44,
   "metadata": {
    "hideCode": true,
    "hideOutput": true,
    "hidePrompt": true
   },
   "outputs": [
    {
     "data": {
      "text/html": [
       "<div>\n",
       "<style>\n",
       "    .dataframe thead tr:only-child th {\n",
       "        text-align: right;\n",
       "    }\n",
       "\n",
       "    .dataframe thead th {\n",
       "        text-align: left;\n",
       "    }\n",
       "\n",
       "    .dataframe tbody tr th {\n",
       "        vertical-align: top;\n",
       "    }\n",
       "</style>\n",
       "<table border=\"1\" class=\"dataframe\">\n",
       "  <thead>\n",
       "    <tr style=\"text-align: right;\">\n",
       "      <th></th>\n",
       "      <th>DEC_LAT</th>\n",
       "      <th>DEC_LONG</th>\n",
       "      <th>STREET_NAME</th>\n",
       "      <th>datetime</th>\n",
       "      <th>ecef</th>\n",
       "      <th>traffic</th>\n",
       "      <th>sensor_distance</th>\n",
       "    </tr>\n",
       "  </thead>\n",
       "  <tbody>\n",
       "    <tr>\n",
       "      <th>0</th>\n",
       "      <td>40.3234</td>\n",
       "      <td>-79.9404</td>\n",
       "      <td>LEWIS RUN RD</td>\n",
       "      <td>2004-01-05 02:57:00</td>\n",
       "      <td>(850576.077991, -4794686.27611, 4105428.63702)</td>\n",
       "      <td>25.0</td>\n",
       "      <td>252.784803</td>\n",
       "    </tr>\n",
       "    <tr>\n",
       "      <th>1</th>\n",
       "      <td>40.3182</td>\n",
       "      <td>-79.9076</td>\n",
       "      <td>COAL VALLEY RD</td>\n",
       "      <td>2004-01-05 10:27:00</td>\n",
       "      <td>(853386.215354, -4794566.40574, 4104988.39864)</td>\n",
       "      <td>47.0</td>\n",
       "      <td>409.137868</td>\n",
       "    </tr>\n",
       "    <tr>\n",
       "      <th>2</th>\n",
       "      <td>40.4886</td>\n",
       "      <td>-80.3371</td>\n",
       "      <td>CLINTON FRANKFORT RD</td>\n",
       "      <td>2004-01-05 18:39:00</td>\n",
       "      <td>(815363.016972, -4788738.45089, 4119397.20706)</td>\n",
       "      <td>19.0</td>\n",
       "      <td>2335.682864</td>\n",
       "    </tr>\n",
       "    <tr>\n",
       "      <th>3</th>\n",
       "      <td>40.4188</td>\n",
       "      <td>-80.0494</td>\n",
       "      <td>POPLAR ST</td>\n",
       "      <td>2004-01-06 14:30:00</td>\n",
       "      <td>(840267.393275, -4789537.24936, 4113499.3667)</td>\n",
       "      <td>715.0</td>\n",
       "      <td>621.172308</td>\n",
       "    </tr>\n",
       "    <tr>\n",
       "      <th>4</th>\n",
       "      <td>40.4612</td>\n",
       "      <td>-80.0087</td>\n",
       "      <td>PERRYSVILLE AV</td>\n",
       "      <td>2004-01-01 19:20:00</td>\n",
       "      <td>(843139.559476, -4785931.47629, 4117082.73095)</td>\n",
       "      <td>170.0</td>\n",
       "      <td>501.268419</td>\n",
       "    </tr>\n",
       "  </tbody>\n",
       "</table>\n",
       "</div>"
      ],
      "text/plain": [
       "   DEC_LAT  DEC_LONG           STREET_NAME            datetime  \\\n",
       "0  40.3234  -79.9404          LEWIS RUN RD 2004-01-05 02:57:00   \n",
       "1  40.3182  -79.9076        COAL VALLEY RD 2004-01-05 10:27:00   \n",
       "2  40.4886  -80.3371  CLINTON FRANKFORT RD 2004-01-05 18:39:00   \n",
       "3  40.4188  -80.0494             POPLAR ST 2004-01-06 14:30:00   \n",
       "4  40.4612  -80.0087        PERRYSVILLE AV 2004-01-01 19:20:00   \n",
       "\n",
       "                                             ecef  traffic  sensor_distance  \n",
       "0  (850576.077991, -4794686.27611, 4105428.63702)     25.0       252.784803  \n",
       "1  (853386.215354, -4794566.40574, 4104988.39864)     47.0       409.137868  \n",
       "2  (815363.016972, -4788738.45089, 4119397.20706)     19.0      2335.682864  \n",
       "3   (840267.393275, -4789537.24936, 4113499.3667)    715.0       621.172308  \n",
       "4  (843139.559476, -4785931.47629, 4117082.73095)    170.0       501.268419  "
      ]
     },
     "execution_count": 44,
     "metadata": {},
     "output_type": "execute_result"
    }
   ],
   "source": [
    "crash_location['traffic'] = crash_location.apply(traffic_hour, axis = 1)\n",
    "crash_location['sensor_distance'] = lookup_df.distance_m\n",
    "crash_location.head()"
   ]
  },
  {
   "cell_type": "markdown",
   "metadata": {},
   "source": [
    "After merging the appropriate traffic values onto the crash dataset normalization can be performed by dividing each crash by the corresponding traffic count. There is one caveat to this operation, traffic is recorded as an average hourly count and must be multiplied by the total number of days in the dataset (4,728) to convert to total hourly count. While this does not change the effect of normalization, using total hourly count allows - total crashes / total traffic count - to be interpreted as the risk of getting in a crash.\n",
    "\n",
    "Plotting crash risk (as defined above) over each hour on the normalized data shows a fairly even risk profile during the day, from 7:00AM to 10:00PM and increased risk during night peaking at 3:00AM. From the bar plot in Figure 13 it is already clear that there is not a strong positive correlation between crash risk and traffic as the rush hour periods do not correspond with peaks in crash risk."
   ]
  },
  {
   "cell_type": "code",
   "execution_count": 113,
   "metadata": {
    "hideCode": true,
    "hidePrompt": true
   },
   "outputs": [
    {
     "data": {
      "image/png": "[encoded data removed]",
      "text/plain": [
       "<matplotlib.figure.Figure at 0x1f537f7c3c8>"
      ]
     },
     "metadata": {},
     "output_type": "display_data"
    }
   ],
   "source": [
    "a = crash_location.datetime.dt.hour.value_counts().sort_index()\n",
    "b = crash_location.groupby(crash_location.datetime.dt.hour).sum().traffic\n",
    "# Multiplying by 4728, total days in recorded crash period to divide by total hourly traffic, rather than average hourly traffic\n",
    "(a/(b * 4728)).plot(kind = 'bar')\n",
    "plt.title('Figure 13: Crash Risk by Hour')\n",
    "plt.xlabel('Hour')\n",
    "plt.ylabel('Crash Risk (crashes/single vehicle)')\n",
    "plt.show()"
   ]
  },
  {
   "cell_type": "markdown",
   "metadata": {},
   "source": [
    "The relationship between crash risk and traffic can be further visualized by using a scatter plot. The scatter plot appears to show a negative log correlation between traffic and crash risk which confirms that the effects of traffic on raising the normalized crash risk measurement do not exist. Please note the exact relationship between traffic and crash risk cannot be conclusive due to the multitude of confounded/endogenous variables (time of day, illumination, etc.).\n",
    "\n",
    "Comparing the plots of crash risk which uses traffic counts to normalize versus crash frequency it is clear that normalization has successfully removed the strong effect of traffic. Normalization is integral to developing the crash danger metric which will incorporate the basic crash risk with the severity attributes of the crash dataframe."
   ]
  },
  {
   "cell_type": "code",
   "execution_count": 114,
   "metadata": {
    "hideCode": true,
    "hidePrompt": true
   },
   "outputs": [
    {
     "data": {
      "image/png": "[encoded data removed]",
      "text/plain": [
       "<matplotlib.figure.Figure at 0x1f51044c940>"
      ]
     },
     "metadata": {},
     "output_type": "display_data"
    }
   ],
   "source": [
    "hourly_traffic_crashes = pd.concat([a,b], axis = 1)\n",
    "\n",
    "hourly_traffic_crashes['normalized'] = hourly_traffic_crashes.datetime/(hourly_traffic_crashes.traffic * 4728)\n",
    "sns.lmplot('traffic','normalized', data = hourly_traffic_crashes, fit_reg = False)\n",
    "plt.title('Figure 14: Traffic vs Crash Risk')\n",
    "plt.ylabel('Crash Risk')\n",
    "plt.ylim([0, .000001])\n",
    "plt.show()"
   ]
  },
  {
   "cell_type": "markdown",
   "metadata": {},
   "source": [
    "## Constructing the Metric"
   ]
  },
  {
   "cell_type": "markdown",
   "metadata": {},
   "source": [
    "Throughout the dataset cleaning and normalization processes two metrics have been presented for assessing the relative danger of roads, crash frequency and crash risk. Crash frequency is the simplest metric and is obtained by summing the total number of crashes that have occurred over the period during which the crash dataset was recorded (2004-2016). Crash frequency was shown to be highly affected by traffic and thus crash risk was proposed as a modification to mitigate the effects of traffic. Crash risk is found by dividing each crash by the corresponding total hourly traffic at the closest sensor to the crash. Plotting crash risk over each hour in the day revealed no positive correlation between high traffic and increased risk.\n",
    "\n",
    "Before incorporating severity attributes to create the final metric for road danger the limitations of the crash frequency and crash risk metrics are visualized and discussed."
   ]
  },
  {
   "cell_type": "markdown",
   "metadata": {},
   "source": [
    "From Figure 7 above, the highest crash frequency roads in the Pittsburgh area appear to all be highways. This is unsurprising given the relationship between traffic and crash frequency previously demonstrated. A metric based off crash frequency alone would frequently mistakenly assume highways and other thoroughfares to be more dangerous, when the frequency is primarily a result of the high traffic."
   ]
  },
  {
   "cell_type": "code",
   "execution_count": 118,
   "metadata": {
    "hideCode": true,
    "hidePrompt": true
   },
   "outputs": [
    {
     "data": {
      "image/png": "[encoded data removed]",
      "text/plain": [
       "<matplotlib.figure.Figure at 0x1f50fcfe320>"
      ]
     },
     "metadata": {},
     "output_type": "display_data"
    }
   ],
   "source": [
    "street_traffic = crash_location.groupby('STREET_NAME').sum().traffic\n",
    "street_crashf = crash_location.STREET_NAME.value_counts().sort_index()\n",
    "(street_crashf/(street_traffic * 4728)).sort_values(ascending = False).head(15).plot(kind = 'bar')\n",
    "plt.title('Figure 15: 15 Highest Crash Risk Roads')\n",
    "plt.show()"
   ]
  },
  {
   "cell_type": "markdown",
   "metadata": {},
   "source": [
    "The top 15 \"riskiest\" roads from figure 15 have a uniform risk factor of .0002, or 1 crash/500 vehicles of traffic. Looking at the individual roads in table 1 reveals the reason for the consistency in risk factor.  These roads are ranked as riskiest because there is a single crash on the road and single vehicle average hourly traffic because these crashes occured at night and are in residential areas. In order to get a more useful road ranking using crash risk, the considered roads are restricted to those that have a minimum traffic of 50 cars during at least one crash and more than one crash total on the road. The minimum traffic requirement of 50 cars is chosen to eliminate residential areas and other low traffic areas where it is not possible to make conclusions about safety due to low sample size."
   ]
  },
  {
   "cell_type": "code",
   "execution_count": 121,
   "metadata": {
    "hideCode": true,
    "hidePrompt": true
   },
   "outputs": [
    {
     "name": "stdout",
     "output_type": "stream",
     "text": [
      "Table 1\n"
     ]
    },
    {
     "data": {
      "text/html": [
       "<div>\n",
       "<style>\n",
       "    .dataframe thead tr:only-child th {\n",
       "        text-align: right;\n",
       "    }\n",
       "\n",
       "    .dataframe thead th {\n",
       "        text-align: left;\n",
       "    }\n",
       "\n",
       "    .dataframe tbody tr th {\n",
       "        vertical-align: top;\n",
       "    }\n",
       "</style>\n",
       "<table border=\"1\" class=\"dataframe\">\n",
       "  <thead>\n",
       "    <tr style=\"text-align: right;\">\n",
       "      <th></th>\n",
       "      <th>STREET_NAME</th>\n",
       "      <th>datetime</th>\n",
       "      <th>traffic</th>\n",
       "    </tr>\n",
       "  </thead>\n",
       "  <tbody>\n",
       "    <tr>\n",
       "      <th>93122</th>\n",
       "      <td>FOX CHASE CT</td>\n",
       "      <td>2013-04-03 17:27:00</td>\n",
       "      <td>1.0</td>\n",
       "    </tr>\n",
       "    <tr>\n",
       "      <th>134418</th>\n",
       "      <td>SOUTH SIDE AV</td>\n",
       "      <td>2016-08-04 03:02:00</td>\n",
       "      <td>1.0</td>\n",
       "    </tr>\n",
       "    <tr>\n",
       "      <th>137440</th>\n",
       "      <td>MALDEN AV</td>\n",
       "      <td>2016-08-01 02:30:00</td>\n",
       "      <td>1.0</td>\n",
       "    </tr>\n",
       "  </tbody>\n",
       "</table>\n",
       "</div>"
      ],
      "text/plain": [
       "          STREET_NAME            datetime  traffic\n",
       "93122    FOX CHASE CT 2013-04-03 17:27:00      1.0\n",
       "134418  SOUTH SIDE AV 2016-08-04 03:02:00      1.0\n",
       "137440      MALDEN AV 2016-08-01 02:30:00      1.0"
      ]
     },
     "execution_count": 121,
     "metadata": {},
     "output_type": "execute_result"
    }
   ],
   "source": [
    "uniformrisk = crash_location[(crash_location.STREET_NAME == 'MALDEN AV') | (crash_location.STREET_NAME == 'FOX CHASE CT') |\n",
    "              (crash_location.STREET_NAME == 'SOUTH SIDE AV')]\n",
    "print('Table 1')\n",
    "uniformrisk.loc[:, ['STREET_NAME', 'datetime', 'traffic']]"
   ]
  },
  {
   "cell_type": "code",
   "execution_count": 50,
   "metadata": {
    "hideCode": true,
    "hideOutput": true,
    "hidePrompt": true
   },
   "outputs": [
    {
     "data": {
      "text/html": [
       "<div>\n",
       "<style>\n",
       "    .dataframe thead tr:only-child th {\n",
       "        text-align: right;\n",
       "    }\n",
       "\n",
       "    .dataframe thead th {\n",
       "        text-align: left;\n",
       "    }\n",
       "\n",
       "    .dataframe tbody tr th {\n",
       "        vertical-align: top;\n",
       "    }\n",
       "</style>\n",
       "<table border=\"1\" class=\"dataframe\">\n",
       "  <thead>\n",
       "    <tr style=\"text-align: right;\">\n",
       "      <th></th>\n",
       "      <th>DEC_LAT</th>\n",
       "      <th>DEC_LONG</th>\n",
       "      <th>STREET_NAME</th>\n",
       "      <th>datetime</th>\n",
       "      <th>ecef</th>\n",
       "      <th>traffic</th>\n",
       "      <th>sensor_distance</th>\n",
       "      <th>max_traffic</th>\n",
       "    </tr>\n",
       "  </thead>\n",
       "  <tbody>\n",
       "    <tr>\n",
       "      <th>138947</th>\n",
       "      <td>40.4541</td>\n",
       "      <td>-79.8908</td>\n",
       "      <td>KELLY ST</td>\n",
       "      <td>2016-10-07 01:02:00</td>\n",
       "      <td>(853075.781582, -4784690.02494, 4116482.84218)</td>\n",
       "      <td>37.0</td>\n",
       "      <td>681.753346</td>\n",
       "      <td>957.000000</td>\n",
       "    </tr>\n",
       "    <tr>\n",
       "      <th>138948</th>\n",
       "      <td>40.4578</td>\n",
       "      <td>-79.7397</td>\n",
       "      <td>OLD FRANKSTOWN RD</td>\n",
       "      <td>2016-12-07 11:59:00</td>\n",
       "      <td>(865643.46358, -4782161.33507, 4116795.46809)</td>\n",
       "      <td>311.0</td>\n",
       "      <td>597.310206</td>\n",
       "      <td>880.000000</td>\n",
       "    </tr>\n",
       "    <tr>\n",
       "      <th>138949</th>\n",
       "      <td>40.6674</td>\n",
       "      <td>-79.9790</td>\n",
       "      <td>VALENCIA RD</td>\n",
       "      <td>2016-12-06 05:14:00</td>\n",
       "      <td>(843029.244793, -4770830.63491, 4134477.47916)</td>\n",
       "      <td>75.0</td>\n",
       "      <td>10.371036</td>\n",
       "      <td>331.000000</td>\n",
       "    </tr>\n",
       "    <tr>\n",
       "      <th>138950</th>\n",
       "      <td>40.4430</td>\n",
       "      <td>-79.8390</td>\n",
       "      <td>PENN LINCOLN PY</td>\n",
       "      <td>2016-12-07 01:17:00</td>\n",
       "      <td>(857542.248496, -4784703.93343, 4115544.86237)</td>\n",
       "      <td>283.0</td>\n",
       "      <td>117.253831</td>\n",
       "      <td>996.000000</td>\n",
       "    </tr>\n",
       "    <tr>\n",
       "      <th>138951</th>\n",
       "      <td>40.4435</td>\n",
       "      <td>-80.0068</td>\n",
       "      <td>TENTH ST BY</td>\n",
       "      <td>2016-11-03 21:26:00</td>\n",
       "      <td>(843519.558023, -4787159.39219, 4115587.117)</td>\n",
       "      <td>163.0</td>\n",
       "      <td>27.906064</td>\n",
       "      <td>636.166667</td>\n",
       "    </tr>\n",
       "  </tbody>\n",
       "</table>\n",
       "</div>"
      ],
      "text/plain": [
       "        DEC_LAT  DEC_LONG        STREET_NAME            datetime  \\\n",
       "138947  40.4541  -79.8908           KELLY ST 2016-10-07 01:02:00   \n",
       "138948  40.4578  -79.7397  OLD FRANKSTOWN RD 2016-12-07 11:59:00   \n",
       "138949  40.6674  -79.9790        VALENCIA RD 2016-12-06 05:14:00   \n",
       "138950  40.4430  -79.8390    PENN LINCOLN PY 2016-12-07 01:17:00   \n",
       "138951  40.4435  -80.0068        TENTH ST BY 2016-11-03 21:26:00   \n",
       "\n",
       "                                                  ecef  traffic  \\\n",
       "138947  (853075.781582, -4784690.02494, 4116482.84218)     37.0   \n",
       "138948   (865643.46358, -4782161.33507, 4116795.46809)    311.0   \n",
       "138949  (843029.244793, -4770830.63491, 4134477.47916)     75.0   \n",
       "138950  (857542.248496, -4784703.93343, 4115544.86237)    283.0   \n",
       "138951    (843519.558023, -4787159.39219, 4115587.117)    163.0   \n",
       "\n",
       "        sensor_distance  max_traffic  \n",
       "138947       681.753346   957.000000  \n",
       "138948       597.310206   880.000000  \n",
       "138949        10.371036   331.000000  \n",
       "138950       117.253831   996.000000  \n",
       "138951        27.906064   636.166667  "
      ]
     },
     "execution_count": 50,
     "metadata": {},
     "output_type": "execute_result"
    }
   ],
   "source": [
    "# In order to determine which roads to consider set new column for max traffic for any road, this must be greater than 50\n",
    "maxt_di = crash_location.groupby(crash_location.STREET_NAME).max().traffic\n",
    "maxt_di.to_dict()\n",
    "crash_location['max_traffic'] = crash_location.STREET_NAME.map(maxt_di)\n",
    "crash_location.tail()"
   ]
  },
  {
   "cell_type": "code",
   "execution_count": 122,
   "metadata": {
    "hideCode": true,
    "hidePrompt": true
   },
   "outputs": [
    {
     "data": {
      "image/png": "[encoded data removed]",
      "text/plain": [
       "<matplotlib.figure.Figure at 0x1f50fee2eb8>"
      ]
     },
     "metadata": {},
     "output_type": "display_data"
    }
   ],
   "source": [
    "min_traffic = crash_location[(crash_location.max_traffic >= 50) & (crash_location.STREET_NAME.duplicated() == True)]\n",
    "# duplicated() method returns boolean series indicating which streets are associated with multiple crashes\n",
    "street_traffic = min_traffic.groupby('STREET_NAME').sum().traffic\n",
    "street_crashf = min_traffic.STREET_NAME.value_counts().sort_index()\n",
    "(street_crashf/(street_traffic * 4728)).sort_values(ascending = False).head(10).plot(kind = 'bar')\n",
    "plt.title('Figure 16: Most Dangerous trafficked roads')\n",
    "plt.ylabel('Crash Risk')\n",
    "plt.show()"
   ]
  },
  {
   "cell_type": "markdown",
   "metadata": {},
   "source": [
    "After restricting the considered roads, it is clear that Little Deer Cre[ek] road is the most risky road with 1 crash/1000 vehicles. Looking more closely at Little Deer Cre[ek] road in table 2 reveals the crashes contributing to this risk factor."
   ]
  },
  {
   "cell_type": "code",
   "execution_count": 124,
   "metadata": {
    "hideCode": true,
    "hideOutput": false,
    "hidePrompt": true
   },
   "outputs": [
    {
     "name": "stdout",
     "output_type": "stream",
     "text": [
      "Table 2\n"
     ]
    },
    {
     "data": {
      "text/html": [
       "<div>\n",
       "<style>\n",
       "    .dataframe thead tr:only-child th {\n",
       "        text-align: right;\n",
       "    }\n",
       "\n",
       "    .dataframe thead th {\n",
       "        text-align: left;\n",
       "    }\n",
       "\n",
       "    .dataframe tbody tr th {\n",
       "        vertical-align: top;\n",
       "    }\n",
       "</style>\n",
       "<table border=\"1\" class=\"dataframe\">\n",
       "  <thead>\n",
       "    <tr style=\"text-align: right;\">\n",
       "      <th></th>\n",
       "      <th>STREET_NAME</th>\n",
       "      <th>datetime</th>\n",
       "      <th>traffic</th>\n",
       "    </tr>\n",
       "  </thead>\n",
       "  <tbody>\n",
       "    <tr>\n",
       "      <th>18604</th>\n",
       "      <td>LITTLE DEER CRE RD</td>\n",
       "      <td>2006-06-06 22:30:00</td>\n",
       "      <td>117.0</td>\n",
       "    </tr>\n",
       "    <tr>\n",
       "      <th>21930</th>\n",
       "      <td>LITTLE DEER CRE RD</td>\n",
       "      <td>2006-11-05 03:45:00</td>\n",
       "      <td>2.0</td>\n",
       "    </tr>\n",
       "  </tbody>\n",
       "</table>\n",
       "</div>"
      ],
      "text/plain": [
       "              STREET_NAME            datetime  traffic\n",
       "18604  LITTLE DEER CRE RD 2006-06-06 22:30:00    117.0\n",
       "21930  LITTLE DEER CRE RD 2006-11-05 03:45:00      2.0"
      ]
     },
     "execution_count": 124,
     "metadata": {},
     "output_type": "execute_result"
    }
   ],
   "source": [
    "creek = crash_location[(crash_location.STREET_NAME == 'LITTLE DEER CRE RD')]\n",
    "print('Table 2')\n",
    "creek.loc[:, ['STREET_NAME', 'datetime', 'traffic']]"
   ]
  },
  {
   "cell_type": "markdown",
   "metadata": {},
   "source": [
    "The high crash risk factor is due to the crash at 3:45am where the low hourly traffic contributes significantly to the crash risk factor. Crash risk is calculated by crashes/total hourly traffic, for Little Deek Creek road the crash at 3:45am makes the crash risk factor 1/(4728 x 2) = .000106 while the crash at 10:30pm (22:30) adds a crash risk factor of 1/(4728 x 117) = .00000181. This demonstrates that crash risk is highly dependent on hourly traffic, a higher hourly traffic at 10:30pm resulted in a crash that did not affect the total crash risk (because of rounding). The risk factor does a good job when there is a consistent amount of traffic but crashes at low traffic times have disproportionately high influence. This can be rectified by modifying the contribution of a crash to the risk factor but the risk factor has other issues. The true danger of a road is not only a function of the frequency of its crashes, but also the severity.\n",
    "\n",
    "The performance of the crash risk metric can also be evaluated on the roads ranked least risky, visualized below in figure 17."
   ]
  },
  {
   "cell_type": "code",
   "execution_count": 125,
   "metadata": {
    "hideCode": true,
    "hidePrompt": true
   },
   "outputs": [
    {
     "data": {
      "image/png": "[encoded data removed]",
      "text/plain": [
       "<matplotlib.figure.Figure at 0x1f50e742128>"
      ]
     },
     "metadata": {},
     "output_type": "display_data"
    }
   ],
   "source": [
    "(street_crashf/(street_traffic * 4728)).sort_values(ascending = False).tail(10).plot(kind = 'bar')\n",
    "plt.title('Figure 17: Least Dangerous trafficked roads')\n",
    "plt.ylabel('Crash Risk')\n",
    "plt.show()"
   ]
  },
  {
   "cell_type": "markdown",
   "metadata": {},
   "source": [
    "The least dangerous roads all have high traffic which reduces the risk score. Many of these least dangerous roads are short road segments that are near heavily trafficked areas (Connector Road, Fawcett Street, Seneca Road, Alicia Drive, Gearing Avenue, Delmont Street).\n",
    "\n",
    "The remaining streets appear to achieve the low risk score on the basis of their higher traffic due to being a thoroughfare."
   ]
  },
  {
   "cell_type": "code",
   "execution_count": 127,
   "metadata": {
    "hideCode": true,
    "hidePrompt": true
   },
   "outputs": [
    {
     "name": "stdout",
     "output_type": "stream",
     "text": [
      "Table 3\n"
     ]
    },
    {
     "data": {
      "text/html": [
       "<div>\n",
       "<style>\n",
       "    .dataframe thead tr:only-child th {\n",
       "        text-align: right;\n",
       "    }\n",
       "\n",
       "    .dataframe thead th {\n",
       "        text-align: left;\n",
       "    }\n",
       "\n",
       "    .dataframe tbody tr th {\n",
       "        vertical-align: top;\n",
       "    }\n",
       "</style>\n",
       "<table border=\"1\" class=\"dataframe\">\n",
       "  <thead>\n",
       "    <tr style=\"text-align: right;\">\n",
       "      <th></th>\n",
       "      <th>STREET_NAME</th>\n",
       "      <th>datetime</th>\n",
       "      <th>traffic</th>\n",
       "    </tr>\n",
       "  </thead>\n",
       "  <tbody>\n",
       "    <tr>\n",
       "      <th>71192</th>\n",
       "      <td>DELMONT ST</td>\n",
       "      <td>2011-05-05 15:40:00</td>\n",
       "      <td>203.5</td>\n",
       "    </tr>\n",
       "    <tr>\n",
       "      <th>72927</th>\n",
       "      <td>DELMONT ST</td>\n",
       "      <td>2011-07-04 16:40:00</td>\n",
       "      <td>1218.0</td>\n",
       "    </tr>\n",
       "  </tbody>\n",
       "</table>\n",
       "</div>"
      ],
      "text/plain": [
       "      STREET_NAME            datetime  traffic\n",
       "71192  DELMONT ST 2011-05-05 15:40:00    203.5\n",
       "72927  DELMONT ST 2011-07-04 16:40:00   1218.0"
      ]
     },
     "execution_count": 127,
     "metadata": {},
     "output_type": "execute_result"
    }
   ],
   "source": [
    "leastrisky = crash_location[(crash_location.STREET_NAME == 'DELMONT ST')]\n",
    "print('Table 3')\n",
    "leastrisky.loc[:, ['STREET_NAME', 'datetime', 'traffic']]"
   ]
  },
  {
   "cell_type": "code",
   "execution_count": 55,
   "metadata": {
    "hideCode": true,
    "hidePrompt": true
   },
   "outputs": [],
   "source": [
    "crash_severity = crash.loc[:,('FATAL', 'FATAL_COUNT', 'FATAL_OR_MAJ_INJ', 'INJURY', 'INJURY_COUNT', 'MAJ_INJ_COUNT', 'MAJOR_INJURY', 'MAX_SEVERITY_LEVEL', 'VEHICLE_COUNT','DEC_LAT','DEC_LONG')]\n",
    "# Merge severity information with crash location and traffic information\n",
    "crash_sev_loc = crash_severity.merge(crash_location)\n",
    "# Drop duplicates from merged dataframe\n",
    "crash_sev_loc.drop_duplicates(subset = ['DEC_LAT', 'DEC_LONG', 'datetime'], inplace = True)"
   ]
  },
  {
   "cell_type": "markdown",
   "metadata": {},
   "source": [
    "Severity of a crash captures the injuries, and fatalities of a crash. The issue with only using Injury Count and Fatality Count to construct the severity metric is they are equally weighted (a fatality does not count as an injury in this dataset). The last term, Fatality or Major Injury + 1, is a 1 or 2 and solves the issue of underweighting serious crashes by exponentiating the severity of such crashes.\n",
    "\n",
    "One must be added to each term because the severity will be multiplied by each crash, and a severity of zero would effectively negate the existence of the crash in the calculation of danger."
   ]
  },
  {
   "cell_type": "code",
   "execution_count": 132,
   "metadata": {
    "hidePrompt": true
   },
   "outputs": [
    {
     "data": {
      "image/png": "[encoded data removed]",
      "text/plain": [
       "<matplotlib.figure.Figure at 0x1f5123b9780>"
      ]
     },
     "metadata": {},
     "output_type": "display_data"
    }
   ],
   "source": [
    "# Calculation of Severity\n",
    "sev = (crash_sev_loc.INJURY_COUNT + 1) * (crash_sev_loc.FATAL_COUNT + 1) * \\\n",
    "(crash_sev_loc.FATAL_OR_MAJ_INJ + 1)\n",
    "crash_sev_loc['severity'] = sev\n",
    "sev.hist(bins = 50)\n",
    "\n",
    "plt.title('Figure 18: Distribution of Severity')\n",
    "plt.show()"
   ]
  },
  {
   "cell_type": "markdown",
   "metadata": {},
   "source": [
    "There are some limitations of this severity metric. Primarily, it is not easily interpretable like the crash risk metric. The other limitation is the severity metric does not distinguish between crashes of different injury levels, minor and moderate injury will result in same risk score.\n",
    "\n",
    "Combining the severity metric with crash risk is straightforward. Crash danger on the road network is defined as the sum of crash risk * severity for all crashes on a road segment."
   ]
  },
  {
   "cell_type": "code",
   "execution_count": 134,
   "metadata": {
    "hideCode": true,
    "hidePrompt": true
   },
   "outputs": [
    {
     "data": {
      "image/png": "[encoded data removed]",
      "text/plain": [
       "<matplotlib.figure.Figure at 0x1f50fedc358>"
      ]
     },
     "metadata": {},
     "output_type": "display_data"
    }
   ],
   "source": [
    "major_roads = crash_sev_loc[(crash_sev_loc.max_traffic >= 50) & \\\n",
    "                            (crash_sev_loc.STREET_NAME.duplicated() == True)]\n",
    "\n",
    "major_traffic = crash_sev_loc.groupby('STREET_NAME').sum().traffic\n",
    "major_crashf = crash_sev_loc.STREET_NAME.value_counts().sort_index()\n",
    "major_sev = crash_sev_loc.groupby('STREET_NAME').sum().severity\n",
    "\n",
    "((major_crashf * major_sev) / (major_traffic * 4728)).sort_values(ascending = False).head(10).plot(kind = 'bar')\n",
    "plt.title('Figure 19: Top 10 highest danger roads')\n",
    "plt.show()"
   ]
  },
  {
   "cell_type": "markdown",
   "metadata": {},
   "source": [
    "Using the crash danger metric, the rankings shift to highways and large thoroughfares. Highways are associated with high speed limits which could be associated with higher severity crashes. The significance of conditions like roadway type, and speed limit must be analyzed statsitically to determine if the observed difference is statistically signficant."
   ]
  },
  {
   "cell_type": "markdown",
   "metadata": {},
   "source": [
    "## Statistical Analysis"
   ]
  },
  {
   "cell_type": "code",
   "execution_count": 58,
   "metadata": {
    "hideCode": true,
    "hidePrompt": true
   },
   "outputs": [],
   "source": [
    "# Merge and drop duplicates\n",
    "crash_sev_loc['danger'] = crash_sev_loc.severity/(crash_sev_loc.traffic * 4728)\n",
    "crash_conditions = crash.loc[:, ('WEATHER', 'ILLUMINATION', 'INTERSECT_TYPE', 'LOCATION_TYPE', 'RELATION_TO_ROAD', 'ROAD_CONDITION', 'SPEED_LIMIT', 'TCD_FUNC_CD', 'TCD_TYPE', 'DEC_LAT', 'DEC_LONG')]\n",
    "crash_sev_loc_cond = crash_conditions.merge(crash_sev_loc, on=['DEC_LAT','DEC_LONG'])\n",
    "crash_sev_loc_cond.drop_duplicates(subset = ['datetime','DEC_LAT','DEC_LONG'], inplace = True)"
   ]
  },
  {
   "cell_type": "code",
   "execution_count": 59,
   "metadata": {
    "hideCode": true,
    "hidePrompt": true
   },
   "outputs": [],
   "source": [
    "weather_di = {1:'No adverse conditions',\n",
    "              2: 'Rain',\n",
    "              3: 'Sleet (hail)',\n",
    "              4: 'Snow',\n",
    "              5: 'Fog',\n",
    "              6: 'Rain and fog',\n",
    "              7: 'Sleet and fog',\n",
    "              8: 'Other',\n",
    "              9: np.NaN}\n",
    "illumination_di = {1: 'Daylight',\n",
    "                   2: 'Dark - no street lights',\n",
    "                   3: 'Dark - street lights',\n",
    "                   4: 'Dusk',\n",
    "                   5: 'Dawn',\n",
    "                   6: 'Dark - unknown roadway lighting',\n",
    "                   8: 'Other',\n",
    "                   9: np.NaN}\n",
    "intersect_di = {0: 'Mid-block',\n",
    "                1: 'Four way intersection',\n",
    "                2: 'T intersection',\n",
    "                3: 'Y intersection',\n",
    "                4: 'Traffic circle/Round about',\n",
    "                5: 'Multi-leg intersection',\n",
    "                6: 'On ramp',\n",
    "                7: 'Off ramp',\n",
    "                8: 'Crossover',\n",
    "                9: 'Railroad crossing',\n",
    "                10: 'Other',\n",
    "                99: np.NaN}\n",
    "location_di = {0: 'Not applicable',\n",
    "               1: 'Underpass',\n",
    "               2: 'Ramp',\n",
    "               3: 'Bridge',\n",
    "               4: 'Tunnel',\n",
    "               5: 'Toll Booth',\n",
    "               6: 'Cross over related',\n",
    "               7: 'Driveway or Parking Lot',\n",
    "               8: 'Ramp and bridge',\n",
    "               9: np.NaN}\n",
    "relation_di = {1: 'On roadway',\n",
    "               2: 'Shoulder',\n",
    "               3: 'Median',\n",
    "               4: 'Roadside',\n",
    "               5: 'Outside trafficway',\n",
    "               6: 'In parking lane',\n",
    "               7: 'Gore',\n",
    "               9: np.NaN}\n",
    "# Gore is intersection of ramp and highway\n",
    "road_cond = {0: 'Dry',\n",
    "             1: 'Wet',\n",
    "             2: 'Sand/mud/dirt/oil/gravel',\n",
    "             3: 'Snow covered',\n",
    "             4: 'Slush',\n",
    "             5: 'Ice', \n",
    "             6: 'Ice Patches',\n",
    "             7: 'Water - standing/moving',\n",
    "             8: 'Other',\n",
    "             9: np.NaN}\n",
    "tcdtype_di = {0: np.NaN,\n",
    "              1: 'Flashing traffic signal',\n",
    "              2: 'Traffic signal',\n",
    "              3: 'Stop sign',\n",
    "              4: 'Yield sign',\n",
    "              5: 'Active RR crossing controls',\n",
    "              6: 'Passive RR crossing controls',\n",
    "              7: 'Police officer or flagman',\n",
    "              8: 'Other type TCD'}"
   ]
  },
  {
   "cell_type": "code",
   "execution_count": 60,
   "metadata": {
    "hideCode": true,
    "hideOutput": true,
    "hidePrompt": true
   },
   "outputs": [
    {
     "data": {
      "text/html": [
       "<div>\n",
       "<style>\n",
       "    .dataframe thead tr:only-child th {\n",
       "        text-align: right;\n",
       "    }\n",
       "\n",
       "    .dataframe thead th {\n",
       "        text-align: left;\n",
       "    }\n",
       "\n",
       "    .dataframe tbody tr th {\n",
       "        vertical-align: top;\n",
       "    }\n",
       "</style>\n",
       "<table border=\"1\" class=\"dataframe\">\n",
       "  <thead>\n",
       "    <tr style=\"text-align: right;\">\n",
       "      <th></th>\n",
       "      <th>WEATHER</th>\n",
       "      <th>ILLUMINATION</th>\n",
       "      <th>INTERSECT_TYPE</th>\n",
       "      <th>LOCATION_TYPE</th>\n",
       "      <th>RELATION_TO_ROAD</th>\n",
       "      <th>ROAD_CONDITION</th>\n",
       "      <th>SPEED_LIMIT</th>\n",
       "      <th>TCD_FUNC_CD</th>\n",
       "      <th>TCD_TYPE</th>\n",
       "      <th>DEC_LAT</th>\n",
       "      <th>...</th>\n",
       "      <th>max_traffic</th>\n",
       "      <th>severity</th>\n",
       "      <th>danger</th>\n",
       "      <th>WEATHER_DES</th>\n",
       "      <th>ILLUMINATION_DES</th>\n",
       "      <th>INTERSECT_DES</th>\n",
       "      <th>LOCATION_DES</th>\n",
       "      <th>ROAD_RELATION_DES</th>\n",
       "      <th>ROAD_CONDITION_DES</th>\n",
       "      <th>TCD_DES</th>\n",
       "    </tr>\n",
       "  </thead>\n",
       "  <tbody>\n",
       "    <tr>\n",
       "      <th>0</th>\n",
       "      <td>1.0</td>\n",
       "      <td>2.0</td>\n",
       "      <td>0.0</td>\n",
       "      <td>0.0</td>\n",
       "      <td>2.0</td>\n",
       "      <td>0.0</td>\n",
       "      <td>35.0</td>\n",
       "      <td>0.0</td>\n",
       "      <td>0.0</td>\n",
       "      <td>40.3234</td>\n",
       "      <td>...</td>\n",
       "      <td>816.0</td>\n",
       "      <td>1.0</td>\n",
       "      <td>0.000008</td>\n",
       "      <td>No adverse conditions</td>\n",
       "      <td>Dark - no street lights</td>\n",
       "      <td>Mid-block</td>\n",
       "      <td>Not applicable</td>\n",
       "      <td>Shoulder</td>\n",
       "      <td>Dry</td>\n",
       "      <td>NaN</td>\n",
       "    </tr>\n",
       "    <tr>\n",
       "      <th>1</th>\n",
       "      <td>1.0</td>\n",
       "      <td>1.0</td>\n",
       "      <td>0.0</td>\n",
       "      <td>0.0</td>\n",
       "      <td>5.0</td>\n",
       "      <td>6.0</td>\n",
       "      <td>35.0</td>\n",
       "      <td>0.0</td>\n",
       "      <td>0.0</td>\n",
       "      <td>40.3182</td>\n",
       "      <td>...</td>\n",
       "      <td>960.0</td>\n",
       "      <td>2.0</td>\n",
       "      <td>0.000009</td>\n",
       "      <td>No adverse conditions</td>\n",
       "      <td>Daylight</td>\n",
       "      <td>Mid-block</td>\n",
       "      <td>Not applicable</td>\n",
       "      <td>Outside trafficway</td>\n",
       "      <td>Ice Patches</td>\n",
       "      <td>NaN</td>\n",
       "    </tr>\n",
       "    <tr>\n",
       "      <th>2</th>\n",
       "      <td>1.0</td>\n",
       "      <td>2.0</td>\n",
       "      <td>3.0</td>\n",
       "      <td>0.0</td>\n",
       "      <td>5.0</td>\n",
       "      <td>0.0</td>\n",
       "      <td>35.0</td>\n",
       "      <td>3.0</td>\n",
       "      <td>3.0</td>\n",
       "      <td>40.4886</td>\n",
       "      <td>...</td>\n",
       "      <td>21.0</td>\n",
       "      <td>2.0</td>\n",
       "      <td>0.000022</td>\n",
       "      <td>No adverse conditions</td>\n",
       "      <td>Dark - no street lights</td>\n",
       "      <td>Y intersection</td>\n",
       "      <td>Not applicable</td>\n",
       "      <td>Outside trafficway</td>\n",
       "      <td>Dry</td>\n",
       "      <td>Stop sign</td>\n",
       "    </tr>\n",
       "    <tr>\n",
       "      <th>3</th>\n",
       "      <td>1.0</td>\n",
       "      <td>2.0</td>\n",
       "      <td>3.0</td>\n",
       "      <td>0.0</td>\n",
       "      <td>5.0</td>\n",
       "      <td>0.0</td>\n",
       "      <td>35.0</td>\n",
       "      <td>3.0</td>\n",
       "      <td>3.0</td>\n",
       "      <td>40.4886</td>\n",
       "      <td>...</td>\n",
       "      <td>1153.0</td>\n",
       "      <td>2.0</td>\n",
       "      <td>0.000033</td>\n",
       "      <td>No adverse conditions</td>\n",
       "      <td>Dark - no street lights</td>\n",
       "      <td>Y intersection</td>\n",
       "      <td>Not applicable</td>\n",
       "      <td>Outside trafficway</td>\n",
       "      <td>Dry</td>\n",
       "      <td>Stop sign</td>\n",
       "    </tr>\n",
       "    <tr>\n",
       "      <th>4</th>\n",
       "      <td>1.0</td>\n",
       "      <td>2.0</td>\n",
       "      <td>3.0</td>\n",
       "      <td>0.0</td>\n",
       "      <td>5.0</td>\n",
       "      <td>0.0</td>\n",
       "      <td>35.0</td>\n",
       "      <td>3.0</td>\n",
       "      <td>3.0</td>\n",
       "      <td>40.4886</td>\n",
       "      <td>...</td>\n",
       "      <td>21.0</td>\n",
       "      <td>2.0</td>\n",
       "      <td>0.000024</td>\n",
       "      <td>No adverse conditions</td>\n",
       "      <td>Dark - no street lights</td>\n",
       "      <td>Y intersection</td>\n",
       "      <td>Not applicable</td>\n",
       "      <td>Outside trafficway</td>\n",
       "      <td>Dry</td>\n",
       "      <td>Stop sign</td>\n",
       "    </tr>\n",
       "  </tbody>\n",
       "</table>\n",
       "<p>5 rows × 35 columns</p>\n",
       "</div>"
      ],
      "text/plain": [
       "   WEATHER  ILLUMINATION  INTERSECT_TYPE  LOCATION_TYPE  RELATION_TO_ROAD  \\\n",
       "0      1.0           2.0             0.0            0.0               2.0   \n",
       "1      1.0           1.0             0.0            0.0               5.0   \n",
       "2      1.0           2.0             3.0            0.0               5.0   \n",
       "3      1.0           2.0             3.0            0.0               5.0   \n",
       "4      1.0           2.0             3.0            0.0               5.0   \n",
       "\n",
       "   ROAD_CONDITION  SPEED_LIMIT  TCD_FUNC_CD  TCD_TYPE  DEC_LAT    ...      \\\n",
       "0             0.0         35.0          0.0       0.0  40.3234    ...       \n",
       "1             6.0         35.0          0.0       0.0  40.3182    ...       \n",
       "2             0.0         35.0          3.0       3.0  40.4886    ...       \n",
       "3             0.0         35.0          3.0       3.0  40.4886    ...       \n",
       "4             0.0         35.0          3.0       3.0  40.4886    ...       \n",
       "\n",
       "   max_traffic  severity    danger            WEATHER_DES  \\\n",
       "0        816.0       1.0  0.000008  No adverse conditions   \n",
       "1        960.0       2.0  0.000009  No adverse conditions   \n",
       "2         21.0       2.0  0.000022  No adverse conditions   \n",
       "3       1153.0       2.0  0.000033  No adverse conditions   \n",
       "4         21.0       2.0  0.000024  No adverse conditions   \n",
       "\n",
       "          ILLUMINATION_DES   INTERSECT_DES    LOCATION_DES  \\\n",
       "0  Dark - no street lights       Mid-block  Not applicable   \n",
       "1                 Daylight       Mid-block  Not applicable   \n",
       "2  Dark - no street lights  Y intersection  Not applicable   \n",
       "3  Dark - no street lights  Y intersection  Not applicable   \n",
       "4  Dark - no street lights  Y intersection  Not applicable   \n",
       "\n",
       "    ROAD_RELATION_DES  ROAD_CONDITION_DES    TCD_DES  \n",
       "0            Shoulder                 Dry        NaN  \n",
       "1  Outside trafficway         Ice Patches        NaN  \n",
       "2  Outside trafficway                 Dry  Stop sign  \n",
       "3  Outside trafficway                 Dry  Stop sign  \n",
       "4  Outside trafficway                 Dry  Stop sign  \n",
       "\n",
       "[5 rows x 35 columns]"
      ]
     },
     "execution_count": 60,
     "metadata": {},
     "output_type": "execute_result"
    }
   ],
   "source": [
    "crash_sev_loc_cond['WEATHER_DES'] = crash_sev_loc_cond.WEATHER.map(weather_di)\n",
    "crash_sev_loc_cond['ILLUMINATION_DES'] = crash_sev_loc_cond.ILLUMINATION.map(illumination_di)\n",
    "crash_sev_loc_cond['INTERSECT_DES'] = crash_sev_loc_cond.INTERSECT_TYPE.map(intersect_di)\n",
    "crash_sev_loc_cond['LOCATION_DES'] = crash_sev_loc_cond.LOCATION_TYPE.map(location_di)\n",
    "crash_sev_loc_cond['ROAD_RELATION_DES'] = crash_sev_loc_cond.RELATION_TO_ROAD.map(relation_di)\n",
    "crash_sev_loc_cond['ROAD_CONDITION_DES'] = crash_sev_loc_cond.ROAD_CONDITION.map(road_cond)\n",
    "crash_sev_loc_cond['TCD_DES'] = crash_sev_loc_cond.TCD_TYPE.map(tcdtype_di)\n",
    "crash_sev_loc_cond.head()"
   ]
  },
  {
   "cell_type": "markdown",
   "metadata": {},
   "source": [
    "The primary purpose of statistical analysis for this project is to establish a method for testing the validity of taking one route over another based on the road danger metric established in the previous section. Before considering the comparison between separate routes the development of statistical analysis begins with reconsideration of the crash condition attributes. Studying the effect size and statistical significance of one crash condition over another provides an analogous problem to choosing one route over another with some key advantages.\n",
    "\n",
    "The first advantage is sample size, almost every condition has over 1000 samples making determination of statistical significance easier; in contrast, the route determination problem may only have a few crashes occuring on each route making significance more difficult to achieve. The second advantage is an issue of data availability, comparing the effects of crash conditions is straightforward as all necessary attributes are included in the full crash dataset. Comparing routes against each other requires GIS data not available for this project, the lengths of each road segment and a join key so road lengths can be merged into the full normalized crash dataset. An example comparison of routes is provided using Google Maps to determine the necessary road lengths, but comparison of routes on scale requires a complete GIS data source."
   ]
  },
  {
   "cell_type": "markdown",
   "metadata": {},
   "source": [
    "Comparison of conditions can be streamlined by creating an additional column holding the road danger metric for each crash. This is calculated for each crash by dividing severity by traffic. The creation of this additional column enables the use of a groupby method to compare the mean danger of one condition against another. Mean is chosen because each condition does not occur for equivalent time. For example, when comparing weather conditions it is far more likely that there are no adverse conditions than fog.\n",
    "\n",
    "An important limitation to note about comparing conditions is that normalization is performed with hourly average traffic and is not specific to each condition. Therefore, if one condition experiences lower traffic this is not reflected in the danger metric. Lower traffic can be expected in inclimate conditions (rain/snow/sleet/etc) but the effect on danger is not possible to quantify without specific daily traffic information."
   ]
  },
  {
   "cell_type": "markdown",
   "metadata": {},
   "source": [
    "Comparisons for each conditions attribute can be obtained by grouping by mean danger and producing a bar chart as shown in the code example below. Determining if the visual discrepancies are statistically significant is the next step in analyzing conditions."
   ]
  },
  {
   "cell_type": "code",
   "execution_count": 136,
   "metadata": {
    "hidePrompt": true,
    "scrolled": true
   },
   "outputs": [
    {
     "data": {
      "image/png": "[encoded data removed]",
      "text/plain": [
       "<matplotlib.figure.Figure at 0x1f50e73f828>"
      ]
     },
     "metadata": {},
     "output_type": "display_data"
    }
   ],
   "source": [
    "crash_sev_loc_cond.groupby('SPEED_LIMIT').mean().danger.plot(kind = 'bar')\n",
    "plt.title('Figure 20: Average Danger of Crashes for different Speed Limits')\n",
    "plt.show()"
   ]
  },
  {
   "cell_type": "code",
   "execution_count": 137,
   "metadata": {
    "hideCode": true,
    "hidePrompt": true,
    "scrolled": true
   },
   "outputs": [
    {
     "data": {
      "image/png": "[encoded data removed]",
      "text/plain": [
       "<matplotlib.figure.Figure at 0x1f50fdacb38>"
      ]
     },
     "metadata": {},
     "output_type": "display_data"
    }
   ],
   "source": [
    "crash_sev_loc_cond.groupby('ILLUMINATION_DES').mean().danger.plot(kind = 'bar')\n",
    "plt.show()"
   ]
  },
  {
   "cell_type": "code",
   "execution_count": 138,
   "metadata": {
    "hideCode": true,
    "hidePrompt": true
   },
   "outputs": [
    {
     "data": {
      "image/png": "[encoded data removed]",
      "text/plain": [
       "<matplotlib.figure.Figure at 0x1f50fe07a20>"
      ]
     },
     "metadata": {},
     "output_type": "display_data"
    }
   ],
   "source": [
    "crash_sev_loc_cond.groupby('TCD_DES').mean().danger.plot(kind = 'bar')\n",
    "plt.show()"
   ]
  },
  {
   "cell_type": "code",
   "execution_count": 139,
   "metadata": {
    "hideCode": true,
    "hidePrompt": true
   },
   "outputs": [
    {
     "data": {
      "image/png": "[encoded data removed]",
      "text/plain": [
       "<matplotlib.figure.Figure at 0x1f50e73df28>"
      ]
     },
     "metadata": {},
     "output_type": "display_data"
    }
   ],
   "source": [
    "crash_sev_loc_cond.groupby('ROAD_CONDITION_DES').mean().severity.plot(kind = 'bar')\n",
    "plt.show()"
   ]
  },
  {
   "cell_type": "code",
   "execution_count": 140,
   "metadata": {
    "hideCode": true,
    "hidePrompt": true
   },
   "outputs": [
    {
     "data": {
      "image/png": "[encoded data removed]",
      "text/plain": [
       "<matplotlib.figure.Figure at 0x1f52f8a76d8>"
      ]
     },
     "metadata": {},
     "output_type": "display_data"
    }
   ],
   "source": [
    "crash_sev_loc_cond.groupby('ROAD_RELATION_DES').mean().severity.plot(kind = 'bar')\n",
    "plt.show()"
   ]
  },
  {
   "cell_type": "code",
   "execution_count": 141,
   "metadata": {
    "hideCode": true,
    "hidePrompt": true
   },
   "outputs": [
    {
     "data": {
      "image/png": "[encoded data removed]",
      "text/plain": [
       "<matplotlib.figure.Figure at 0x1f52891d7b8>"
      ]
     },
     "metadata": {},
     "output_type": "display_data"
    }
   ],
   "source": [
    "crash_sev_loc_cond.groupby('INTERSECT_DES').mean().severity.plot(kind = 'bar')\n",
    "plt.show()"
   ]
  },
  {
   "cell_type": "code",
   "execution_count": 142,
   "metadata": {
    "hideCode": true,
    "hidePrompt": true
   },
   "outputs": [
    {
     "data": {
      "image/png": "[encoded data removed]",
      "text/plain": [
       "<matplotlib.figure.Figure at 0x1f573804e10>"
      ]
     },
     "metadata": {},
     "output_type": "display_data"
    }
   ],
   "source": [
    "crash_sev_loc_cond.groupby('WEATHER_DES').mean().severity.plot(kind = 'bar')\n",
    "plt.show()"
   ]
  },
  {
   "cell_type": "markdown",
   "metadata": {},
   "source": [
    "The distribution of the danger metric across each road in the road network is not gaussian. Determination of the underlying distribution is critical to selecting an appropriate statistical test for significance. The t-test is not appropriate with a non-normally distributed dataset."
   ]
  },
  {
   "cell_type": "code",
   "execution_count": 68,
   "metadata": {
    "hideCode": true
   },
   "outputs": [],
   "source": [
    "danger_net = crash_sev_loc_cond.groupby('STREET_NAME').mean().danger"
   ]
  },
  {
   "cell_type": "markdown",
   "metadata": {},
   "source": [
    "Plotting the probability distribution function and cumulative complementary distribution function on a logarithmic scale reveals the distribution appears to be either lognormally or power law distributed. A power law distribution is less likely as both the complementary cumulative distribution function and the probability distribuiton function should appear to be straight lines with a perfect power law distribution."
   ]
  },
  {
   "cell_type": "code",
   "execution_count": 143,
   "metadata": {
    "hideCode": true,
    "hidePrompt": true
   },
   "outputs": [
    {
     "data": {
      "image/png": "[encoded data removed]",
      "text/plain": [
       "<matplotlib.figure.Figure at 0x1f537f9cda0>"
      ]
     },
     "metadata": {},
     "output_type": "display_data"
    }
   ],
   "source": [
    "data = crash_sev_loc_cond.groupby('STREET_NAME').sum().danger\n",
    "pl.plot_pdf(data, color = 'k')\n",
    "plt.show()"
   ]
  },
  {
   "cell_type": "code",
   "execution_count": 144,
   "metadata": {
    "hideCode": true,
    "hidePrompt": true
   },
   "outputs": [
    {
     "data": {
      "image/png": "[encoded data removed]",
      "text/plain": [
       "<matplotlib.figure.Figure at 0x1f50fe500f0>"
      ]
     },
     "metadata": {},
     "output_type": "display_data"
    }
   ],
   "source": [
    "pl.plot_ccdf(data, color = 'b')\n",
    "plt.show()"
   ]
  },
  {
   "cell_type": "markdown",
   "metadata": {},
   "source": [
    "Using the powerlaw package (Alstott, Bullmore & Plenz, 2014) the fits of lognormal and power law distributions can be compared. The result indicates the lognormal distribution to be a superior fit. The result can be further confirmed by performing the Kolmogorov-Smirnov to test if the distribution of road danger across the network fits the lognormal distribution. In log normally distributed datasets visualizing the logarithim of the road danger across the network should appear to be approximately normal. The resulting (Figure XXXX) has a right skew but does appear to be approximately normal."
   ]
  },
  {
   "cell_type": "code",
   "execution_count": 71,
   "metadata": {
    "hideCode": true,
    "hideOutput": true,
    "hidePrompt": true,
    "scrolled": true
   },
   "outputs": [
    {
     "name": "stderr",
     "output_type": "stream",
     "text": [
      "Calculating best minimal value for power law fit\n",
      "c:\\users\\ari\\anaconda3\\lib\\site-packages\\powerlaw.py:697: RuntimeWarning: invalid value encountered in true_divide\n",
      "  (Theoretical_CDF * (1 - Theoretical_CDF))\n"
     ]
    },
    {
     "data": {
      "text/plain": [
       "(-1.2442590888531779, 0.21340422282383154)"
      ]
     },
     "execution_count": 71,
     "metadata": {},
     "output_type": "execute_result"
    }
   ],
   "source": [
    "fit = pl.Fit(data)\n",
    "fit.distribution_compare('power_law', 'lognormal', normalized_ratio = True)"
   ]
  },
  {
   "cell_type": "code",
   "execution_count": 72,
   "metadata": {
    "hideCode": true,
    "hideOutput": true,
    "hidePrompt": true
   },
   "outputs": [
    {
     "data": {
      "text/plain": [
       "KstestResult(statistic=0.057530425464127566, pvalue=2.8418001933933733e-26)"
      ]
     },
     "execution_count": 72,
     "metadata": {},
     "output_type": "execute_result"
    }
   ],
   "source": [
    "stats.kstest(data, 'lognorm', stats.lognorm.fit(data))"
   ]
  },
  {
   "cell_type": "code",
   "execution_count": 145,
   "metadata": {
    "hideCode": true,
    "hidePrompt": true
   },
   "outputs": [
    {
     "data": {
      "image/png": "[encoded data removed]",
      "text/plain": [
       "<matplotlib.figure.Figure at 0x1f50ecf1ef0>"
      ]
     },
     "metadata": {},
     "output_type": "display_data"
    }
   ],
   "source": [
    "sns.distplot(np.log(crash_sev_loc_cond.groupby('STREET_NAME').sum().danger), bins = 20)\n",
    "plt.show()"
   ]
  },
  {
   "cell_type": "markdown",
   "metadata": {},
   "source": [
    "The Mann-Whitney U test is selected for statistical significance because the underlying approximate lognormal distribution of danger does not require modification to compare means of two conditions or routes. Additionally, the Mann-Whitney U test is superior to the traditional t-test as it is more robust to outliers because it works on the ordinal values of the tested variables. The assumptions of the Mann-Whitney U test are independence of observations and similar shape of underlying distribution. Additionally, the scipy documentation for the Mann Whitney U test states sample size should exceed 20 for both of the compared samples. Because the generative method for the danger metric is consistent the similar shape assumption is satisfied for large enough samples (>20). Independence of observations is reasonable to assume as individual crashes do not significantly increase or decrease likelihood of further crashes. This assumption may be flawed if various interventions were implemented over the period of observed crashes, or as a result of other time-series effects.\n",
    "\n",
    "An example comparison of danger driving in darkness versus daylight is included and can be similarily replicated for comparison of rank means between any two conditions. The Mann-Whitney U test indicates that the danger of driving at night is significantly greater than danger of driving during the day."
   ]
  },
  {
   "cell_type": "code",
   "execution_count": 147,
   "metadata": {
    "hideCode": false,
    "hidePrompt": true
   },
   "outputs": [
    {
     "data": {
      "text/plain": [
       "((9065,), (86193,))"
      ]
     },
     "execution_count": 147,
     "metadata": {},
     "output_type": "execute_result"
    }
   ],
   "source": [
    "darkness = crash_sev_loc_cond[crash_sev_loc_cond['ILLUMINATION_DES'] ==  \n",
    "                              'Dark - no street lights'].danger\n",
    "daylight = crash_sev_loc_cond[crash_sev_loc_cond['ILLUMINATION_DES'] == 'Daylight'].danger\n",
    "darkness.shape, daylight.shape"
   ]
  },
  {
   "cell_type": "code",
   "execution_count": 75,
   "metadata": {
    "hidePrompt": true
   },
   "outputs": [
    {
     "data": {
      "text/plain": [
       "MannwhitneyuResult(statistic=511246552.0, pvalue=0.0)"
      ]
     },
     "execution_count": 75,
     "metadata": {},
     "output_type": "execute_result"
    }
   ],
   "source": [
    "stats.mannwhitneyu(darkness, daylight, alternative = 'greater')"
   ]
  },
  {
   "cell_type": "markdown",
   "metadata": {},
   "source": [
    "## Applications to Routing"
   ]
  },
  {
   "cell_type": "markdown",
   "metadata": {},
   "source": [
    "![Example Routing](Route.png)"
   ]
  },
  {
   "cell_type": "markdown",
   "metadata": {},
   "source": [
    "The lack of complete road segment data limits general application of route comparison, but an example routing problem is included to delineate the process in determining the relative danger of one route over another. For this example, the route between Penn Brewery and Wigle Whiskey Barrelhouse is considered. There are two routes taking Vinial Street to Welser Way, which brings you to the back of Wigle Whiskey Barrelhouse or taking Vinial Street to Spring Garden Ave. These routes are referred to as routes one and two respectively for the remainder of the example.\n",
    "\n",
    "Comparing the routes begins with summing the danger of each accident on each street. Before the cumulative dangers for different road segments are summed the cumulative danger sum for each road segment must be multiplied by the length of route on road over total length of road. For our example, both routes include the entirety of Vinial Street so no multiplication is required for that segment. Route 1 contains .1 miles of the 3.3 mile total length Spring Garden Avenue and thus the cumulative sum is multiplied by .1/3.3 before adding to the cumulative danger sum of Vinial Street. On Route 2 the cumulative sum of danger on Welser road is multiplied by a factor of .1/.3 The resulting danger scores indicate that Route 2 is less dangerous but before suggesting the route the significance of the result must be checked.\n",
    "\n",
    "Checking the significance of the result can be accomplished with the Mann Whitney U test. Only the diverging sections of the routes are compared. A single-sided Mann Whitney U test is indicated to check if Route 1 is significantly more dangerous than Route 2. The result is a p-value of .07 and U = 72, so the decision appears significant at an alpha of .10 This is a flawed conclusion for several reasons, primarily the Mann Whitney U test is not appropriate for sample sizes less than 20 and there is only a single crash to consider on Welser Street (Route 2). It is important to note that the Mann Whitney U test may return seemingly significant p-values in cases of low-sample sizes because the test does not only consider difference of central tendency but also differences in shape of the distributions. This limitation makes comparison of routes using the Mann Whitney U test only appropriate with large enough samples and similar sample distributions.\n",
    "\n",
    "The result of the route comparison is not statistically significant because there are less than 20 samples available on Route 2. In a routing application no update would be suggested based on the results of the above analysis."
   ]
  },
  {
   "cell_type": "code",
   "execution_count": 156,
   "metadata": {
    "hidePrompt": true
   },
   "outputs": [
    {
     "data": {
      "text/plain": [
       "6.536923815822551e-05"
      ]
     },
     "execution_count": 156,
     "metadata": {},
     "output_type": "execute_result"
    }
   ],
   "source": [
    "# Calculating danger of Route 1\n",
    "crash_sev_loc[crash_sev_loc.STREET_NAME.str.startswith('VINIAL')].danger.sum() + \\\n",
    "crash_sev_loc[crash_sev_loc.STREET_NAME.str.startswith('SPRING GARDEN AV')].danger.sum() \\\n",
    "*(.1/3.3)"
   ]
  },
  {
   "cell_type": "code",
   "execution_count": 157,
   "metadata": {
    "hidePrompt": true,
    "scrolled": true
   },
   "outputs": [
    {
     "data": {
      "text/plain": [
       "2.308297175330441e-05"
      ]
     },
     "execution_count": 157,
     "metadata": {},
     "output_type": "execute_result"
    }
   ],
   "source": [
    "# Calculating danger of Route 2\n",
    "crash_sev_loc[crash_sev_loc.STREET_NAME.str.startswith('VINIAL')].danger.sum() + \\\n",
    "crash_sev_loc[crash_sev_loc.STREET_NAME.str.startswith('WELSER')].danger.sum()*(.1/.3)"
   ]
  },
  {
   "cell_type": "code",
   "execution_count": 158,
   "metadata": {
    "hidePrompt": true
   },
   "outputs": [],
   "source": [
    "# Defining Distributions to Compare\n",
    "route1 = crash_sev_loc[crash_sev_loc.STREET_NAME.str.startswith('SPRING GARDEN AV')].danger\n",
    "route1 = (.1/3.3)*route1\n",
    "\n",
    "route2 = crash_sev_loc[crash_sev_loc.STREET_NAME.str.startswith('WELSER')].danger\n",
    "route2 = (.1/.3)*route2"
   ]
  },
  {
   "cell_type": "code",
   "execution_count": 159,
   "metadata": {
    "hidePrompt": true
   },
   "outputs": [
    {
     "data": {
      "text/plain": [
       "MannwhitneyuResult(statistic=60.0, pvalue=0.16657969745283185)"
      ]
     },
     "execution_count": 159,
     "metadata": {},
     "output_type": "execute_result"
    }
   ],
   "source": [
    "# Significance Testing\n",
    "stats.mannwhitneyu(route2, route1, alternative = 'greater')"
   ]
  },
  {
   "cell_type": "markdown",
   "metadata": {},
   "source": [
    "# Results"
   ]
  },
  {
   "cell_type": "code",
   "execution_count": 81,
   "metadata": {
    "hideCode": true,
    "hideOutput": true,
    "hidePrompt": true
   },
   "outputs": [],
   "source": [
    "np.random.seed(10)\n",
    "dancoordinates = crash_sev_loc.loc[:,('DEC_LAT', 'DEC_LONG', 'danger')].values\n",
    "\n",
    "meanlat = dancoordinates[:,0].mean()\n",
    "meanlong = dancoordinates[:,1].mean()\n",
    "max_amount = crash_sev_loc.danger.max()\n",
    "\n",
    "# Randomly select 10,000 points to plot, full dataset requires high RAM\n",
    "d = dancoordinates[np.random.choice(dancoordinates.shape[0], 10000, replace=False)]\n",
    "\n",
    "m2 = folium.Map(location = [meanlat, meanlong], zoom_start = 10, control_scale = True)\n",
    "m2.add_child(plugins.HeatMap(d,\n",
    "                            min_opacity = 0.6,\n",
    "                            max_val = max_amount, radius =12))\n",
    "m2.save('map.html')"
   ]
  },
  {
   "cell_type": "markdown",
   "metadata": {},
   "source": [
    "![Heatmap](Heatmap.png)"
   ]
  },
  {
   "cell_type": "markdown",
   "metadata": {},
   "source": [
    "Crash risk is calculated by dividing each crash with the total hourly traffic at the closest sensor to the crash. Crash severity is defined as the product of injury count and fatality count and is doubled when the crash includes a fatality or major injury. Crash danger on the road network is defined as the sum of crash risk * severity for all crashes on a road segment. The Allgeheny County Pennsylvania road network can be visualized using a heatmap to plot each accident weighted with its calculated level of danger. The resulting heatmap provides a high level view of the historical danger metric calculated by incorporating crash frequency, traffic, and crash severity.\n",
    "\n",
    "Statistical analysis of the road danger metric revealed the distribution of the metric is approximately log-normal. Applications of the road danger metric for evaluating routes require statistical testing to confirm the observed difference in road danger is significant. The Mann-Whitney U test is suggested for significance testing due to its robustness with non-normally distributed variables and outliers.\n",
    "\n",
    "Evaluation of routes is accomplished using the road danger metric to compare routing options, and the Mann-Whitney U Test to confirm the significance of the decision. Limitations of this statistical testing method include sample size (must be greater than 20), and shape of the distribution. Comparing two routes with differently shaped danger distributions may result in erroneously significant p-values as a consequence of the construction of the Mann-Whitney U test."
   ]
  },
  {
   "cell_type": "markdown",
   "metadata": {},
   "source": [
    "# Future Work"
   ]
  },
  {
   "cell_type": "markdown",
   "metadata": {},
   "source": [
    "The general road danger metric has been demonstrated to have use for analyzing the relative danger of conditions and different routes. Given additional data, there is an opportunity to create general routing updates in Allgeheny County Pennsylvania based on the danger of different road routes. The required data for such an application includes road segment lengths and provides a segment ID, road name, and/or coordinates.\n",
    "\n",
    "Scaling the metric to larger datasets is primarily limited by the sparseness of available traffic data. The hourly averages recorded at thousands of locations allowed for the metric in this project to be appropriately normalized but with less information such a degree of normalization may not be achievable. Quantifying the limits of normalization and exploring additional normalization techniques is recommended to identify exact requirents for traffic data.\n",
    "\n",
    "The presented metric required large crash datasets with location and time-specific information. There is state-to-state variability throughout the US in how this data is collected, cleaned, and stored and each case must currently be handled separately. Establishing an adaptable pipeline for collecting, processing, and storing information regarding automobile crashes is crucial to enabling projects such as this.\n",
    "\n",
    "Additional use-cases for the road danger metric may include Department of Transportation road modifications, city-planning, and technical reporting. The current disadvantage of the metric for reporting as a performance metric pertain to the interpretability of the metric. Modifications to the metric that achieve interpretability, i.e. understandable units, improve the usefulness for the mentioned use-cases."
   ]
  },
  {
   "cell_type": "markdown",
   "metadata": {},
   "source": [
    "# References"
   ]
  },
  {
   "cell_type": "markdown",
   "metadata": {},
   "source": [
    "*Quick Facts 2016*. (2017). Crashstats.nhtsa.dot.gov. Retrieved 29 October 2017, from https://crashstats.nhtsa.dot.gov/Api/Public/ViewPublication/812451\n",
    "\n",
    " Lord, D., & Mannering, F. (2010). The statistical analysis of crash-frequency data: A review and assessment of methodological alternatives. *Transportation Research Part A: Policy And Practice*, 44(5), 291-305. http://dx.doi.org/10.1016/j.tra.2010.02.001\n",
    " \n",
    " Mannering, F., & Bhat, C. (2014). Analytic methods in accident research: Methodological frontier and future directions. *Analytic Methods In Accident Research*, 1, 1-22. http://dx.doi.org/10.1016/j.amar.2013.09.001\n",
    " \n",
    "  Songpatanasilp, P., Yamada, H., Horanont, T., & Shibasaki, R. (2015). Traffic accidents risk analysis based on road and land use factors using GLMs and zero-inflated models. *CUPUM*.\n",
    "  \n",
    "  *World Geodetic System (WGS84) - GIS Geography*. (2017). GIS Geography. Retrieved 29 October 2017, from http://gisgeography.com/wgs84-world-geodetic-system/\n",
    "  \n",
    "  Alstott, J., Bullmore, E., & Plenz, D. (2014). powerlaw: A Python Package for Analysis of Heavy-Tailed Distributions. *Plos ONE*, 9(1), e85777. http://dx.doi.org/10.1371/journal.pone.0085777"
   ]
  },
  {
   "cell_type": "markdown",
   "metadata": {},
   "source": [
    "# Appendices"
   ]
  },
  {
   "cell_type": "code",
   "execution_count": null,
   "metadata": {},
   "outputs": [],
   "source": []
  },
  {
   "cell_type": "code",
   "execution_count": null,
   "metadata": {},
   "outputs": [],
   "source": []
  }
 ],
 "metadata": {
  "celltoolbar": "Hide code",
  "kernelspec": {
   "display_name": "Python 3",
   "language": "python",
   "name": "python3"
  },
  "language_info": {
   "codemirror_mode": {
    "name": "ipython",
    "version": 3
   },
   "file_extension": ".py",
   "mimetype": "text/x-python",
   "name": "python",
   "nbconvert_exporter": "python",
   "pygments_lexer": "ipython3",
   "version": "3.6.0"
  }
 },
 "nbformat": 4,
 "nbformat_minor": 2
}
