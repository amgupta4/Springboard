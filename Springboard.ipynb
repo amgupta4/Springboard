{
 "cells": [
  {
   "cell_type": "markdown",
   "metadata": {},
   "source": [
    "# Data Sources"
   ]
  },
  {
   "cell_type": "markdown",
   "metadata": {},
   "source": [
    "https://catalog.data.gov/dataset/allegheny-county-crash-data"
   ]
  },
  {
   "cell_type": "markdown",
   "metadata": {},
   "source": [
    "https://catalog.data.gov/dataset/allegheny-county-traffic-counts"
   ]
  },
  {
   "cell_type": "code",
   "execution_count": 5,
   "metadata": {
    "collapsed": false
   },
   "outputs": [],
   "source": [
    "%matplotlib inline\n",
    "import pandas as pd\n",
    "#gmplot used for creating html maps plotting lat/lon on google maps style\n",
    "import gmplot as gm"
   ]
  },
  {
   "cell_type": "code",
   "execution_count": 6,
   "metadata": {
    "collapsed": false,
    "scrolled": false
   },
   "outputs": [
    {
     "name": "stderr",
     "output_type": "stream",
     "text": [
      "C:\\Users\\Ari\\Anaconda3\\lib\\site-packages\\IPython\\core\\interactiveshell.py:2717: DtypeWarning: Columns (79,183) have mixed types. Specify dtype option on import or set low_memory=False.\n",
      "  interactivity=interactivity, compiler=compiler, result=result)\n"
     ]
    },
    {
     "data": {
      "text/html": [
       "<div>\n",
       "<style>\n",
       "    .dataframe thead tr:only-child th {\n",
       "        text-align: right;\n",
       "    }\n",
       "\n",
       "    .dataframe thead th {\n",
       "        text-align: left;\n",
       "    }\n",
       "\n",
       "    .dataframe tbody tr th {\n",
       "        vertical-align: top;\n",
       "    }\n",
       "</style>\n",
       "<table border=\"1\" class=\"dataframe\">\n",
       "  <thead>\n",
       "    <tr style=\"text-align: right;\">\n",
       "      <th></th>\n",
       "      <th>CRASH_CRN</th>\n",
       "      <th>DISTRICT</th>\n",
       "      <th>CRASH_COUNTY</th>\n",
       "      <th>MUNICIPALITY</th>\n",
       "      <th>POLICE_AGCY</th>\n",
       "      <th>CRASH_YEAR</th>\n",
       "      <th>CRASH_MONTH</th>\n",
       "      <th>DAY_OF_WEEK</th>\n",
       "      <th>TIME_OF_DAY</th>\n",
       "      <th>HOUR_OF_DAY</th>\n",
       "      <th>...</th>\n",
       "      <th>ACCESS_CTRL</th>\n",
       "      <th>ROADWAY_COUNTY</th>\n",
       "      <th>LANE_COUNT</th>\n",
       "      <th>RDWY_ORIENT</th>\n",
       "      <th>ROAD_OWNER</th>\n",
       "      <th>ROUTE</th>\n",
       "      <th>SPEED_LIMIT</th>\n",
       "      <th>SEGMENT</th>\n",
       "      <th>OFFSET</th>\n",
       "      <th>STREET_NAME</th>\n",
       "    </tr>\n",
       "  </thead>\n",
       "  <tbody>\n",
       "    <tr>\n",
       "      <th>0</th>\n",
       "      <td>2.004000e+09</td>\n",
       "      <td>11.0</td>\n",
       "      <td>2.0</td>\n",
       "      <td>2454.0</td>\n",
       "      <td>02454</td>\n",
       "      <td>2004.0</td>\n",
       "      <td>1.0</td>\n",
       "      <td>5.0</td>\n",
       "      <td>257.0</td>\n",
       "      <td>2.0</td>\n",
       "      <td>...</td>\n",
       "      <td>3.0</td>\n",
       "      <td>2.0</td>\n",
       "      <td>2.0</td>\n",
       "      <td>E</td>\n",
       "      <td>2.0</td>\n",
       "      <td>2032</td>\n",
       "      <td>35.0</td>\n",
       "      <td>10.0</td>\n",
       "      <td>1000.0</td>\n",
       "      <td>LEWIS RUN RD</td>\n",
       "    </tr>\n",
       "    <tr>\n",
       "      <th>1</th>\n",
       "      <td>2.004000e+09</td>\n",
       "      <td>11.0</td>\n",
       "      <td>2.0</td>\n",
       "      <td>2440.0</td>\n",
       "      <td>02440</td>\n",
       "      <td>2004.0</td>\n",
       "      <td>1.0</td>\n",
       "      <td>5.0</td>\n",
       "      <td>1027.0</td>\n",
       "      <td>10.0</td>\n",
       "      <td>...</td>\n",
       "      <td>NaN</td>\n",
       "      <td>2.0</td>\n",
       "      <td>2.0</td>\n",
       "      <td>W</td>\n",
       "      <td>3.0</td>\n",
       "      <td>NaN</td>\n",
       "      <td>35.0</td>\n",
       "      <td>NaN</td>\n",
       "      <td>NaN</td>\n",
       "      <td>COAL VALLEY RD</td>\n",
       "    </tr>\n",
       "    <tr>\n",
       "      <th>2</th>\n",
       "      <td>2.004000e+09</td>\n",
       "      <td>11.0</td>\n",
       "      <td>2.0</td>\n",
       "      <td>2203.0</td>\n",
       "      <td>02203</td>\n",
       "      <td>2004.0</td>\n",
       "      <td>1.0</td>\n",
       "      <td>5.0</td>\n",
       "      <td>1839.0</td>\n",
       "      <td>18.0</td>\n",
       "      <td>...</td>\n",
       "      <td>NaN</td>\n",
       "      <td>2.0</td>\n",
       "      <td>2.0</td>\n",
       "      <td>W</td>\n",
       "      <td>2.0</td>\n",
       "      <td>3082</td>\n",
       "      <td>35.0</td>\n",
       "      <td>NaN</td>\n",
       "      <td>NaN</td>\n",
       "      <td>CLINTON FRANKFORT RD</td>\n",
       "    </tr>\n",
       "    <tr>\n",
       "      <th>3</th>\n",
       "      <td>2.004000e+09</td>\n",
       "      <td>11.0</td>\n",
       "      <td>2.0</td>\n",
       "      <td>2404.0</td>\n",
       "      <td>02404</td>\n",
       "      <td>2004.0</td>\n",
       "      <td>1.0</td>\n",
       "      <td>6.0</td>\n",
       "      <td>914.0</td>\n",
       "      <td>9.0</td>\n",
       "      <td>...</td>\n",
       "      <td>NaN</td>\n",
       "      <td>2.0</td>\n",
       "      <td>2.0</td>\n",
       "      <td>N</td>\n",
       "      <td>4.0</td>\n",
       "      <td>NaN</td>\n",
       "      <td>25.0</td>\n",
       "      <td>NaN</td>\n",
       "      <td>NaN</td>\n",
       "      <td>NORTH BALPH AV</td>\n",
       "    </tr>\n",
       "    <tr>\n",
       "      <th>4</th>\n",
       "      <td>2.004000e+09</td>\n",
       "      <td>11.0</td>\n",
       "      <td>2.0</td>\n",
       "      <td>2419.0</td>\n",
       "      <td>02419</td>\n",
       "      <td>2004.0</td>\n",
       "      <td>1.0</td>\n",
       "      <td>5.0</td>\n",
       "      <td>2230.0</td>\n",
       "      <td>22.0</td>\n",
       "      <td>...</td>\n",
       "      <td>NaN</td>\n",
       "      <td>2.0</td>\n",
       "      <td>2.0</td>\n",
       "      <td>S</td>\n",
       "      <td>4.0</td>\n",
       "      <td>NaN</td>\n",
       "      <td>20.0</td>\n",
       "      <td>NaN</td>\n",
       "      <td>NaN</td>\n",
       "      <td>THORNBERRY DR</td>\n",
       "    </tr>\n",
       "  </tbody>\n",
       "</table>\n",
       "<p>5 rows × 188 columns</p>\n",
       "</div>"
      ],
      "text/plain": [
       "      CRASH_CRN  DISTRICT  CRASH_COUNTY  MUNICIPALITY POLICE_AGCY  CRASH_YEAR  \\\n",
       "0  2.004000e+09      11.0           2.0        2454.0       02454      2004.0   \n",
       "1  2.004000e+09      11.0           2.0        2440.0       02440      2004.0   \n",
       "2  2.004000e+09      11.0           2.0        2203.0       02203      2004.0   \n",
       "3  2.004000e+09      11.0           2.0        2404.0       02404      2004.0   \n",
       "4  2.004000e+09      11.0           2.0        2419.0       02419      2004.0   \n",
       "\n",
       "   CRASH_MONTH  DAY_OF_WEEK  TIME_OF_DAY  HOUR_OF_DAY          ...           \\\n",
       "0          1.0          5.0        257.0          2.0          ...            \n",
       "1          1.0          5.0       1027.0         10.0          ...            \n",
       "2          1.0          5.0       1839.0         18.0          ...            \n",
       "3          1.0          6.0        914.0          9.0          ...            \n",
       "4          1.0          5.0       2230.0         22.0          ...            \n",
       "\n",
       "   ACCESS_CTRL  ROADWAY_COUNTY  LANE_COUNT  RDWY_ORIENT  ROAD_OWNER  ROUTE  \\\n",
       "0          3.0             2.0         2.0            E         2.0   2032   \n",
       "1          NaN             2.0         2.0            W         3.0    NaN   \n",
       "2          NaN             2.0         2.0            W         2.0   3082   \n",
       "3          NaN             2.0         2.0            N         4.0    NaN   \n",
       "4          NaN             2.0         2.0            S         4.0    NaN   \n",
       "\n",
       "   SPEED_LIMIT  SEGMENT  OFFSET           STREET_NAME  \n",
       "0         35.0     10.0  1000.0          LEWIS RUN RD  \n",
       "1         35.0      NaN     NaN        COAL VALLEY RD  \n",
       "2         35.0      NaN     NaN  CLINTON FRANKFORT RD  \n",
       "3         25.0      NaN     NaN        NORTH BALPH AV  \n",
       "4         20.0      NaN     NaN         THORNBERRY DR  \n",
       "\n",
       "[5 rows x 188 columns]"
      ]
     },
     "execution_count": 6,
     "metadata": {},
     "output_type": "execute_result"
    }
   ],
   "source": [
    "crash = pd.read_csv('crashdata.csv')\n",
    "crash.head()"
   ]
  },
  {
   "cell_type": "code",
   "execution_count": 8,
   "metadata": {
    "collapsed": false
   },
   "outputs": [
    {
     "data": {
      "text/plain": [
       "0    2032\n",
       "1     NaN\n",
       "2    3082\n",
       "3     NaN\n",
       "4     NaN\n",
       "Name: ROUTE, dtype: object"
      ]
     },
     "execution_count": 8,
     "metadata": {},
     "output_type": "execute_result"
    }
   ],
   "source": [
    "(crash.iloc[:,183]).head()"
   ]
  },
  {
   "cell_type": "code",
   "execution_count": 9,
   "metadata": {
    "collapsed": false,
    "scrolled": false
   },
   "outputs": [
    {
     "data": {
      "text/plain": [
       "37      Y\n",
       "121     Y\n",
       "275     Y\n",
       "604     Y\n",
       "2450    Y\n",
       "Name: WZ_FLAGGER, dtype: object"
      ]
     },
     "execution_count": 9,
     "metadata": {},
     "output_type": "execute_result"
    }
   ],
   "source": [
    "(crash.iloc[:,79]).dropna().head()"
   ]
  },
  {
   "cell_type": "code",
   "execution_count": 65,
   "metadata": {
    "collapsed": false
   },
   "outputs": [
    {
     "data": {
      "text/html": [
       "<div>\n",
       "<style>\n",
       "    .dataframe thead tr:only-child th {\n",
       "        text-align: right;\n",
       "    }\n",
       "\n",
       "    .dataframe thead th {\n",
       "        text-align: left;\n",
       "    }\n",
       "\n",
       "    .dataframe tbody tr th {\n",
       "        vertical-align: top;\n",
       "    }\n",
       "</style>\n",
       "<table border=\"1\" class=\"dataframe\">\n",
       "  <thead>\n",
       "    <tr style=\"text-align: right;\">\n",
       "      <th></th>\n",
       "      <th>DEC_LAT</th>\n",
       "      <th>DEC_LONG</th>\n",
       "    </tr>\n",
       "  </thead>\n",
       "  <tbody>\n",
       "    <tr>\n",
       "      <th>137815</th>\n",
       "      <td>40.4231</td>\n",
       "      <td>-79.972504</td>\n",
       "    </tr>\n",
       "  </tbody>\n",
       "</table>\n",
       "</div>"
      ],
      "text/plain": [
       "        DEC_LAT   DEC_LONG\n",
       "137815  40.4231 -79.972504"
      ]
     },
     "execution_count": 65,
     "metadata": {},
     "output_type": "execute_result"
    }
   ],
   "source": [
    "#Attributes of crash df that measure outcomes\n",
    "crash.FATAL #1/0\n",
    "crash.FATAL_COUNT\n",
    "crash.FATAL_OR_MAJ_INJ #1/0 Fatal or Major Injury\n",
    "crash.INJURY #1/0 Fatality not an injury\n",
    "crash.INJURY_COUNT #At least 1 person injured/killed\n",
    "crash.MAJ_INJ_COUNT #Count of major injuries\n",
    "crash.MAJOR_INJURY #1/0 1+ sustained major injury\n",
    "crash.MAX_SEVERITY_LEVEL #DD for dictionary\n",
    "crash[crash.VEHICLE_COUNT == 14][['DEC_LAT', 'DEC_LONG']]"
   ]
  },
  {
   "cell_type": "code",
   "execution_count": 57,
   "metadata": {
    "collapsed": false
   },
   "outputs": [
    {
     "data": {
      "text/plain": [
       "0          257.0\n",
       "1         1027.0\n",
       "2         1839.0\n",
       "3          914.0\n",
       "4         2230.0\n",
       "5         1415.0\n",
       "6         1430.0\n",
       "7          847.0\n",
       "8         1244.0\n",
       "9         1150.0\n",
       "10        1614.0\n",
       "11        1920.0\n",
       "12         422.0\n",
       "13         801.0\n",
       "14         945.0\n",
       "15        9999.0\n",
       "16        1643.0\n",
       "17         341.0\n",
       "18         611.0\n",
       "19        1240.0\n",
       "20         902.0\n",
       "21         900.0\n",
       "22        1650.0\n",
       "23        1635.0\n",
       "24         840.0\n",
       "25         915.0\n",
       "26         910.0\n",
       "27        1505.0\n",
       "28         547.0\n",
       "29        1133.0\n",
       "           ...  \n",
       "157791    1314.0\n",
       "157792    1645.0\n",
       "157793    1720.0\n",
       "157794     235.0\n",
       "157795    1802.0\n",
       "157796    1609.0\n",
       "157797    1153.0\n",
       "157798    2241.0\n",
       "157799    1820.0\n",
       "157800     804.0\n",
       "157801    1453.0\n",
       "157802    1257.0\n",
       "157803     945.0\n",
       "157804    2003.0\n",
       "157805    1505.0\n",
       "157806    1540.0\n",
       "157807     552.0\n",
       "157808    1632.0\n",
       "157809     544.0\n",
       "157810     230.0\n",
       "157811    1902.0\n",
       "157812    1631.0\n",
       "157813    1908.0\n",
       "157814    2054.0\n",
       "157815    1300.0\n",
       "157816     102.0\n",
       "157817    1159.0\n",
       "157818     514.0\n",
       "157819     117.0\n",
       "157820    2126.0\n",
       "Name: TIME_OF_DAY, Length: 157821, dtype: float64"
      ]
     },
     "execution_count": 57,
     "metadata": {},
     "output_type": "execute_result"
    }
   ],
   "source": [
    "#Date time attributes of crash df\n",
    "crash.CRASH_YEAR\n",
    "crash.CRASH_MONTH\n",
    "crash.DAY_OF_WEEK\n",
    "crash.HOUR_OF_DAY\n",
    "crash.TIME_OF_DAY #Decimal 24-hr"
   ]
  },
  {
   "cell_type": "code",
   "execution_count": 59,
   "metadata": {
    "collapsed": false
   },
   "outputs": [
    {
     "data": {
      "text/plain": [
       "3.0    153828\n",
       "1.0      3993\n",
       "Name: URBAN_RURAL, dtype: int64"
      ]
     },
     "execution_count": 59,
     "metadata": {},
     "output_type": "execute_result"
    }
   ],
   "source": [
    "crash.URBAN_RURAL.value_counts() #1-Rural 3-Urbanized pop. 50K to 200K"
   ]
  },
  {
   "cell_type": "code",
   "execution_count": null,
   "metadata": {
    "collapsed": true
   },
   "outputs": [],
   "source": [
    "#Interesting possibly contributing factors to crash\n",
    "crash.WEATHER #DD for dictionary"
   ]
  },
  {
   "cell_type": "code",
   "execution_count": null,
   "metadata": {
    "collapsed": true
   },
   "outputs": [],
   "source": []
  },
  {
   "cell_type": "code",
   "execution_count": null,
   "metadata": {
    "collapsed": true
   },
   "outputs": [],
   "source": []
  },
  {
   "cell_type": "code",
   "execution_count": null,
   "metadata": {
    "collapsed": true
   },
   "outputs": [],
   "source": []
  },
  {
   "cell_type": "code",
   "execution_count": null,
   "metadata": {
    "collapsed": true
   },
   "outputs": [],
   "source": []
  },
  {
   "cell_type": "markdown",
   "metadata": {},
   "source": [
    "# Traffic Sensor Location Plotting"
   ]
  },
  {
   "cell_type": "markdown",
   "metadata": {},
   "source": [
    "traffic = pd.read_csv('data-trafficcounts.csv')\n",
    "traffic.head()"
   ]
  },
  {
   "cell_type": "code",
   "execution_count": 33,
   "metadata": {
    "collapsed": false
   },
   "outputs": [
    {
     "name": "stdout",
     "output_type": "stream",
     "text": [
      "   Longitude   Latitude\n",
      "0 -79.861523  40.625398\n",
      "1 -79.796409  40.445047\n",
      "2 -79.820976  40.487624\n",
      "3 -79.703859  40.443548\n",
      "4 -80.114273  40.389899\n"
     ]
    },
    {
     "data": {
      "text/plain": [
       "(1305, 2)"
      ]
     },
     "execution_count": 33,
     "metadata": {},
     "output_type": "execute_result"
    }
   ],
   "source": [
    "sensor_loc = traffic[['Longitude', 'Latitude']]\n",
    "print(sensor_loc.head())\n",
    "sensor_loc.shape"
   ]
  },
  {
   "cell_type": "code",
   "execution_count": 48,
   "metadata": {
    "collapsed": false
   },
   "outputs": [],
   "source": [
    "sensor_lon = sensor_loc.Longitude.dropna().tolist()\n",
    "sensor_lat = sensor_loc.Latitude.dropna().tolist()"
   ]
  },
  {
   "cell_type": "code",
   "execution_count": 49,
   "metadata": {
    "collapsed": true
   },
   "outputs": [],
   "source": [
    "gmap = gm.GoogleMapPlotter(sensor_lat[0],sensor_lon[0],10)\n",
    "gmap.scatter(sensor_lat,sensor_lon, color = 'k', marker=False)\n",
    "gmap.draw(\"traffic_scatter.html\")"
   ]
  },
  {
   "cell_type": "markdown",
   "metadata": {},
   "source": [
    "# EDA of crash data"
   ]
  },
  {
   "cell_type": "code",
   "execution_count": 12,
   "metadata": {
    "collapsed": false,
    "scrolled": false
   },
   "outputs": [
    {
     "data": {
      "text/plain": [
       "0.0    156963\n",
       "1.0       804\n",
       "2.0        47\n",
       "3.0         7\n",
       "Name: FATAL_COUNT, dtype: int64"
      ]
     },
     "execution_count": 12,
     "metadata": {},
     "output_type": "execute_result"
    }
   ],
   "source": [
    "crash['FATAL_COUNT'].value_counts()\n",
    "#Look at fatalities of accidents"
   ]
  },
  {
   "cell_type": "code",
   "execution_count": 13,
   "metadata": {
    "collapsed": false
   },
   "outputs": [
    {
     "data": {
      "text/plain": [
       "0     2.0\n",
       "1    10.0\n",
       "2    18.0\n",
       "3     9.0\n",
       "4    22.0\n",
       "Name: HOUR_OF_DAY, dtype: float64"
      ]
     },
     "execution_count": 13,
     "metadata": {},
     "output_type": "execute_result"
    }
   ],
   "source": [
    "crash['HOUR_OF_DAY'].head()"
   ]
  },
  {
   "cell_type": "code",
   "execution_count": 14,
   "metadata": {
    "collapsed": false
   },
   "outputs": [
    {
     "data": {
      "text/plain": [
       "<matplotlib.axes._subplots.AxesSubplot at 0x1b68dd40240>"
      ]
     },
     "execution_count": 14,
     "metadata": {},
     "output_type": "execute_result"
    },
    {
     "data": {
      "image/png": "[encoded data removed]",
      "text/plain": [
       "<matplotlib.figure.Figure at 0x1b68dd40f60>"
      ]
     },
     "metadata": {},
     "output_type": "display_data"
    }
   ],
   "source": [
    "crash['HOUR_OF_DAY'].value_counts().sort_index().plot(kind = 'bar')\n",
    "#What time of day are accidents most common?"
   ]
  },
  {
   "cell_type": "code",
   "execution_count": 15,
   "metadata": {
    "collapsed": false
   },
   "outputs": [
    {
     "data": {
      "text/plain": [
       "<matplotlib.axes._subplots.AxesSubplot at 0x1b68dd40d30>"
      ]
     },
     "execution_count": 15,
     "metadata": {},
     "output_type": "execute_result"
    },
    {
     "data": {
      "image/png": "[encoded data removed]",
      "text/plain": [
       "<matplotlib.figure.Figure at 0x1b68d8955f8>"
      ]
     },
     "metadata": {},
     "output_type": "display_data"
    }
   ],
   "source": [
    "crash['ILLUMINATION'].value_counts().sort_index().plot(kind = 'bar')"
   ]
  },
  {
   "cell_type": "code",
   "execution_count": 16,
   "metadata": {
    "collapsed": false
   },
   "outputs": [
    {
     "data": {
      "text/plain": [
       "1.0    97032\n",
       "3.0    41462\n",
       "2.0     9957\n",
       "4.0     2558\n",
       "5.0     2255\n",
       "6.0      751\n",
       "8.0      303\n",
       "9.0       25\n",
       "Name: ILLUMINATION, dtype: int64"
      ]
     },
     "execution_count": 16,
     "metadata": {},
     "output_type": "execute_result"
    }
   ],
   "source": [
    "light = crash[['HOUR_OF_DAY', 'ILLUMINATION']]\n",
    "light = light[light['HOUR_OF_DAY'] < 25]\n",
    "light = light.set_index('HOUR_OF_DAY').sort_index()\n",
    "light.ILLUMINATION.value_counts()"
   ]
  },
  {
   "cell_type": "code",
   "execution_count": 50,
   "metadata": {
    "collapsed": false
   },
   "outputs": [],
   "source": [
    "lat = crash['DEC_LAT'].dropna().head(50).tolist()\n",
    "lon = crash['DEC_LONG'].dropna().head(50).tolist()"
   ]
  },
  {
   "cell_type": "code",
   "execution_count": 51,
   "metadata": {
    "collapsed": false
   },
   "outputs": [],
   "source": [
    "gmap = gm.GoogleMapPlotter(lat[0],lon[0],10)\n",
    "gmap.scatter(lat,lon, color = 'k', marker=False)\n",
    "gmap.draw(\"scatter.html\")"
   ]
  },
  {
   "cell_type": "code",
   "execution_count": 20,
   "metadata": {
    "collapsed": true
   },
   "outputs": [],
   "source": [
    "#double lat and lon before heatmap\n",
    "lat = lat + lat\n",
    "lon = lon + lon"
   ]
  },
  {
   "cell_type": "code",
   "execution_count": 21,
   "metadata": {
    "collapsed": false
   },
   "outputs": [],
   "source": [
    "gmap = gm.GoogleMapPlotter(lat[0],lon[0],12) #initialize zoom = 15, 10 fits all data\n",
    "#gmap.scatter(lat,lon,'#3B0B39', size=4000, marker=False)\n",
    "#gmap.scatter(lat,lon, 'k', marker=True)\n",
    "\n",
    "gmap.heatmap(lat,lon)\n",
    "\n",
    "gmap.draw(\"mymap.html\")"
   ]
  },
  {
   "cell_type": "code",
   "execution_count": null,
   "metadata": {
    "collapsed": true
   },
   "outputs": [],
   "source": []
  },
  {
   "cell_type": "code",
   "execution_count": null,
   "metadata": {
    "collapsed": true
   },
   "outputs": [],
   "source": []
  },
  {
   "cell_type": "code",
   "execution_count": null,
   "metadata": {
    "collapsed": true
   },
   "outputs": [],
   "source": []
  },
  {
   "cell_type": "code",
   "execution_count": null,
   "metadata": {
    "collapsed": true
   },
   "outputs": [],
   "source": []
  },
  {
   "cell_type": "code",
   "execution_count": null,
   "metadata": {
    "collapsed": true
   },
   "outputs": [],
   "source": []
  },
  {
   "cell_type": "code",
   "execution_count": null,
   "metadata": {
    "collapsed": true
   },
   "outputs": [],
   "source": []
  },
  {
   "cell_type": "code",
   "execution_count": null,
   "metadata": {
    "collapsed": true
   },
   "outputs": [],
   "source": []
  },
  {
   "cell_type": "code",
   "execution_count": null,
   "metadata": {
    "collapsed": true
   },
   "outputs": [],
   "source": []
  }
 ],
 "metadata": {
  "kernelspec": {
   "display_name": "Python 3",
   "language": "python",
   "name": "python3"
  },
  "language_info": {
   "codemirror_mode": {
    "name": "ipython",
    "version": 3
   },
   "file_extension": ".py",
   "mimetype": "text/x-python",
   "name": "python",
   "nbconvert_exporter": "python",
   "pygments_lexer": "ipython3",
   "version": "3.6.0"
  }
 },
 "nbformat": 4,
 "nbformat_minor": 2
}
