{
 "cells": [
  {
   "cell_type": "markdown",
   "metadata": {},
   "source": [
    "https://catalog.data.gov/dataset/allegheny-county-crash-data"
   ]
  },
  {
   "cell_type": "code",
   "execution_count": 1,
   "metadata": {
    "collapsed": false
   },
   "outputs": [],
   "source": [
    "%matplotlib inline\n",
    "import pandas as pd\n",
    "import gmplot as gm"
   ]
  },
  {
   "cell_type": "code",
   "execution_count": 2,
   "metadata": {
    "collapsed": false
   },
   "outputs": [
    {
     "name": "stderr",
     "output_type": "stream",
     "text": [
      "C:\\Users\\Ari\\Anaconda3\\lib\\site-packages\\IPython\\core\\interactiveshell.py:2717: DtypeWarning: Columns (79,183) have mixed types. Specify dtype option on import or set low_memory=False.\n",
      "  interactivity=interactivity, compiler=compiler, result=result)\n"
     ]
    },
    {
     "data": {
      "text/html": [
       "<div>\n",
       "<style>\n",
       "    .dataframe thead tr:only-child th {\n",
       "        text-align: right;\n",
       "    }\n",
       "\n",
       "    .dataframe thead th {\n",
       "        text-align: left;\n",
       "    }\n",
       "\n",
       "    .dataframe tbody tr th {\n",
       "        vertical-align: top;\n",
       "    }\n",
       "</style>\n",
       "<table border=\"1\" class=\"dataframe\">\n",
       "  <thead>\n",
       "    <tr style=\"text-align: right;\">\n",
       "      <th></th>\n",
       "      <th>CRASH_CRN</th>\n",
       "      <th>DISTRICT</th>\n",
       "      <th>CRASH_COUNTY</th>\n",
       "      <th>MUNICIPALITY</th>\n",
       "      <th>POLICE_AGCY</th>\n",
       "      <th>CRASH_YEAR</th>\n",
       "      <th>CRASH_MONTH</th>\n",
       "      <th>DAY_OF_WEEK</th>\n",
       "      <th>TIME_OF_DAY</th>\n",
       "      <th>HOUR_OF_DAY</th>\n",
       "      <th>...</th>\n",
       "      <th>ACCESS_CTRL</th>\n",
       "      <th>ROADWAY_COUNTY</th>\n",
       "      <th>LANE_COUNT</th>\n",
       "      <th>RDWY_ORIENT</th>\n",
       "      <th>ROAD_OWNER</th>\n",
       "      <th>ROUTE</th>\n",
       "      <th>SPEED_LIMIT</th>\n",
       "      <th>SEGMENT</th>\n",
       "      <th>OFFSET</th>\n",
       "      <th>STREET_NAME</th>\n",
       "    </tr>\n",
       "  </thead>\n",
       "  <tbody>\n",
       "    <tr>\n",
       "      <th>0</th>\n",
       "      <td>2.004000e+09</td>\n",
       "      <td>11.0</td>\n",
       "      <td>2.0</td>\n",
       "      <td>2454.0</td>\n",
       "      <td>02454</td>\n",
       "      <td>2004.0</td>\n",
       "      <td>1.0</td>\n",
       "      <td>5.0</td>\n",
       "      <td>257.0</td>\n",
       "      <td>2.0</td>\n",
       "      <td>...</td>\n",
       "      <td>3.0</td>\n",
       "      <td>2.0</td>\n",
       "      <td>2.0</td>\n",
       "      <td>E</td>\n",
       "      <td>2.0</td>\n",
       "      <td>2032</td>\n",
       "      <td>35.0</td>\n",
       "      <td>10.0</td>\n",
       "      <td>1000.0</td>\n",
       "      <td>LEWIS RUN RD</td>\n",
       "    </tr>\n",
       "    <tr>\n",
       "      <th>1</th>\n",
       "      <td>2.004000e+09</td>\n",
       "      <td>11.0</td>\n",
       "      <td>2.0</td>\n",
       "      <td>2440.0</td>\n",
       "      <td>02440</td>\n",
       "      <td>2004.0</td>\n",
       "      <td>1.0</td>\n",
       "      <td>5.0</td>\n",
       "      <td>1027.0</td>\n",
       "      <td>10.0</td>\n",
       "      <td>...</td>\n",
       "      <td>NaN</td>\n",
       "      <td>2.0</td>\n",
       "      <td>2.0</td>\n",
       "      <td>W</td>\n",
       "      <td>3.0</td>\n",
       "      <td>NaN</td>\n",
       "      <td>35.0</td>\n",
       "      <td>NaN</td>\n",
       "      <td>NaN</td>\n",
       "      <td>COAL VALLEY RD</td>\n",
       "    </tr>\n",
       "    <tr>\n",
       "      <th>2</th>\n",
       "      <td>2.004000e+09</td>\n",
       "      <td>11.0</td>\n",
       "      <td>2.0</td>\n",
       "      <td>2203.0</td>\n",
       "      <td>02203</td>\n",
       "      <td>2004.0</td>\n",
       "      <td>1.0</td>\n",
       "      <td>5.0</td>\n",
       "      <td>1839.0</td>\n",
       "      <td>18.0</td>\n",
       "      <td>...</td>\n",
       "      <td>NaN</td>\n",
       "      <td>2.0</td>\n",
       "      <td>2.0</td>\n",
       "      <td>W</td>\n",
       "      <td>2.0</td>\n",
       "      <td>3082</td>\n",
       "      <td>35.0</td>\n",
       "      <td>NaN</td>\n",
       "      <td>NaN</td>\n",
       "      <td>CLINTON FRANKFORT RD</td>\n",
       "    </tr>\n",
       "    <tr>\n",
       "      <th>3</th>\n",
       "      <td>2.004000e+09</td>\n",
       "      <td>11.0</td>\n",
       "      <td>2.0</td>\n",
       "      <td>2404.0</td>\n",
       "      <td>02404</td>\n",
       "      <td>2004.0</td>\n",
       "      <td>1.0</td>\n",
       "      <td>6.0</td>\n",
       "      <td>914.0</td>\n",
       "      <td>9.0</td>\n",
       "      <td>...</td>\n",
       "      <td>NaN</td>\n",
       "      <td>2.0</td>\n",
       "      <td>2.0</td>\n",
       "      <td>N</td>\n",
       "      <td>4.0</td>\n",
       "      <td>NaN</td>\n",
       "      <td>25.0</td>\n",
       "      <td>NaN</td>\n",
       "      <td>NaN</td>\n",
       "      <td>NORTH BALPH AV</td>\n",
       "    </tr>\n",
       "    <tr>\n",
       "      <th>4</th>\n",
       "      <td>2.004000e+09</td>\n",
       "      <td>11.0</td>\n",
       "      <td>2.0</td>\n",
       "      <td>2419.0</td>\n",
       "      <td>02419</td>\n",
       "      <td>2004.0</td>\n",
       "      <td>1.0</td>\n",
       "      <td>5.0</td>\n",
       "      <td>2230.0</td>\n",
       "      <td>22.0</td>\n",
       "      <td>...</td>\n",
       "      <td>NaN</td>\n",
       "      <td>2.0</td>\n",
       "      <td>2.0</td>\n",
       "      <td>S</td>\n",
       "      <td>4.0</td>\n",
       "      <td>NaN</td>\n",
       "      <td>20.0</td>\n",
       "      <td>NaN</td>\n",
       "      <td>NaN</td>\n",
       "      <td>THORNBERRY DR</td>\n",
       "    </tr>\n",
       "  </tbody>\n",
       "</table>\n",
       "<p>5 rows × 188 columns</p>\n",
       "</div>"
      ],
      "text/plain": [
       "      CRASH_CRN  DISTRICT  CRASH_COUNTY  MUNICIPALITY POLICE_AGCY  CRASH_YEAR  \\\n",
       "0  2.004000e+09      11.0           2.0        2454.0       02454      2004.0   \n",
       "1  2.004000e+09      11.0           2.0        2440.0       02440      2004.0   \n",
       "2  2.004000e+09      11.0           2.0        2203.0       02203      2004.0   \n",
       "3  2.004000e+09      11.0           2.0        2404.0       02404      2004.0   \n",
       "4  2.004000e+09      11.0           2.0        2419.0       02419      2004.0   \n",
       "\n",
       "   CRASH_MONTH  DAY_OF_WEEK  TIME_OF_DAY  HOUR_OF_DAY          ...           \\\n",
       "0          1.0          5.0        257.0          2.0          ...            \n",
       "1          1.0          5.0       1027.0         10.0          ...            \n",
       "2          1.0          5.0       1839.0         18.0          ...            \n",
       "3          1.0          6.0        914.0          9.0          ...            \n",
       "4          1.0          5.0       2230.0         22.0          ...            \n",
       "\n",
       "   ACCESS_CTRL  ROADWAY_COUNTY  LANE_COUNT  RDWY_ORIENT  ROAD_OWNER  ROUTE  \\\n",
       "0          3.0             2.0         2.0            E         2.0   2032   \n",
       "1          NaN             2.0         2.0            W         3.0    NaN   \n",
       "2          NaN             2.0         2.0            W         2.0   3082   \n",
       "3          NaN             2.0         2.0            N         4.0    NaN   \n",
       "4          NaN             2.0         2.0            S         4.0    NaN   \n",
       "\n",
       "   SPEED_LIMIT  SEGMENT  OFFSET           STREET_NAME  \n",
       "0         35.0     10.0  1000.0          LEWIS RUN RD  \n",
       "1         35.0      NaN     NaN        COAL VALLEY RD  \n",
       "2         35.0      NaN     NaN  CLINTON FRANKFORT RD  \n",
       "3         25.0      NaN     NaN        NORTH BALPH AV  \n",
       "4         20.0      NaN     NaN         THORNBERRY DR  \n",
       "\n",
       "[5 rows x 188 columns]"
      ]
     },
     "execution_count": 2,
     "metadata": {},
     "output_type": "execute_result"
    }
   ],
   "source": [
    "df = pd.read_csv('crashdata.csv')\n",
    "df.head()"
   ]
  },
  {
   "cell_type": "code",
   "execution_count": 8,
   "metadata": {
    "collapsed": false
   },
   "outputs": [
    {
     "data": {
      "text/plain": [
       "0    2032\n",
       "1     NaN\n",
       "2    3082\n",
       "3     NaN\n",
       "4     NaN\n",
       "Name: ROUTE, dtype: object"
      ]
     },
     "execution_count": 8,
     "metadata": {},
     "output_type": "execute_result"
    }
   ],
   "source": [
    "(df.iloc[:,183]).head()"
   ]
  },
  {
   "cell_type": "code",
   "execution_count": 11,
   "metadata": {
    "collapsed": false
   },
   "outputs": [
    {
     "data": {
      "text/plain": [
       "37      Y\n",
       "121     Y\n",
       "275     Y\n",
       "604     Y\n",
       "2450    Y\n",
       "Name: WZ_FLAGGER, dtype: object"
      ]
     },
     "execution_count": 11,
     "metadata": {},
     "output_type": "execute_result"
    }
   ],
   "source": [
    "(df.iloc[:,79]).dropna().head()"
   ]
  },
  {
   "cell_type": "code",
   "execution_count": 7,
   "metadata": {
    "collapsed": false
   },
   "outputs": [
    {
     "data": {
      "text/plain": [
       "(157821, 188)"
      ]
     },
     "execution_count": 7,
     "metadata": {},
     "output_type": "execute_result"
    }
   ],
   "source": [
    "df.shape"
   ]
  },
  {
   "cell_type": "code",
   "execution_count": 8,
   "metadata": {
    "collapsed": false
   },
   "outputs": [
    {
     "data": {
      "text/html": [
       "<div>\n",
       "<style>\n",
       "    .dataframe thead tr:only-child th {\n",
       "        text-align: right;\n",
       "    }\n",
       "\n",
       "    .dataframe thead th {\n",
       "        text-align: left;\n",
       "    }\n",
       "\n",
       "    .dataframe tbody tr th {\n",
       "        vertical-align: top;\n",
       "    }\n",
       "</style>\n",
       "<table border=\"1\" class=\"dataframe\">\n",
       "  <thead>\n",
       "    <tr style=\"text-align: right;\">\n",
       "      <th></th>\n",
       "      <th>CRASH_CRN</th>\n",
       "      <th>DISTRICT</th>\n",
       "      <th>CRASH_COUNTY</th>\n",
       "      <th>MUNICIPALITY</th>\n",
       "      <th>CRASH_YEAR</th>\n",
       "      <th>CRASH_MONTH</th>\n",
       "      <th>DAY_OF_WEEK</th>\n",
       "      <th>TIME_OF_DAY</th>\n",
       "      <th>HOUR_OF_DAY</th>\n",
       "      <th>ILLUMINATION</th>\n",
       "      <th>...</th>\n",
       "      <th>ROADWAY_CRN</th>\n",
       "      <th>RDWY_SEQ_NUM</th>\n",
       "      <th>ADJ_RDWY_SEQ</th>\n",
       "      <th>ACCESS_CTRL</th>\n",
       "      <th>ROADWAY_COUNTY</th>\n",
       "      <th>LANE_COUNT</th>\n",
       "      <th>ROAD_OWNER</th>\n",
       "      <th>SPEED_LIMIT</th>\n",
       "      <th>SEGMENT</th>\n",
       "      <th>OFFSET</th>\n",
       "    </tr>\n",
       "  </thead>\n",
       "  <tbody>\n",
       "    <tr>\n",
       "      <th>count</th>\n",
       "      <td>1.578210e+05</td>\n",
       "      <td>157821.0</td>\n",
       "      <td>157821.0</td>\n",
       "      <td>157821.000000</td>\n",
       "      <td>157821.000000</td>\n",
       "      <td>157821.000000</td>\n",
       "      <td>157821.000000</td>\n",
       "      <td>157673.000000</td>\n",
       "      <td>157673.000000</td>\n",
       "      <td>157821.000000</td>\n",
       "      <td>...</td>\n",
       "      <td>1.578210e+05</td>\n",
       "      <td>157821.000000</td>\n",
       "      <td>157821.000000</td>\n",
       "      <td>97176.000000</td>\n",
       "      <td>157821.000000</td>\n",
       "      <td>157802.000000</td>\n",
       "      <td>157821.000000</td>\n",
       "      <td>152226.000000</td>\n",
       "      <td>97636.000000</td>\n",
       "      <td>108211.000000</td>\n",
       "    </tr>\n",
       "    <tr>\n",
       "      <th>mean</th>\n",
       "      <td>2.010197e+09</td>\n",
       "      <td>11.0</td>\n",
       "      <td>2.0</td>\n",
       "      <td>2286.888735</td>\n",
       "      <td>2010.044722</td>\n",
       "      <td>6.578871</td>\n",
       "      <td>4.158845</td>\n",
       "      <td>1485.839966</td>\n",
       "      <td>14.559405</td>\n",
       "      <td>1.749989</td>\n",
       "      <td>...</td>\n",
       "      <td>2.010197e+09</td>\n",
       "      <td>3.034653</td>\n",
       "      <td>3.209978</td>\n",
       "      <td>2.287561</td>\n",
       "      <td>2.033633</td>\n",
       "      <td>3.762018</td>\n",
       "      <td>2.762719</td>\n",
       "      <td>35.012580</td>\n",
       "      <td>224.246938</td>\n",
       "      <td>992.462846</td>\n",
       "    </tr>\n",
       "    <tr>\n",
       "      <th>std</th>\n",
       "      <td>3.701085e+06</td>\n",
       "      <td>0.0</td>\n",
       "      <td>0.0</td>\n",
       "      <td>121.001490</td>\n",
       "      <td>3.784427</td>\n",
       "      <td>3.585920</td>\n",
       "      <td>1.966941</td>\n",
       "      <td>1386.899404</td>\n",
       "      <td>13.777689</td>\n",
       "      <td>1.092678</td>\n",
       "      <td>...</td>\n",
       "      <td>3.701085e+06</td>\n",
       "      <td>0.227713</td>\n",
       "      <td>0.440465</td>\n",
       "      <td>1.047198</td>\n",
       "      <td>1.430375</td>\n",
       "      <td>12.185600</td>\n",
       "      <td>1.154233</td>\n",
       "      <td>11.235706</td>\n",
       "      <td>236.730709</td>\n",
       "      <td>985.252606</td>\n",
       "    </tr>\n",
       "    <tr>\n",
       "      <th>min</th>\n",
       "      <td>2.004000e+09</td>\n",
       "      <td>11.0</td>\n",
       "      <td>2.0</td>\n",
       "      <td>2101.000000</td>\n",
       "      <td>2004.000000</td>\n",
       "      <td>1.000000</td>\n",
       "      <td>1.000000</td>\n",
       "      <td>0.000000</td>\n",
       "      <td>0.000000</td>\n",
       "      <td>1.000000</td>\n",
       "      <td>...</td>\n",
       "      <td>2.004000e+09</td>\n",
       "      <td>3.000000</td>\n",
       "      <td>3.000000</td>\n",
       "      <td>0.000000</td>\n",
       "      <td>2.000000</td>\n",
       "      <td>0.000000</td>\n",
       "      <td>1.000000</td>\n",
       "      <td>0.000000</td>\n",
       "      <td>0.000000</td>\n",
       "      <td>0.000000</td>\n",
       "    </tr>\n",
       "    <tr>\n",
       "      <th>25%</th>\n",
       "      <td>2.007042e+09</td>\n",
       "      <td>11.0</td>\n",
       "      <td>2.0</td>\n",
       "      <td>2207.000000</td>\n",
       "      <td>2007.000000</td>\n",
       "      <td>3.000000</td>\n",
       "      <td>2.000000</td>\n",
       "      <td>850.000000</td>\n",
       "      <td>8.000000</td>\n",
       "      <td>1.000000</td>\n",
       "      <td>...</td>\n",
       "      <td>2.007042e+09</td>\n",
       "      <td>3.000000</td>\n",
       "      <td>3.000000</td>\n",
       "      <td>1.000000</td>\n",
       "      <td>2.000000</td>\n",
       "      <td>2.000000</td>\n",
       "      <td>2.000000</td>\n",
       "      <td>25.000000</td>\n",
       "      <td>40.000000</td>\n",
       "      <td>0.000000</td>\n",
       "    </tr>\n",
       "    <tr>\n",
       "      <th>50%</th>\n",
       "      <td>2.010082e+09</td>\n",
       "      <td>11.0</td>\n",
       "      <td>2.0</td>\n",
       "      <td>2301.000000</td>\n",
       "      <td>2010.000000</td>\n",
       "      <td>7.000000</td>\n",
       "      <td>4.000000</td>\n",
       "      <td>1420.000000</td>\n",
       "      <td>14.000000</td>\n",
       "      <td>1.000000</td>\n",
       "      <td>...</td>\n",
       "      <td>2.010082e+09</td>\n",
       "      <td>3.000000</td>\n",
       "      <td>3.000000</td>\n",
       "      <td>3.000000</td>\n",
       "      <td>2.000000</td>\n",
       "      <td>2.000000</td>\n",
       "      <td>2.000000</td>\n",
       "      <td>35.000000</td>\n",
       "      <td>120.000000</td>\n",
       "      <td>750.000000</td>\n",
       "    </tr>\n",
       "    <tr>\n",
       "      <th>75%</th>\n",
       "      <td>2.013119e+09</td>\n",
       "      <td>11.0</td>\n",
       "      <td>2.0</td>\n",
       "      <td>2407.000000</td>\n",
       "      <td>2013.000000</td>\n",
       "      <td>10.000000</td>\n",
       "      <td>6.000000</td>\n",
       "      <td>1758.000000</td>\n",
       "      <td>17.000000</td>\n",
       "      <td>3.000000</td>\n",
       "      <td>...</td>\n",
       "      <td>2.013119e+09</td>\n",
       "      <td>3.000000</td>\n",
       "      <td>3.000000</td>\n",
       "      <td>3.000000</td>\n",
       "      <td>2.000000</td>\n",
       "      <td>2.000000</td>\n",
       "      <td>4.000000</td>\n",
       "      <td>40.000000</td>\n",
       "      <td>340.000000</td>\n",
       "      <td>1675.000000</td>\n",
       "    </tr>\n",
       "    <tr>\n",
       "      <th>max</th>\n",
       "      <td>2.017032e+09</td>\n",
       "      <td>11.0</td>\n",
       "      <td>2.0</td>\n",
       "      <td>2491.000000</td>\n",
       "      <td>2016.000000</td>\n",
       "      <td>12.000000</td>\n",
       "      <td>7.000000</td>\n",
       "      <td>9999.000000</td>\n",
       "      <td>99.000000</td>\n",
       "      <td>9.000000</td>\n",
       "      <td>...</td>\n",
       "      <td>2.017032e+09</td>\n",
       "      <td>10.000000</td>\n",
       "      <td>10.000000</td>\n",
       "      <td>3.000000</td>\n",
       "      <td>66.000000</td>\n",
       "      <td>99.000000</td>\n",
       "      <td>9.000000</td>\n",
       "      <td>75.000000</td>\n",
       "      <td>8046.000000</td>\n",
       "      <td>5893.000000</td>\n",
       "    </tr>\n",
       "  </tbody>\n",
       "</table>\n",
       "<p>8 rows × 169 columns</p>\n",
       "</div>"
      ],
      "text/plain": [
       "          CRASH_CRN  DISTRICT  CRASH_COUNTY   MUNICIPALITY     CRASH_YEAR  \\\n",
       "count  1.578210e+05  157821.0      157821.0  157821.000000  157821.000000   \n",
       "mean   2.010197e+09      11.0           2.0    2286.888735    2010.044722   \n",
       "std    3.701085e+06       0.0           0.0     121.001490       3.784427   \n",
       "min    2.004000e+09      11.0           2.0    2101.000000    2004.000000   \n",
       "25%    2.007042e+09      11.0           2.0    2207.000000    2007.000000   \n",
       "50%    2.010082e+09      11.0           2.0    2301.000000    2010.000000   \n",
       "75%    2.013119e+09      11.0           2.0    2407.000000    2013.000000   \n",
       "max    2.017032e+09      11.0           2.0    2491.000000    2016.000000   \n",
       "\n",
       "         CRASH_MONTH    DAY_OF_WEEK    TIME_OF_DAY    HOUR_OF_DAY  \\\n",
       "count  157821.000000  157821.000000  157673.000000  157673.000000   \n",
       "mean        6.578871       4.158845    1485.839966      14.559405   \n",
       "std         3.585920       1.966941    1386.899404      13.777689   \n",
       "min         1.000000       1.000000       0.000000       0.000000   \n",
       "25%         3.000000       2.000000     850.000000       8.000000   \n",
       "50%         7.000000       4.000000    1420.000000      14.000000   \n",
       "75%        10.000000       6.000000    1758.000000      17.000000   \n",
       "max        12.000000       7.000000    9999.000000      99.000000   \n",
       "\n",
       "        ILLUMINATION      ...         ROADWAY_CRN   RDWY_SEQ_NUM  \\\n",
       "count  157821.000000      ...        1.578210e+05  157821.000000   \n",
       "mean        1.749989      ...        2.010197e+09       3.034653   \n",
       "std         1.092678      ...        3.701085e+06       0.227713   \n",
       "min         1.000000      ...        2.004000e+09       3.000000   \n",
       "25%         1.000000      ...        2.007042e+09       3.000000   \n",
       "50%         1.000000      ...        2.010082e+09       3.000000   \n",
       "75%         3.000000      ...        2.013119e+09       3.000000   \n",
       "max         9.000000      ...        2.017032e+09      10.000000   \n",
       "\n",
       "        ADJ_RDWY_SEQ   ACCESS_CTRL  ROADWAY_COUNTY     LANE_COUNT  \\\n",
       "count  157821.000000  97176.000000   157821.000000  157802.000000   \n",
       "mean        3.209978      2.287561        2.033633       3.762018   \n",
       "std         0.440465      1.047198        1.430375      12.185600   \n",
       "min         3.000000      0.000000        2.000000       0.000000   \n",
       "25%         3.000000      1.000000        2.000000       2.000000   \n",
       "50%         3.000000      3.000000        2.000000       2.000000   \n",
       "75%         3.000000      3.000000        2.000000       2.000000   \n",
       "max        10.000000      3.000000       66.000000      99.000000   \n",
       "\n",
       "          ROAD_OWNER    SPEED_LIMIT       SEGMENT         OFFSET  \n",
       "count  157821.000000  152226.000000  97636.000000  108211.000000  \n",
       "mean        2.762719      35.012580    224.246938     992.462846  \n",
       "std         1.154233      11.235706    236.730709     985.252606  \n",
       "min         1.000000       0.000000      0.000000       0.000000  \n",
       "25%         2.000000      25.000000     40.000000       0.000000  \n",
       "50%         2.000000      35.000000    120.000000     750.000000  \n",
       "75%         4.000000      40.000000    340.000000    1675.000000  \n",
       "max         9.000000      75.000000   8046.000000    5893.000000  \n",
       "\n",
       "[8 rows x 169 columns]"
      ]
     },
     "execution_count": 8,
     "metadata": {},
     "output_type": "execute_result"
    }
   ],
   "source": [
    "df.describe()"
   ]
  },
  {
   "cell_type": "code",
   "execution_count": 25,
   "metadata": {
    "collapsed": false
   },
   "outputs": [
    {
     "data": {
      "text/plain": [
       "0.0    156963\n",
       "1.0       804\n",
       "2.0        47\n",
       "3.0         7\n",
       "Name: FATAL_COUNT, dtype: int64"
      ]
     },
     "execution_count": 25,
     "metadata": {},
     "output_type": "execute_result"
    }
   ],
   "source": [
    "df['FATAL_COUNT'].value_counts()\n",
    "#Look at fatalities of accidents"
   ]
  },
  {
   "cell_type": "code",
   "execution_count": 26,
   "metadata": {
    "collapsed": false
   },
   "outputs": [
    {
     "data": {
      "text/plain": [
       "0     2.0\n",
       "1    10.0\n",
       "2    18.0\n",
       "3     9.0\n",
       "4    22.0\n",
       "Name: HOUR_OF_DAY, dtype: float64"
      ]
     },
     "execution_count": 26,
     "metadata": {},
     "output_type": "execute_result"
    }
   ],
   "source": [
    "df['HOUR_OF_DAY'].head()"
   ]
  },
  {
   "cell_type": "code",
   "execution_count": 32,
   "metadata": {
    "collapsed": false
   },
   "outputs": [
    {
     "data": {
      "text/plain": [
       "<matplotlib.axes._subplots.AxesSubplot at 0x1e79dc294e0>"
      ]
     },
     "execution_count": 32,
     "metadata": {},
     "output_type": "execute_result"
    },
    {
     "data": {
      "image/png": "[encoded data removed]",
      "text/plain": [
       "<matplotlib.figure.Figure at 0x1e79c720e48>"
      ]
     },
     "metadata": {},
     "output_type": "display_data"
    }
   ],
   "source": [
    "df['HOUR_OF_DAY'].value_counts().sort_index().plot(kind = 'bar')\n",
    "#What time of day are accidents most common?"
   ]
  },
  {
   "cell_type": "code",
   "execution_count": 33,
   "metadata": {
    "collapsed": false
   },
   "outputs": [
    {
     "data": {
      "text/plain": [
       "<matplotlib.axes._subplots.AxesSubplot at 0x1e79dc4d208>"
      ]
     },
     "execution_count": 33,
     "metadata": {},
     "output_type": "execute_result"
    },
    {
     "data": {
      "image/png": "[encoded data removed]",
      "text/plain": [
       "<matplotlib.figure.Figure at 0x1e79dd27588>"
      ]
     },
     "metadata": {},
     "output_type": "display_data"
    }
   ],
   "source": [
    "df['ILLUMINATION'].value_counts().sort_index().plot(kind = 'bar')"
   ]
  },
  {
   "cell_type": "code",
   "execution_count": 5,
   "metadata": {
    "collapsed": false
   },
   "outputs": [
    {
     "data": {
      "text/plain": [
       "1.0    97032\n",
       "3.0    41462\n",
       "2.0     9957\n",
       "4.0     2558\n",
       "5.0     2255\n",
       "6.0      751\n",
       "8.0      303\n",
       "9.0       25\n",
       "Name: ILLUMINATION, dtype: int64"
      ]
     },
     "execution_count": 5,
     "metadata": {},
     "output_type": "execute_result"
    }
   ],
   "source": [
    "light = df[['HOUR_OF_DAY', 'ILLUMINATION']]\n",
    "light = light[light['HOUR_OF_DAY'] < 25]\n",
    "light = light.set_index('HOUR_OF_DAY').sort_index()\n",
    "light.ILLUMINATION.value_counts()"
   ]
  },
  {
   "cell_type": "code",
   "execution_count": 35,
   "metadata": {
    "collapsed": false
   },
   "outputs": [],
   "source": [
    "lat = df['DEC_LAT'].dropna().head(50).tolist()\n",
    "lon = df['DEC_LONG'].dropna().head(50).tolist()"
   ]
  },
  {
   "cell_type": "code",
   "execution_count": 40,
   "metadata": {
    "collapsed": false
   },
   "outputs": [],
   "source": [
    "gmap = gm.GoogleMapPlotter(lat[0],lon[0],10)\n",
    "gmap.scatter(lat,lon, color = 'k', marker=True)\n",
    "gmap.draw(\"scatter.html\")"
   ]
  },
  {
   "cell_type": "code",
   "execution_count": null,
   "metadata": {
    "collapsed": true
   },
   "outputs": [],
   "source": []
  },
  {
   "cell_type": "code",
   "execution_count": 29,
   "metadata": {
    "collapsed": true
   },
   "outputs": [],
   "source": [
    "lat = df['DEC_LAT'].dropna().tolist()\n",
    "lon = df['DEC_LONG'].dropna().tolist()"
   ]
  },
  {
   "cell_type": "code",
   "execution_count": 32,
   "metadata": {
    "collapsed": true
   },
   "outputs": [],
   "source": [
    "#double lat and lon before heatmap\n",
    "lat = lat + lat\n",
    "lon = lon + lon"
   ]
  },
  {
   "cell_type": "code",
   "execution_count": 34,
   "metadata": {
    "collapsed": false
   },
   "outputs": [],
   "source": [
    "gmap = gm.GoogleMapPlotter(lat[0],lon[0],17) #initialize zoom = 15, 10 fits all data\n",
    "#gmap.scatter(lat,lon,'#3B0B39', size=4000, marker=False)\n",
    "#gmap.scatter(lat,lon, 'k', marker=True)\n",
    "\n",
    "gmap.heatmap(lat,lon)\n",
    "\n",
    "gmap.draw(\"mymap.html\")"
   ]
  },
  {
   "cell_type": "code",
   "execution_count": null,
   "metadata": {
    "collapsed": true
   },
   "outputs": [],
   "source": []
  },
  {
   "cell_type": "code",
   "execution_count": null,
   "metadata": {
    "collapsed": true
   },
   "outputs": [],
   "source": []
  },
  {
   "cell_type": "code",
   "execution_count": null,
   "metadata": {
    "collapsed": true
   },
   "outputs": [],
   "source": []
  },
  {
   "cell_type": "code",
   "execution_count": null,
   "metadata": {
    "collapsed": true
   },
   "outputs": [],
   "source": []
  },
  {
   "cell_type": "code",
   "execution_count": null,
   "metadata": {
    "collapsed": true
   },
   "outputs": [],
   "source": []
  },
  {
   "cell_type": "code",
   "execution_count": null,
   "metadata": {
    "collapsed": true
   },
   "outputs": [],
   "source": []
  },
  {
   "cell_type": "code",
   "execution_count": null,
   "metadata": {
    "collapsed": true
   },
   "outputs": [],
   "source": []
  },
  {
   "cell_type": "code",
   "execution_count": null,
   "metadata": {
    "collapsed": true
   },
   "outputs": [],
   "source": []
  }
 ],
 "metadata": {
  "kernelspec": {
   "display_name": "Python 3",
   "language": "python",
   "name": "python3"
  },
  "language_info": {
   "codemirror_mode": {
    "name": "ipython",
    "version": 3
   },
   "file_extension": ".py",
   "mimetype": "text/x-python",
   "name": "python",
   "nbconvert_exporter": "python",
   "pygments_lexer": "ipython3",
   "version": "3.6.0"
  }
 },
 "nbformat": 4,
 "nbformat_minor": 2
}
