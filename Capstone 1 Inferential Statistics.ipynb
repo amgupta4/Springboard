{
 "cells": [
  {
   "cell_type": "markdown",
   "metadata": {},
   "source": [
    "Because of large file size, memory usage is high with multiple dataframes. Splitting Data Story into parts avoids memory errors from occuring."
   ]
  },
  {
   "cell_type": "code",
   "execution_count": 22,
   "metadata": {
    "collapsed": true
   },
   "outputs": [],
   "source": [
    "%matplotlib inline\n",
    "import pandas as pd\n",
    "import numpy as np\n",
    "import matplotlib.pyplot as plt\n",
    "import pickle\n",
    "import seaborn as sns"
   ]
  },
  {
   "cell_type": "code",
   "execution_count": 23,
   "metadata": {
    "collapsed": false,
    "scrolled": false
   },
   "outputs": [
    {
     "name": "stderr",
     "output_type": "stream",
     "text": [
      "C:\\Users\\Ari\\Anaconda3\\lib\\site-packages\\IPython\\core\\interactiveshell.py:2717: DtypeWarning: Columns (79,183) have mixed types. Specify dtype option on import or set low_memory=False.\n",
      "  interactivity=interactivity, compiler=compiler, result=result)\n"
     ]
    }
   ],
   "source": [
    "crash = pd.read_csv('crashdata.csv')\n",
    "crash_sev_loc = pd.read_pickle('crash_sev_loc.pkl')"
   ]
  },
  {
   "cell_type": "code",
   "execution_count": 24,
   "metadata": {
    "collapsed": false,
    "scrolled": true
   },
   "outputs": [],
   "source": [
    "crash_sev_loc['danger'] = crash_sev_loc.severity/(crash_sev_loc.traffic * 4728)"
   ]
  },
  {
   "cell_type": "code",
   "execution_count": 25,
   "metadata": {
    "collapsed": false,
    "scrolled": true
   },
   "outputs": [
    {
     "data": {
      "text/html": [
       "<div>\n",
       "<style>\n",
       "    .dataframe thead tr:only-child th {\n",
       "        text-align: right;\n",
       "    }\n",
       "\n",
       "    .dataframe thead th {\n",
       "        text-align: left;\n",
       "    }\n",
       "\n",
       "    .dataframe tbody tr th {\n",
       "        vertical-align: top;\n",
       "    }\n",
       "</style>\n",
       "<table border=\"1\" class=\"dataframe\">\n",
       "  <thead>\n",
       "    <tr style=\"text-align: right;\">\n",
       "      <th></th>\n",
       "      <th>WEATHER</th>\n",
       "      <th>ILLUMINATION</th>\n",
       "      <th>INTERSECT_TYPE</th>\n",
       "      <th>LOCATION_TYPE</th>\n",
       "      <th>RELATION_TO_ROAD</th>\n",
       "      <th>ROAD_CONDITION</th>\n",
       "      <th>SPEED_LIMIT</th>\n",
       "      <th>TCD_FUNC_CD</th>\n",
       "      <th>TCD_TYPE</th>\n",
       "      <th>DEC_LAT</th>\n",
       "      <th>DEC_LONG</th>\n",
       "    </tr>\n",
       "  </thead>\n",
       "  <tbody>\n",
       "    <tr>\n",
       "      <th>0</th>\n",
       "      <td>1.0</td>\n",
       "      <td>2.0</td>\n",
       "      <td>0.0</td>\n",
       "      <td>0.0</td>\n",
       "      <td>2.0</td>\n",
       "      <td>0.0</td>\n",
       "      <td>35.0</td>\n",
       "      <td>0.0</td>\n",
       "      <td>0.0</td>\n",
       "      <td>40.3234</td>\n",
       "      <td>-79.9404</td>\n",
       "    </tr>\n",
       "    <tr>\n",
       "      <th>1</th>\n",
       "      <td>1.0</td>\n",
       "      <td>1.0</td>\n",
       "      <td>0.0</td>\n",
       "      <td>0.0</td>\n",
       "      <td>5.0</td>\n",
       "      <td>6.0</td>\n",
       "      <td>35.0</td>\n",
       "      <td>0.0</td>\n",
       "      <td>0.0</td>\n",
       "      <td>40.3182</td>\n",
       "      <td>-79.9076</td>\n",
       "    </tr>\n",
       "    <tr>\n",
       "      <th>2</th>\n",
       "      <td>1.0</td>\n",
       "      <td>2.0</td>\n",
       "      <td>3.0</td>\n",
       "      <td>0.0</td>\n",
       "      <td>5.0</td>\n",
       "      <td>0.0</td>\n",
       "      <td>35.0</td>\n",
       "      <td>3.0</td>\n",
       "      <td>3.0</td>\n",
       "      <td>40.4886</td>\n",
       "      <td>-80.3371</td>\n",
       "    </tr>\n",
       "    <tr>\n",
       "      <th>3</th>\n",
       "      <td>1.0</td>\n",
       "      <td>1.0</td>\n",
       "      <td>1.0</td>\n",
       "      <td>0.0</td>\n",
       "      <td>1.0</td>\n",
       "      <td>1.0</td>\n",
       "      <td>25.0</td>\n",
       "      <td>3.0</td>\n",
       "      <td>2.0</td>\n",
       "      <td>NaN</td>\n",
       "      <td>NaN</td>\n",
       "    </tr>\n",
       "    <tr>\n",
       "      <th>4</th>\n",
       "      <td>1.0</td>\n",
       "      <td>3.0</td>\n",
       "      <td>0.0</td>\n",
       "      <td>0.0</td>\n",
       "      <td>1.0</td>\n",
       "      <td>0.0</td>\n",
       "      <td>20.0</td>\n",
       "      <td>0.0</td>\n",
       "      <td>0.0</td>\n",
       "      <td>NaN</td>\n",
       "      <td>NaN</td>\n",
       "    </tr>\n",
       "  </tbody>\n",
       "</table>\n",
       "</div>"
      ],
      "text/plain": [
       "   WEATHER  ILLUMINATION  INTERSECT_TYPE  LOCATION_TYPE  RELATION_TO_ROAD  \\\n",
       "0      1.0           2.0             0.0            0.0               2.0   \n",
       "1      1.0           1.0             0.0            0.0               5.0   \n",
       "2      1.0           2.0             3.0            0.0               5.0   \n",
       "3      1.0           1.0             1.0            0.0               1.0   \n",
       "4      1.0           3.0             0.0            0.0               1.0   \n",
       "\n",
       "   ROAD_CONDITION  SPEED_LIMIT  TCD_FUNC_CD  TCD_TYPE  DEC_LAT  DEC_LONG  \n",
       "0             0.0         35.0          0.0       0.0  40.3234  -79.9404  \n",
       "1             6.0         35.0          0.0       0.0  40.3182  -79.9076  \n",
       "2             0.0         35.0          3.0       3.0  40.4886  -80.3371  \n",
       "3             1.0         25.0          3.0       2.0      NaN       NaN  \n",
       "4             0.0         20.0          0.0       0.0      NaN       NaN  "
      ]
     },
     "execution_count": 25,
     "metadata": {},
     "output_type": "execute_result"
    }
   ],
   "source": [
    "crash_conditions = crash.loc[:, ('WEATHER', 'ILLUMINATION', 'INTERSECT_TYPE', 'LOCATION_TYPE', 'RELATION_TO_ROAD', 'ROAD_CONDITION', 'SPEED_LIMIT', 'TCD_FUNC_CD', 'TCD_TYPE', 'DEC_LAT', 'DEC_LONG')]\n",
    "crash_conditions.head()"
   ]
  },
  {
   "cell_type": "code",
   "execution_count": 26,
   "metadata": {
    "collapsed": false
   },
   "outputs": [
    {
     "name": "stdout",
     "output_type": "stream",
     "text": [
      "<class 'pandas.core.frame.DataFrame'>\n",
      "RangeIndex: 157821 entries, 0 to 157820\n",
      "Data columns (total 11 columns):\n",
      "WEATHER             157802 non-null float64\n",
      "ILLUMINATION        157821 non-null float64\n",
      "INTERSECT_TYPE      157821 non-null float64\n",
      "LOCATION_TYPE       157821 non-null float64\n",
      "RELATION_TO_ROAD    157821 non-null float64\n",
      "ROAD_CONDITION      157821 non-null float64\n",
      "SPEED_LIMIT         152226 non-null float64\n",
      "TCD_FUNC_CD         157820 non-null float64\n",
      "TCD_TYPE            157821 non-null float64\n",
      "DEC_LAT             147836 non-null float64\n",
      "DEC_LONG            147834 non-null float64\n",
      "dtypes: float64(11)\n",
      "memory usage: 13.2 MB\n"
     ]
    }
   ],
   "source": [
    "crash_conditions.info()"
   ]
  },
  {
   "cell_type": "code",
   "execution_count": 27,
   "metadata": {
    "collapsed": false
   },
   "outputs": [
    {
     "name": "stdout",
     "output_type": "stream",
     "text": [
      "<class 'pandas.core.frame.DataFrame'>\n",
      "Int64Index: 141776 entries, 0 to 1170299\n",
      "Data columns (total 19 columns):\n",
      "FATAL                 141776 non-null float64\n",
      "FATAL_COUNT           141776 non-null float64\n",
      "FATAL_OR_MAJ_INJ      141776 non-null float64\n",
      "INJURY                141776 non-null float64\n",
      "INJURY_COUNT          141776 non-null float64\n",
      "MAJ_INJ_COUNT         141776 non-null float64\n",
      "MAJOR_INJURY          141776 non-null float64\n",
      "MAX_SEVERITY_LEVEL    141776 non-null float64\n",
      "VEHICLE_COUNT         141776 non-null float64\n",
      "DEC_LAT               141776 non-null float64\n",
      "DEC_LONG              141776 non-null float64\n",
      "STREET_NAME           141776 non-null object\n",
      "datetime              141776 non-null datetime64[ns]\n",
      "ecef                  141776 non-null object\n",
      "sensor_distance       141776 non-null float64\n",
      "traffic               141776 non-null float64\n",
      "max_traffic           141776 non-null float64\n",
      "severity              141776 non-null float64\n",
      "danger                141776 non-null float64\n",
      "dtypes: datetime64[ns](1), float64(16), object(2)\n",
      "memory usage: 21.6+ MB\n"
     ]
    }
   ],
   "source": [
    "crash_sev_loc.info()"
   ]
  },
  {
   "cell_type": "code",
   "execution_count": 28,
   "metadata": {
    "collapsed": false
   },
   "outputs": [],
   "source": [
    "# Merge and drop duplicates\n",
    "crash_sev_loc_cond = crash_conditions.merge(crash_sev_loc, on=['DEC_LAT','DEC_LONG'])\n",
    "crash_sev_loc_cond.drop_duplicates(subset = ['datetime','DEC_LAT','DEC_LONG'], inplace = True)"
   ]
  },
  {
   "cell_type": "code",
   "execution_count": 29,
   "metadata": {
    "collapsed": false
   },
   "outputs": [
    {
     "name": "stdout",
     "output_type": "stream",
     "text": [
      "<class 'pandas.core.frame.DataFrame'>\n",
      "Int64Index: 141776 entries, 0 to 1168739\n",
      "Data columns (total 28 columns):\n",
      "WEATHER               141762 non-null float64\n",
      "ILLUMINATION          141776 non-null float64\n",
      "INTERSECT_TYPE        141776 non-null float64\n",
      "LOCATION_TYPE         141776 non-null float64\n",
      "RELATION_TO_ROAD      141776 non-null float64\n",
      "ROAD_CONDITION        141776 non-null float64\n",
      "SPEED_LIMIT           135286 non-null float64\n",
      "TCD_FUNC_CD           141776 non-null float64\n",
      "TCD_TYPE              141776 non-null float64\n",
      "DEC_LAT               141776 non-null float64\n",
      "DEC_LONG              141776 non-null float64\n",
      "FATAL                 141776 non-null float64\n",
      "FATAL_COUNT           141776 non-null float64\n",
      "FATAL_OR_MAJ_INJ      141776 non-null float64\n",
      "INJURY                141776 non-null float64\n",
      "INJURY_COUNT          141776 non-null float64\n",
      "MAJ_INJ_COUNT         141776 non-null float64\n",
      "MAJOR_INJURY          141776 non-null float64\n",
      "MAX_SEVERITY_LEVEL    141776 non-null float64\n",
      "VEHICLE_COUNT         141776 non-null float64\n",
      "STREET_NAME           141776 non-null object\n",
      "datetime              141776 non-null datetime64[ns]\n",
      "ecef                  141776 non-null object\n",
      "sensor_distance       141776 non-null float64\n",
      "traffic               141776 non-null float64\n",
      "max_traffic           141776 non-null float64\n",
      "severity              141776 non-null float64\n",
      "danger                141776 non-null float64\n",
      "dtypes: datetime64[ns](1), float64(25), object(2)\n",
      "memory usage: 31.4+ MB\n"
     ]
    }
   ],
   "source": [
    "crash_sev_loc_cond.info()"
   ]
  },
  {
   "cell_type": "code",
   "execution_count": 30,
   "metadata": {
    "collapsed": true
   },
   "outputs": [],
   "source": [
    "weather_di = {1:'No adverse conditions',\n",
    "              2: 'Rain',\n",
    "              3: 'Sleet (hail)',\n",
    "              4: 'Snow',\n",
    "              5: 'Fog',\n",
    "              6: 'Rain and fog',\n",
    "              7: 'Sleet and fog',\n",
    "              8: 'Other',\n",
    "              9: np.NaN}\n",
    "illumination_di = {1: 'Daylight',\n",
    "                   2: 'Dark - no street lights',\n",
    "                   3: 'Dark - street lights',\n",
    "                   4: 'Dusk',\n",
    "                   5: 'Dawn',\n",
    "                   6: 'Dark - unknown roadway lighting',\n",
    "                   8: 'Other',\n",
    "                   9: np.NaN}\n",
    "intersect_di = {0: 'Mid-block',\n",
    "                1: 'Four way intersection',\n",
    "                2: 'T intersection',\n",
    "                3: 'Y intersection',\n",
    "                4: 'Traffic circle/Round about',\n",
    "                5: 'Multi-leg intersection',\n",
    "                6: 'On ramp',\n",
    "                7: 'Off ramp',\n",
    "                8: 'Crossover',\n",
    "                9: 'Railroad crossing',\n",
    "                10: 'Other',\n",
    "                99: np.NaN}\n",
    "location_di = {0: 'Not applicable',\n",
    "               1: 'Underpass',\n",
    "               2: 'Ramp',\n",
    "               3: 'Bridge',\n",
    "               4: 'Tunnel',\n",
    "               5: 'Toll Booth',\n",
    "               6: 'Cross over related',\n",
    "               7: 'Driveway or Parking Lot',\n",
    "               8: 'Ramp and bridge',\n",
    "               9: np.NaN}\n",
    "relation_di = {1: 'On roadway',\n",
    "               2: 'Shoulder',\n",
    "               3: 'Median',\n",
    "               4: 'Roadside',\n",
    "               5: 'Outside trafficway',\n",
    "               6: 'In parking lane',\n",
    "               7: 'Gore',\n",
    "               9: np.NaN}\n",
    "# Gore is intersection of ramp and highway\n",
    "road_cond = {0: 'Dry',\n",
    "             1: 'Wet',\n",
    "             2: 'Sand/mud/dirt/oil/gravel',\n",
    "             3: 'Snow covered',\n",
    "             4: 'Slush',\n",
    "             5: 'Ice', \n",
    "             6: 'Ice Patches',\n",
    "             7: 'Water - standing/moving',\n",
    "             8: 'Other',\n",
    "             9: np.NaN}\n",
    "tcdtype_di = {0: np.NaN,\n",
    "              1: 'Flashing traffic signal',\n",
    "              2: 'Traffic signal',\n",
    "              3: 'Stop sign',\n",
    "              4: 'Yield sign',\n",
    "              5: 'Active RR crossing controls',\n",
    "              6: 'Passive RR crossing controls',\n",
    "              7: 'Police officer or flagman',\n",
    "              8: 'Other type TCD'}"
   ]
  },
  {
   "cell_type": "code",
   "execution_count": 31,
   "metadata": {
    "collapsed": false
   },
   "outputs": [
    {
     "data": {
      "text/html": [
       "<div>\n",
       "<style>\n",
       "    .dataframe thead tr:only-child th {\n",
       "        text-align: right;\n",
       "    }\n",
       "\n",
       "    .dataframe thead th {\n",
       "        text-align: left;\n",
       "    }\n",
       "\n",
       "    .dataframe tbody tr th {\n",
       "        vertical-align: top;\n",
       "    }\n",
       "</style>\n",
       "<table border=\"1\" class=\"dataframe\">\n",
       "  <thead>\n",
       "    <tr style=\"text-align: right;\">\n",
       "      <th></th>\n",
       "      <th>WEATHER</th>\n",
       "      <th>ILLUMINATION</th>\n",
       "      <th>INTERSECT_TYPE</th>\n",
       "      <th>LOCATION_TYPE</th>\n",
       "      <th>RELATION_TO_ROAD</th>\n",
       "      <th>ROAD_CONDITION</th>\n",
       "      <th>SPEED_LIMIT</th>\n",
       "      <th>TCD_FUNC_CD</th>\n",
       "      <th>TCD_TYPE</th>\n",
       "      <th>DEC_LAT</th>\n",
       "      <th>...</th>\n",
       "      <th>max_traffic</th>\n",
       "      <th>severity</th>\n",
       "      <th>danger</th>\n",
       "      <th>WEATHER_DES</th>\n",
       "      <th>ILLUMINATION_DES</th>\n",
       "      <th>INTERSECT_DES</th>\n",
       "      <th>LOCATION_DES</th>\n",
       "      <th>ROAD_RELATION_DES</th>\n",
       "      <th>ROAD_CONDITION_DES</th>\n",
       "      <th>TCD_DES</th>\n",
       "    </tr>\n",
       "  </thead>\n",
       "  <tbody>\n",
       "    <tr>\n",
       "      <th>0</th>\n",
       "      <td>1.0</td>\n",
       "      <td>2.0</td>\n",
       "      <td>0.0</td>\n",
       "      <td>0.0</td>\n",
       "      <td>2.0</td>\n",
       "      <td>0.0</td>\n",
       "      <td>35.0</td>\n",
       "      <td>0.0</td>\n",
       "      <td>0.0</td>\n",
       "      <td>40.3234</td>\n",
       "      <td>...</td>\n",
       "      <td>816.0</td>\n",
       "      <td>1.0</td>\n",
       "      <td>0.000008</td>\n",
       "      <td>No adverse conditions</td>\n",
       "      <td>Dark - no street lights</td>\n",
       "      <td>Mid-block</td>\n",
       "      <td>Not applicable</td>\n",
       "      <td>Shoulder</td>\n",
       "      <td>Dry</td>\n",
       "      <td>NaN</td>\n",
       "    </tr>\n",
       "    <tr>\n",
       "      <th>1</th>\n",
       "      <td>1.0</td>\n",
       "      <td>1.0</td>\n",
       "      <td>0.0</td>\n",
       "      <td>0.0</td>\n",
       "      <td>5.0</td>\n",
       "      <td>6.0</td>\n",
       "      <td>35.0</td>\n",
       "      <td>0.0</td>\n",
       "      <td>0.0</td>\n",
       "      <td>40.3182</td>\n",
       "      <td>...</td>\n",
       "      <td>960.0</td>\n",
       "      <td>2.0</td>\n",
       "      <td>0.000009</td>\n",
       "      <td>No adverse conditions</td>\n",
       "      <td>Daylight</td>\n",
       "      <td>Mid-block</td>\n",
       "      <td>Not applicable</td>\n",
       "      <td>Outside trafficway</td>\n",
       "      <td>Ice Patches</td>\n",
       "      <td>NaN</td>\n",
       "    </tr>\n",
       "    <tr>\n",
       "      <th>2</th>\n",
       "      <td>1.0</td>\n",
       "      <td>2.0</td>\n",
       "      <td>3.0</td>\n",
       "      <td>0.0</td>\n",
       "      <td>5.0</td>\n",
       "      <td>0.0</td>\n",
       "      <td>35.0</td>\n",
       "      <td>3.0</td>\n",
       "      <td>3.0</td>\n",
       "      <td>40.4886</td>\n",
       "      <td>...</td>\n",
       "      <td>21.0</td>\n",
       "      <td>2.0</td>\n",
       "      <td>0.000022</td>\n",
       "      <td>No adverse conditions</td>\n",
       "      <td>Dark - no street lights</td>\n",
       "      <td>Y intersection</td>\n",
       "      <td>Not applicable</td>\n",
       "      <td>Outside trafficway</td>\n",
       "      <td>Dry</td>\n",
       "      <td>Stop sign</td>\n",
       "    </tr>\n",
       "    <tr>\n",
       "      <th>3</th>\n",
       "      <td>1.0</td>\n",
       "      <td>2.0</td>\n",
       "      <td>3.0</td>\n",
       "      <td>0.0</td>\n",
       "      <td>5.0</td>\n",
       "      <td>0.0</td>\n",
       "      <td>35.0</td>\n",
       "      <td>3.0</td>\n",
       "      <td>3.0</td>\n",
       "      <td>40.4886</td>\n",
       "      <td>...</td>\n",
       "      <td>1153.0</td>\n",
       "      <td>2.0</td>\n",
       "      <td>0.000033</td>\n",
       "      <td>No adverse conditions</td>\n",
       "      <td>Dark - no street lights</td>\n",
       "      <td>Y intersection</td>\n",
       "      <td>Not applicable</td>\n",
       "      <td>Outside trafficway</td>\n",
       "      <td>Dry</td>\n",
       "      <td>Stop sign</td>\n",
       "    </tr>\n",
       "    <tr>\n",
       "      <th>4</th>\n",
       "      <td>1.0</td>\n",
       "      <td>2.0</td>\n",
       "      <td>3.0</td>\n",
       "      <td>0.0</td>\n",
       "      <td>5.0</td>\n",
       "      <td>0.0</td>\n",
       "      <td>35.0</td>\n",
       "      <td>3.0</td>\n",
       "      <td>3.0</td>\n",
       "      <td>40.4886</td>\n",
       "      <td>...</td>\n",
       "      <td>21.0</td>\n",
       "      <td>2.0</td>\n",
       "      <td>0.000024</td>\n",
       "      <td>No adverse conditions</td>\n",
       "      <td>Dark - no street lights</td>\n",
       "      <td>Y intersection</td>\n",
       "      <td>Not applicable</td>\n",
       "      <td>Outside trafficway</td>\n",
       "      <td>Dry</td>\n",
       "      <td>Stop sign</td>\n",
       "    </tr>\n",
       "  </tbody>\n",
       "</table>\n",
       "<p>5 rows × 35 columns</p>\n",
       "</div>"
      ],
      "text/plain": [
       "   WEATHER  ILLUMINATION  INTERSECT_TYPE  LOCATION_TYPE  RELATION_TO_ROAD  \\\n",
       "0      1.0           2.0             0.0            0.0               2.0   \n",
       "1      1.0           1.0             0.0            0.0               5.0   \n",
       "2      1.0           2.0             3.0            0.0               5.0   \n",
       "3      1.0           2.0             3.0            0.0               5.0   \n",
       "4      1.0           2.0             3.0            0.0               5.0   \n",
       "\n",
       "   ROAD_CONDITION  SPEED_LIMIT  TCD_FUNC_CD  TCD_TYPE  DEC_LAT    ...      \\\n",
       "0             0.0         35.0          0.0       0.0  40.3234    ...       \n",
       "1             6.0         35.0          0.0       0.0  40.3182    ...       \n",
       "2             0.0         35.0          3.0       3.0  40.4886    ...       \n",
       "3             0.0         35.0          3.0       3.0  40.4886    ...       \n",
       "4             0.0         35.0          3.0       3.0  40.4886    ...       \n",
       "\n",
       "   max_traffic  severity    danger            WEATHER_DES  \\\n",
       "0        816.0       1.0  0.000008  No adverse conditions   \n",
       "1        960.0       2.0  0.000009  No adverse conditions   \n",
       "2         21.0       2.0  0.000022  No adverse conditions   \n",
       "3       1153.0       2.0  0.000033  No adverse conditions   \n",
       "4         21.0       2.0  0.000024  No adverse conditions   \n",
       "\n",
       "          ILLUMINATION_DES   INTERSECT_DES    LOCATION_DES  \\\n",
       "0  Dark - no street lights       Mid-block  Not applicable   \n",
       "1                 Daylight       Mid-block  Not applicable   \n",
       "2  Dark - no street lights  Y intersection  Not applicable   \n",
       "3  Dark - no street lights  Y intersection  Not applicable   \n",
       "4  Dark - no street lights  Y intersection  Not applicable   \n",
       "\n",
       "    ROAD_RELATION_DES  ROAD_CONDITION_DES    TCD_DES  \n",
       "0            Shoulder                 Dry        NaN  \n",
       "1  Outside trafficway         Ice Patches        NaN  \n",
       "2  Outside trafficway                 Dry  Stop sign  \n",
       "3  Outside trafficway                 Dry  Stop sign  \n",
       "4  Outside trafficway                 Dry  Stop sign  \n",
       "\n",
       "[5 rows x 35 columns]"
      ]
     },
     "execution_count": 31,
     "metadata": {},
     "output_type": "execute_result"
    }
   ],
   "source": [
    "crash_sev_loc_cond['WEATHER_DES'] = crash_sev_loc_cond.WEATHER.map(weather_di)\n",
    "crash_sev_loc_cond['ILLUMINATION_DES'] = crash_sev_loc_cond.ILLUMINATION.map(illumination_di)\n",
    "crash_sev_loc_cond['INTERSECT_DES'] = crash_sev_loc_cond.INTERSECT_TYPE.map(intersect_di)\n",
    "crash_sev_loc_cond['LOCATION_DES'] = crash_sev_loc_cond.LOCATION_TYPE.map(location_di)\n",
    "crash_sev_loc_cond['ROAD_RELATION_DES'] = crash_sev_loc_cond.RELATION_TO_ROAD.map(relation_di)\n",
    "crash_sev_loc_cond['ROAD_CONDITION_DES'] = crash_sev_loc_cond.ROAD_CONDITION.map(road_cond)\n",
    "crash_sev_loc_cond['TCD_DES'] = crash_sev_loc_cond.TCD_TYPE.map(tcdtype_di)\n",
    "crash_sev_loc_cond.head()"
   ]
  },
  {
   "cell_type": "code",
   "execution_count": 32,
   "metadata": {
    "collapsed": false
   },
   "outputs": [
    {
     "data": {
      "text/html": [
       "<div>\n",
       "<style>\n",
       "    .dataframe thead tr:only-child th {\n",
       "        text-align: right;\n",
       "    }\n",
       "\n",
       "    .dataframe thead th {\n",
       "        text-align: left;\n",
       "    }\n",
       "\n",
       "    .dataframe tbody tr th {\n",
       "        vertical-align: top;\n",
       "    }\n",
       "</style>\n",
       "<table border=\"1\" class=\"dataframe\">\n",
       "  <thead>\n",
       "    <tr style=\"text-align: right;\">\n",
       "      <th></th>\n",
       "      <th>severity</th>\n",
       "      <th>traffic</th>\n",
       "      <th>frequency</th>\n",
       "    </tr>\n",
       "    <tr>\n",
       "      <th>SPEED_LIMIT</th>\n",
       "      <th></th>\n",
       "      <th></th>\n",
       "      <th></th>\n",
       "    </tr>\n",
       "  </thead>\n",
       "  <tbody>\n",
       "    <tr>\n",
       "      <th>0.0</th>\n",
       "      <td>536.0</td>\n",
       "      <td>1.245512e+05</td>\n",
       "      <td>326</td>\n",
       "    </tr>\n",
       "    <tr>\n",
       "      <th>10.0</th>\n",
       "      <td>131.0</td>\n",
       "      <td>3.438733e+04</td>\n",
       "      <td>83</td>\n",
       "    </tr>\n",
       "    <tr>\n",
       "      <th>15.0</th>\n",
       "      <td>2810.0</td>\n",
       "      <td>6.012572e+05</td>\n",
       "      <td>1673</td>\n",
       "    </tr>\n",
       "    <tr>\n",
       "      <th>20.0</th>\n",
       "      <td>915.0</td>\n",
       "      <td>2.177248e+05</td>\n",
       "      <td>586</td>\n",
       "    </tr>\n",
       "    <tr>\n",
       "      <th>25.0</th>\n",
       "      <td>79527.0</td>\n",
       "      <td>1.760770e+07</td>\n",
       "      <td>48456</td>\n",
       "    </tr>\n",
       "    <tr>\n",
       "      <th>30.0</th>\n",
       "      <td>7628.0</td>\n",
       "      <td>1.468072e+06</td>\n",
       "      <td>4350</td>\n",
       "    </tr>\n",
       "    <tr>\n",
       "      <th>35.0</th>\n",
       "      <td>65702.0</td>\n",
       "      <td>1.485083e+07</td>\n",
       "      <td>37308</td>\n",
       "    </tr>\n",
       "    <tr>\n",
       "      <th>40.0</th>\n",
       "      <td>27182.0</td>\n",
       "      <td>5.759414e+06</td>\n",
       "      <td>14313</td>\n",
       "    </tr>\n",
       "    <tr>\n",
       "      <th>45.0</th>\n",
       "      <td>13711.0</td>\n",
       "      <td>2.856222e+06</td>\n",
       "      <td>7378</td>\n",
       "    </tr>\n",
       "    <tr>\n",
       "      <th>50.0</th>\n",
       "      <td>2119.0</td>\n",
       "      <td>4.313546e+05</td>\n",
       "      <td>1069</td>\n",
       "    </tr>\n",
       "    <tr>\n",
       "      <th>55.0</th>\n",
       "      <td>29260.0</td>\n",
       "      <td>6.542106e+06</td>\n",
       "      <td>17396</td>\n",
       "    </tr>\n",
       "    <tr>\n",
       "      <th>60.0</th>\n",
       "      <td>2.0</td>\n",
       "      <td>1.515000e+02</td>\n",
       "      <td>1</td>\n",
       "    </tr>\n",
       "    <tr>\n",
       "      <th>65.0</th>\n",
       "      <td>3495.0</td>\n",
       "      <td>7.377212e+05</td>\n",
       "      <td>2347</td>\n",
       "    </tr>\n",
       "  </tbody>\n",
       "</table>\n",
       "</div>"
      ],
      "text/plain": [
       "             severity       traffic  frequency\n",
       "SPEED_LIMIT                                   \n",
       "0.0             536.0  1.245512e+05        326\n",
       "10.0            131.0  3.438733e+04         83\n",
       "15.0           2810.0  6.012572e+05       1673\n",
       "20.0            915.0  2.177248e+05        586\n",
       "25.0          79527.0  1.760770e+07      48456\n",
       "30.0           7628.0  1.468072e+06       4350\n",
       "35.0          65702.0  1.485083e+07      37308\n",
       "40.0          27182.0  5.759414e+06      14313\n",
       "45.0          13711.0  2.856222e+06       7378\n",
       "50.0           2119.0  4.313546e+05       1069\n",
       "55.0          29260.0  6.542106e+06      17396\n",
       "60.0              2.0  1.515000e+02          1\n",
       "65.0           3495.0  7.377212e+05       2347"
      ]
     },
     "execution_count": 32,
     "metadata": {},
     "output_type": "execute_result"
    },
    {
     "data": {
      "image/png": "[encoded data removed]",
      "text/plain": [
       "<matplotlib.figure.Figure at 0x202e02292b0>"
      ]
     },
     "metadata": {},
     "output_type": "display_data"
    }
   ],
   "source": [
    "speed = crash_sev_loc_cond.groupby('SPEED_LIMIT').sum()\n",
    "speed_frequency = crash_sev_loc_cond.groupby('SPEED_LIMIT').size()\n",
    "speed.loc[:,['severity', 'traffic']]\n",
    "s = (speed_frequency*speed.severity)/(speed.traffic * 4728)\n",
    "r = (speed_frequency)/(speed.traffic * 4728)\n",
    "s.plot(kind = 'bar')\n",
    "speed['frequency'] = speed_frequency\n",
    "speed.loc[:,['severity', 'traffic','frequency']]"
   ]
  },
  {
   "cell_type": "code",
   "execution_count": 41,
   "metadata": {
    "collapsed": false,
    "scrolled": true
   },
   "outputs": [
    {
     "data": {
      "text/plain": [
       "<matplotlib.text.Text at 0x202e27b0080>"
      ]
     },
     "execution_count": 41,
     "metadata": {},
     "output_type": "execute_result"
    },
    {
     "data": {
      "image/png": "[encoded data removed]",
      "text/plain": [
       "<matplotlib.figure.Figure at 0x202e29ec6a0>"
      ]
     },
     "metadata": {},
     "output_type": "display_data"
    }
   ],
   "source": [
    "crash_sev_loc_cond.groupby('SPEED_LIMIT').mean().danger.plot(kind = 'bar')\n",
    "plt.title('Average Severity of Crashes for different Speed Limits')"
   ]
  },
  {
   "cell_type": "code",
   "execution_count": 34,
   "metadata": {
    "collapsed": false,
    "scrolled": false
   },
   "outputs": [
    {
     "data": {
      "text/plain": [
       "<matplotlib.axes._subplots.AxesSubplot at 0x202e023a978>"
      ]
     },
     "execution_count": 34,
     "metadata": {},
     "output_type": "execute_result"
    },
    {
     "data": {
      "image/png": "[encoded data removed]",
      "text/plain": [
       "<matplotlib.figure.Figure at 0x202e20b3908>"
      ]
     },
     "metadata": {},
     "output_type": "display_data"
    }
   ],
   "source": [
    "crash_sev_loc_cond.groupby('ILLUMINATION_DES').mean().severity.plot(kind = 'bar')"
   ]
  },
  {
   "cell_type": "code",
   "execution_count": 42,
   "metadata": {
    "collapsed": false
   },
   "outputs": [
    {
     "data": {
      "text/plain": [
       "<matplotlib.axes._subplots.AxesSubplot at 0x202e29ec080>"
      ]
     },
     "execution_count": 42,
     "metadata": {},
     "output_type": "execute_result"
    },
    {
     "data": {
      "image/png": "[encoded data removed]",
      "text/plain": [
       "<matplotlib.figure.Figure at 0x202e2c895f8>"
      ]
     },
     "metadata": {},
     "output_type": "display_data"
    }
   ],
   "source": [
    "crash_sev_loc_cond.groupby('ILLUMINATION_DES').mean().danger.plot(kind = 'bar')"
   ]
  },
  {
   "cell_type": "code",
   "execution_count": 35,
   "metadata": {
    "collapsed": false,
    "scrolled": false
   },
   "outputs": [
    {
     "data": {
      "text/plain": [
       "<matplotlib.axes._subplots.AxesSubplot at 0x202e1abb588>"
      ]
     },
     "execution_count": 35,
     "metadata": {},
     "output_type": "execute_result"
    },
    {
     "data": {
      "image/png": "[encoded data removed]",
      "text/plain": [
       "<matplotlib.figure.Figure at 0x202e1aa9d30>"
      ]
     },
     "metadata": {},
     "output_type": "display_data"
    }
   ],
   "source": [
    "crash_sev_loc_cond.groupby('TCD_DES').mean().severity.plot(kind = 'bar')"
   ]
  },
  {
   "cell_type": "code",
   "execution_count": 43,
   "metadata": {
    "collapsed": false
   },
   "outputs": [
    {
     "data": {
      "text/plain": [
       "<matplotlib.axes._subplots.AxesSubplot at 0x20282785b00>"
      ]
     },
     "execution_count": 43,
     "metadata": {},
     "output_type": "execute_result"
    },
    {
     "data": {
      "image/png": "[encoded data removed]",
      "text/plain": [
       "<matplotlib.figure.Figure at 0x202e2c67080>"
      ]
     },
     "metadata": {},
     "output_type": "display_data"
    }
   ],
   "source": [
    "crash_sev_loc_cond.groupby('TCD_DES').mean().danger.plot(kind = 'bar')"
   ]
  },
  {
   "cell_type": "code",
   "execution_count": 36,
   "metadata": {
    "collapsed": false,
    "scrolled": false
   },
   "outputs": [
    {
     "data": {
      "text/plain": [
       "<matplotlib.axes._subplots.AxesSubplot at 0x202e2d6e588>"
      ]
     },
     "execution_count": 36,
     "metadata": {},
     "output_type": "execute_result"
    },
    {
     "data": {
      "image/png": "[encoded data removed]",
      "text/plain": [
       "<matplotlib.figure.Figure at 0x202e2604f28>"
      ]
     },
     "metadata": {},
     "output_type": "display_data"
    }
   ],
   "source": [
    "crash_sev_loc_cond.groupby('ROAD_CONDITION_DES').mean().severity.plot(kind = 'bar')"
   ]
  },
  {
   "cell_type": "code",
   "execution_count": 44,
   "metadata": {
    "collapsed": false,
    "scrolled": true
   },
   "outputs": [
    {
     "data": {
      "text/plain": [
       "<matplotlib.axes._subplots.AxesSubplot at 0x202e3ea1ba8>"
      ]
     },
     "execution_count": 44,
     "metadata": {},
     "output_type": "execute_result"
    },
    {
     "data": {
      "image/png": "[encoded data removed]",
      "text/plain": [
       "<matplotlib.figure.Figure at 0x202e1a8eba8>"
      ]
     },
     "metadata": {},
     "output_type": "display_data"
    }
   ],
   "source": [
    "crash_sev_loc_cond.groupby('ROAD_CONDITION_DES').mean().danger.plot(kind = 'bar')"
   ]
  },
  {
   "cell_type": "code",
   "execution_count": 37,
   "metadata": {
    "collapsed": false,
    "scrolled": false
   },
   "outputs": [
    {
     "data": {
      "text/plain": [
       "<matplotlib.axes._subplots.AxesSubplot at 0x202e2802898>"
      ]
     },
     "execution_count": 37,
     "metadata": {},
     "output_type": "execute_result"
    },
    {
     "data": {
      "image/png": "[encoded data removed]",
      "text/plain": [
       "<matplotlib.figure.Figure at 0x202e27ecb00>"
      ]
     },
     "metadata": {},
     "output_type": "display_data"
    }
   ],
   "source": [
    "crash_sev_loc_cond.groupby('ROAD_RELATION_DES').mean().severity.plot(kind = 'bar')"
   ]
  },
  {
   "cell_type": "code",
   "execution_count": 45,
   "metadata": {
    "collapsed": false
   },
   "outputs": [
    {
     "data": {
      "text/plain": [
       "<matplotlib.axes._subplots.AxesSubplot at 0x202e1bcf9b0>"
      ]
     },
     "execution_count": 45,
     "metadata": {},
     "output_type": "execute_result"
    },
    {
     "data": {
      "image/png": "[encoded data removed]",
      "text/plain": [
       "<matplotlib.figure.Figure at 0x202e2441ac8>"
      ]
     },
     "metadata": {},
     "output_type": "display_data"
    }
   ],
   "source": [
    "crash_sev_loc_cond.groupby('ROAD_RELATION_DES').mean().danger.plot(kind = 'bar')"
   ]
  },
  {
   "cell_type": "code",
   "execution_count": 38,
   "metadata": {
    "collapsed": false,
    "scrolled": false
   },
   "outputs": [
    {
     "data": {
      "text/plain": [
       "<matplotlib.axes._subplots.AxesSubplot at 0x202e26a30b8>"
      ]
     },
     "execution_count": 38,
     "metadata": {},
     "output_type": "execute_result"
    },
    {
     "data": {
      "image/png": "[encoded data removed]",
      "text/plain": [
       "<matplotlib.figure.Figure at 0x202e471fc50>"
      ]
     },
     "metadata": {},
     "output_type": "display_data"
    }
   ],
   "source": [
    "crash_sev_loc_cond.groupby('INTERSECT_DES').mean().severity.plot(kind = 'bar')"
   ]
  },
  {
   "cell_type": "code",
   "execution_count": 46,
   "metadata": {
    "collapsed": false
   },
   "outputs": [
    {
     "data": {
      "text/plain": [
       "<matplotlib.axes._subplots.AxesSubplot at 0x202e3f4f0f0>"
      ]
     },
     "execution_count": 46,
     "metadata": {},
     "output_type": "execute_result"
    },
    {
     "data": {
      "image/png": "[encoded data removed]",
      "text/plain": [
       "<matplotlib.figure.Figure at 0x202e4021d30>"
      ]
     },
     "metadata": {},
     "output_type": "display_data"
    }
   ],
   "source": [
    "crash_sev_loc_cond.groupby('INTERSECT_DES').mean().danger.plot(kind = 'bar')"
   ]
  },
  {
   "cell_type": "code",
   "execution_count": 39,
   "metadata": {
    "collapsed": false,
    "scrolled": false
   },
   "outputs": [
    {
     "data": {
      "text/plain": [
       "<matplotlib.axes._subplots.AxesSubplot at 0x202e45d7080>"
      ]
     },
     "execution_count": 39,
     "metadata": {},
     "output_type": "execute_result"
    },
    {
     "data": {
      "image/png": "[encoded data removed]",
      "text/plain": [
       "<matplotlib.figure.Figure at 0x202e4358940>"
      ]
     },
     "metadata": {},
     "output_type": "display_data"
    }
   ],
   "source": [
    "crash_sev_loc_cond.groupby('WEATHER_DES').mean().severity.plot(kind = 'bar')"
   ]
  },
  {
   "cell_type": "code",
   "execution_count": 74,
   "metadata": {
    "collapsed": false,
    "scrolled": true
   },
   "outputs": [
    {
     "data": {
      "text/plain": [
       "<matplotlib.axes._subplots.AxesSubplot at 0x20284a5ca58>"
      ]
     },
     "execution_count": 74,
     "metadata": {},
     "output_type": "execute_result"
    },
    {
     "data": {
      "image/png": "[encoded data removed]",
      "text/plain": [
       "<matplotlib.figure.Figure at 0x20281d6d898>"
      ]
     },
     "metadata": {},
     "output_type": "display_data"
    }
   ],
   "source": [
    "crash_sev_loc_cond.groupby('WEATHER_DES').mean().danger.plot(kind = 'bar')"
   ]
  },
  {
   "cell_type": "code",
   "execution_count": 48,
   "metadata": {
    "collapsed": true
   },
   "outputs": [],
   "source": [
    "danger_net = crash_sev_loc_cond.groupby('STREET_NAME').mean().danger"
   ]
  },
  {
   "cell_type": "code",
   "execution_count": 54,
   "metadata": {
    "collapsed": false,
    "scrolled": false
   },
   "outputs": [
    {
     "data": {
      "text/plain": [
       "STREET_NAME\n",
       "GILKESON RD    0.000006\n",
       "Name: danger, dtype: float64"
      ]
     },
     "execution_count": 54,
     "metadata": {},
     "output_type": "execute_result"
    }
   ],
   "source": [
    "danger_net[danger_net.index.str.startswith('GILKESON')]\n",
    "danger_net[danger_net.index.str.startswith('CEDAR BL')]\n",
    "danger_net[danger_net.index.str.startswith('COCHRAN RD')]\n",
    "danger_net[danger_net.index.str.startswith('BEVERLY RD')]\n",
    "danger_net[danger_net.index.str.startswith('BANKSVILLE')]"
   ]
  },
  {
   "cell_type": "code",
   "execution_count": 72,
   "metadata": {
    "collapsed": false
   },
   "outputs": [
    {
     "data": {
      "image/png": "[encoded data removed]",
      "text/plain": [
       "<matplotlib.figure.Figure at 0x202846040b8>"
      ]
     },
     "metadata": {},
     "output_type": "display_data"
    }
   ],
   "source": [
    "sns.distplot(crash_sev_loc_cond.groupby('STREET_NAME').sum().danger, bins = 500)\n",
    "plt.xscale('log')\n"
   ]
  },
  {
   "cell_type": "code",
   "execution_count": null,
   "metadata": {
    "collapsed": true
   },
   "outputs": [],
   "source": []
  },
  {
   "cell_type": "code",
   "execution_count": null,
   "metadata": {
    "collapsed": true
   },
   "outputs": [],
   "source": []
  },
  {
   "cell_type": "code",
   "execution_count": null,
   "metadata": {
    "collapsed": true
   },
   "outputs": [],
   "source": []
  }
 ],
 "metadata": {
  "kernelspec": {
   "display_name": "Python 3",
   "language": "python",
   "name": "python3"
  },
  "language_info": {
   "codemirror_mode": {
    "name": "ipython",
    "version": 3
   },
   "file_extension": ".py",
   "mimetype": "text/x-python",
   "name": "python",
   "nbconvert_exporter": "python",
   "pygments_lexer": "ipython3",
   "version": "3.6.0"
  }
 },
 "nbformat": 4,
 "nbformat_minor": 2
}
